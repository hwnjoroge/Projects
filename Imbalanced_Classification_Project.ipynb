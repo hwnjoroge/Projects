{
  "nbformat": 4,
  "nbformat_minor": 0,
  "metadata": {
    "colab": {
      "name": "FINAL Imbalanced Classification Project.ipynb",
      "provenance": [],
      "collapsed_sections": [],
      "toc_visible": true,
      "authorship_tag": "ABX9TyOHVTxw4CErgRpipypfQtP5",
      "include_colab_link": true
    },
    "kernelspec": {
      "name": "python3",
      "display_name": "Python 3"
    },
    "language_info": {
      "name": "python"
    }
  },
  "cells": [
    {
      "cell_type": "markdown",
      "metadata": {
        "id": "view-in-github",
        "colab_type": "text"
      },
      "source": [
        "<a href=\"https://colab.research.google.com/github/hwnjoroge/Projects/blob/main/Imbalanced_Classification_Project.ipynb\" target=\"_parent\"><img src=\"https://colab.research.google.com/assets/colab-badge.svg\" alt=\"Open In Colab\"/></a>"
      ]
    },
    {
      "cell_type": "markdown",
      "metadata": {
        "id": "pHwD00mBqcd0"
      },
      "source": [
        "#Problem Statement\n",
        "\n",
        "Beta Bank customers are leaving. The bankers\n",
        "figured out it’s cheaper to save the existing customers rather than to attract new ones.\n",
        "\n",
        "\n",
        "Task: Predict whether a customer will leave the bank soon using a model with the maximum possible F1 score. \n",
        "Required: an F1 score of at least 0.59 on the test dataset\n"
      ]
    },
    {
      "cell_type": "markdown",
      "metadata": {
        "id": "vQzosUxpQOvD"
      },
      "source": [
        "# Downloading the Data\n",
        "\n",
        "\n",
        "\n"
      ]
    },
    {
      "cell_type": "markdown",
      "metadata": {
        "id": "moved-baltimore"
      },
      "source": [
        "Importing required libraries"
      ]
    },
    {
      "cell_type": "code",
      "metadata": {
        "id": "KX4ihEc6So-M"
      },
      "source": [
        "import pandas as pd\n",
        "import numpy as np\n",
        "from sklearn.model_selection import train_test_split\n",
        "from sklearn.preprocessing import MinMaxScaler\n",
        "from sklearn.preprocessing import OneHotEncoder\n",
        "from sklearn.ensemble import RandomForestClassifier\n",
        "from sklearn.metrics import accuracy_score\n",
        "from sklearn.utils import shuffle\n",
        "from sklearn.utils import resample\n",
        "from sklearn.metrics import confusion_matrix\n",
        "from sklearn.metrics import f1_score\n",
        "from sklearn.linear_model import LogisticRegression\n",
        "\n",
        "from sklearn.metrics import roc_curve\n",
        "from sklearn.metrics import roc_auc_score"
      ],
      "execution_count": 321,
      "outputs": []
    },
    {
      "cell_type": "code",
      "metadata": {
        "id": "qX61fi2mS2KY"
      },
      "source": [
        "#loading the dataset\n",
        "credit_df = pd.read_csv('https://bit.ly/2XZK7Bo')\n"
      ],
      "execution_count": 187,
      "outputs": []
    },
    {
      "cell_type": "code",
      "metadata": {
        "colab": {
          "base_uri": "https://localhost:8080/",
          "height": 424
        },
        "id": "KtSgjUI3rCJN",
        "outputId": "942ee067-cd51-4608-be10-2b5f8b040950"
      },
      "source": [
        "#viewing the dataset\n",
        "credit_df"
      ],
      "execution_count": 188,
      "outputs": [
        {
          "output_type": "execute_result",
          "data": {
            "text/html": [
              "<div>\n",
              "<style scoped>\n",
              "    .dataframe tbody tr th:only-of-type {\n",
              "        vertical-align: middle;\n",
              "    }\n",
              "\n",
              "    .dataframe tbody tr th {\n",
              "        vertical-align: top;\n",
              "    }\n",
              "\n",
              "    .dataframe thead th {\n",
              "        text-align: right;\n",
              "    }\n",
              "</style>\n",
              "<table border=\"1\" class=\"dataframe\">\n",
              "  <thead>\n",
              "    <tr style=\"text-align: right;\">\n",
              "      <th></th>\n",
              "      <th>RowNumber</th>\n",
              "      <th>CustomerId</th>\n",
              "      <th>Surname</th>\n",
              "      <th>CreditScore</th>\n",
              "      <th>Geography</th>\n",
              "      <th>Gender</th>\n",
              "      <th>Age</th>\n",
              "      <th>Tenure</th>\n",
              "      <th>Balance</th>\n",
              "      <th>NumOfProducts</th>\n",
              "      <th>HasCrCard</th>\n",
              "      <th>IsActiveMember</th>\n",
              "      <th>EstimatedSalary</th>\n",
              "      <th>Exited</th>\n",
              "    </tr>\n",
              "  </thead>\n",
              "  <tbody>\n",
              "    <tr>\n",
              "      <th>0</th>\n",
              "      <td>1</td>\n",
              "      <td>15634602</td>\n",
              "      <td>Hargrave</td>\n",
              "      <td>619</td>\n",
              "      <td>France</td>\n",
              "      <td>Female</td>\n",
              "      <td>42</td>\n",
              "      <td>2.0</td>\n",
              "      <td>0.00</td>\n",
              "      <td>1</td>\n",
              "      <td>1</td>\n",
              "      <td>1</td>\n",
              "      <td>101348.88</td>\n",
              "      <td>1</td>\n",
              "    </tr>\n",
              "    <tr>\n",
              "      <th>1</th>\n",
              "      <td>2</td>\n",
              "      <td>15647311</td>\n",
              "      <td>Hill</td>\n",
              "      <td>608</td>\n",
              "      <td>Spain</td>\n",
              "      <td>Female</td>\n",
              "      <td>41</td>\n",
              "      <td>1.0</td>\n",
              "      <td>83807.86</td>\n",
              "      <td>1</td>\n",
              "      <td>0</td>\n",
              "      <td>1</td>\n",
              "      <td>112542.58</td>\n",
              "      <td>0</td>\n",
              "    </tr>\n",
              "    <tr>\n",
              "      <th>2</th>\n",
              "      <td>3</td>\n",
              "      <td>15619304</td>\n",
              "      <td>Onio</td>\n",
              "      <td>502</td>\n",
              "      <td>France</td>\n",
              "      <td>Female</td>\n",
              "      <td>42</td>\n",
              "      <td>8.0</td>\n",
              "      <td>159660.80</td>\n",
              "      <td>3</td>\n",
              "      <td>1</td>\n",
              "      <td>0</td>\n",
              "      <td>113931.57</td>\n",
              "      <td>1</td>\n",
              "    </tr>\n",
              "    <tr>\n",
              "      <th>3</th>\n",
              "      <td>4</td>\n",
              "      <td>15701354</td>\n",
              "      <td>Boni</td>\n",
              "      <td>699</td>\n",
              "      <td>France</td>\n",
              "      <td>Female</td>\n",
              "      <td>39</td>\n",
              "      <td>1.0</td>\n",
              "      <td>0.00</td>\n",
              "      <td>2</td>\n",
              "      <td>0</td>\n",
              "      <td>0</td>\n",
              "      <td>93826.63</td>\n",
              "      <td>0</td>\n",
              "    </tr>\n",
              "    <tr>\n",
              "      <th>4</th>\n",
              "      <td>5</td>\n",
              "      <td>15737888</td>\n",
              "      <td>Mitchell</td>\n",
              "      <td>850</td>\n",
              "      <td>Spain</td>\n",
              "      <td>Female</td>\n",
              "      <td>43</td>\n",
              "      <td>2.0</td>\n",
              "      <td>125510.82</td>\n",
              "      <td>1</td>\n",
              "      <td>1</td>\n",
              "      <td>1</td>\n",
              "      <td>79084.10</td>\n",
              "      <td>0</td>\n",
              "    </tr>\n",
              "    <tr>\n",
              "      <th>...</th>\n",
              "      <td>...</td>\n",
              "      <td>...</td>\n",
              "      <td>...</td>\n",
              "      <td>...</td>\n",
              "      <td>...</td>\n",
              "      <td>...</td>\n",
              "      <td>...</td>\n",
              "      <td>...</td>\n",
              "      <td>...</td>\n",
              "      <td>...</td>\n",
              "      <td>...</td>\n",
              "      <td>...</td>\n",
              "      <td>...</td>\n",
              "      <td>...</td>\n",
              "    </tr>\n",
              "    <tr>\n",
              "      <th>9995</th>\n",
              "      <td>9996</td>\n",
              "      <td>15606229</td>\n",
              "      <td>Obijiaku</td>\n",
              "      <td>771</td>\n",
              "      <td>France</td>\n",
              "      <td>Male</td>\n",
              "      <td>39</td>\n",
              "      <td>5.0</td>\n",
              "      <td>0.00</td>\n",
              "      <td>2</td>\n",
              "      <td>1</td>\n",
              "      <td>0</td>\n",
              "      <td>96270.64</td>\n",
              "      <td>0</td>\n",
              "    </tr>\n",
              "    <tr>\n",
              "      <th>9996</th>\n",
              "      <td>9997</td>\n",
              "      <td>15569892</td>\n",
              "      <td>Johnstone</td>\n",
              "      <td>516</td>\n",
              "      <td>France</td>\n",
              "      <td>Male</td>\n",
              "      <td>35</td>\n",
              "      <td>10.0</td>\n",
              "      <td>57369.61</td>\n",
              "      <td>1</td>\n",
              "      <td>1</td>\n",
              "      <td>1</td>\n",
              "      <td>101699.77</td>\n",
              "      <td>0</td>\n",
              "    </tr>\n",
              "    <tr>\n",
              "      <th>9997</th>\n",
              "      <td>9998</td>\n",
              "      <td>15584532</td>\n",
              "      <td>Liu</td>\n",
              "      <td>709</td>\n",
              "      <td>France</td>\n",
              "      <td>Female</td>\n",
              "      <td>36</td>\n",
              "      <td>7.0</td>\n",
              "      <td>0.00</td>\n",
              "      <td>1</td>\n",
              "      <td>0</td>\n",
              "      <td>1</td>\n",
              "      <td>42085.58</td>\n",
              "      <td>1</td>\n",
              "    </tr>\n",
              "    <tr>\n",
              "      <th>9998</th>\n",
              "      <td>9999</td>\n",
              "      <td>15682355</td>\n",
              "      <td>Sabbatini</td>\n",
              "      <td>772</td>\n",
              "      <td>Germany</td>\n",
              "      <td>Male</td>\n",
              "      <td>42</td>\n",
              "      <td>3.0</td>\n",
              "      <td>75075.31</td>\n",
              "      <td>2</td>\n",
              "      <td>1</td>\n",
              "      <td>0</td>\n",
              "      <td>92888.52</td>\n",
              "      <td>1</td>\n",
              "    </tr>\n",
              "    <tr>\n",
              "      <th>9999</th>\n",
              "      <td>10000</td>\n",
              "      <td>15628319</td>\n",
              "      <td>Walker</td>\n",
              "      <td>792</td>\n",
              "      <td>France</td>\n",
              "      <td>Female</td>\n",
              "      <td>28</td>\n",
              "      <td>NaN</td>\n",
              "      <td>130142.79</td>\n",
              "      <td>1</td>\n",
              "      <td>1</td>\n",
              "      <td>0</td>\n",
              "      <td>38190.78</td>\n",
              "      <td>0</td>\n",
              "    </tr>\n",
              "  </tbody>\n",
              "</table>\n",
              "<p>10000 rows × 14 columns</p>\n",
              "</div>"
            ],
            "text/plain": [
              "      RowNumber  CustomerId    Surname  CreditScore Geography  Gender  Age  \\\n",
              "0             1    15634602   Hargrave          619    France  Female   42   \n",
              "1             2    15647311       Hill          608     Spain  Female   41   \n",
              "2             3    15619304       Onio          502    France  Female   42   \n",
              "3             4    15701354       Boni          699    France  Female   39   \n",
              "4             5    15737888   Mitchell          850     Spain  Female   43   \n",
              "...         ...         ...        ...          ...       ...     ...  ...   \n",
              "9995       9996    15606229   Obijiaku          771    France    Male   39   \n",
              "9996       9997    15569892  Johnstone          516    France    Male   35   \n",
              "9997       9998    15584532        Liu          709    France  Female   36   \n",
              "9998       9999    15682355  Sabbatini          772   Germany    Male   42   \n",
              "9999      10000    15628319     Walker          792    France  Female   28   \n",
              "\n",
              "      Tenure    Balance  NumOfProducts  HasCrCard  IsActiveMember  \\\n",
              "0        2.0       0.00              1          1               1   \n",
              "1        1.0   83807.86              1          0               1   \n",
              "2        8.0  159660.80              3          1               0   \n",
              "3        1.0       0.00              2          0               0   \n",
              "4        2.0  125510.82              1          1               1   \n",
              "...      ...        ...            ...        ...             ...   \n",
              "9995     5.0       0.00              2          1               0   \n",
              "9996    10.0   57369.61              1          1               1   \n",
              "9997     7.0       0.00              1          0               1   \n",
              "9998     3.0   75075.31              2          1               0   \n",
              "9999     NaN  130142.79              1          1               0   \n",
              "\n",
              "      EstimatedSalary  Exited  \n",
              "0           101348.88       1  \n",
              "1           112542.58       0  \n",
              "2           113931.57       1  \n",
              "3            93826.63       0  \n",
              "4            79084.10       0  \n",
              "...               ...     ...  \n",
              "9995         96270.64       0  \n",
              "9996        101699.77       0  \n",
              "9997         42085.58       1  \n",
              "9998         92888.52       1  \n",
              "9999         38190.78       0  \n",
              "\n",
              "[10000 rows x 14 columns]"
            ]
          },
          "metadata": {},
          "execution_count": 188
        }
      ]
    },
    {
      "cell_type": "code",
      "metadata": {
        "colab": {
          "base_uri": "https://localhost:8080/"
        },
        "id": "w5e3VyQ_qhyW",
        "outputId": "5d778c2e-f0e1-472e-cb10-4b9c3837f9bd"
      },
      "source": [
        "credit_df.info()"
      ],
      "execution_count": 189,
      "outputs": [
        {
          "output_type": "stream",
          "name": "stdout",
          "text": [
            "<class 'pandas.core.frame.DataFrame'>\n",
            "RangeIndex: 10000 entries, 0 to 9999\n",
            "Data columns (total 14 columns):\n",
            " #   Column           Non-Null Count  Dtype  \n",
            "---  ------           --------------  -----  \n",
            " 0   RowNumber        10000 non-null  int64  \n",
            " 1   CustomerId       10000 non-null  int64  \n",
            " 2   Surname          10000 non-null  object \n",
            " 3   CreditScore      10000 non-null  int64  \n",
            " 4   Geography        10000 non-null  object \n",
            " 5   Gender           10000 non-null  object \n",
            " 6   Age              10000 non-null  int64  \n",
            " 7   Tenure           9091 non-null   float64\n",
            " 8   Balance          10000 non-null  float64\n",
            " 9   NumOfProducts    10000 non-null  int64  \n",
            " 10  HasCrCard        10000 non-null  int64  \n",
            " 11  IsActiveMember   10000 non-null  int64  \n",
            " 12  EstimatedSalary  10000 non-null  float64\n",
            " 13  Exited           10000 non-null  int64  \n",
            "dtypes: float64(3), int64(8), object(3)\n",
            "memory usage: 1.1+ MB\n"
          ]
        }
      ]
    },
    {
      "cell_type": "markdown",
      "metadata": {
        "id": "medium-prospect"
      },
      "source": [
        "\n",
        "The dataset contains 10000 rows and 14 columns.  \n",
        "\n",
        "one of the columns 'Tenure' contains missing values.\n",
        "\n",
        "3 of the columns 'Surname', 'Geography' and 'Gender' have string values while the rest of the columns are of type integer/float.\n",
        "\n"
      ]
    },
    {
      "cell_type": "code",
      "metadata": {
        "colab": {
          "base_uri": "https://localhost:8080/"
        },
        "id": "M44NI3FBrRXv",
        "outputId": "63dcf184-1fe2-4df0-a327-24aa0a692118"
      },
      "source": [
        "credit_df.duplicated(['CustomerId']).value_counts()"
      ],
      "execution_count": 190,
      "outputs": [
        {
          "output_type": "execute_result",
          "data": {
            "text/plain": [
              "False    10000\n",
              "dtype: int64"
            ]
          },
          "metadata": {},
          "execution_count": 190
        }
      ]
    },
    {
      "cell_type": "markdown",
      "metadata": {
        "id": "eKySPVMTv_Ct"
      },
      "source": [
        "\n",
        " Each row of the dataset contains information about one customer. "
      ]
    },
    {
      "cell_type": "code",
      "metadata": {
        "colab": {
          "base_uri": "https://localhost:8080/"
        },
        "id": "SVpYXhDirRaj",
        "outputId": "f6d296f2-c633-479b-cba8-743a90c49bb9"
      },
      "source": [
        "#examining the balance of the classes using the 'Exited' column\n",
        "class_0 = credit_df[credit_df['Exited'] == 0]\n",
        "class_1 = credit_df[credit_df['Exited'] == 1]\n",
        "\n",
        "#print the shapes of the classes\n",
        "print('class 0:', class_0.shape)\n",
        "print('class 1:', class_1.shape)\n"
      ],
      "execution_count": 191,
      "outputs": [
        {
          "output_type": "stream",
          "name": "stdout",
          "text": [
            "class 0: (7963, 14)\n",
            "class 1: (2037, 14)\n"
          ]
        }
      ]
    },
    {
      "cell_type": "code",
      "metadata": {
        "colab": {
          "base_uri": "https://localhost:8080/"
        },
        "id": "EmHL6oNL5sDr",
        "outputId": "e597cfc2-ca41-4de8-e100-64380d9dee53"
      },
      "source": [
        "#dropping the blank rows in the column'Tenure'\n",
        "\n",
        "credit_df.dropna(subset = [\"Tenure\"], inplace=True)\n",
        "credit_df.info()\n"
      ],
      "execution_count": 192,
      "outputs": [
        {
          "output_type": "stream",
          "name": "stdout",
          "text": [
            "<class 'pandas.core.frame.DataFrame'>\n",
            "Int64Index: 9091 entries, 0 to 9998\n",
            "Data columns (total 14 columns):\n",
            " #   Column           Non-Null Count  Dtype  \n",
            "---  ------           --------------  -----  \n",
            " 0   RowNumber        9091 non-null   int64  \n",
            " 1   CustomerId       9091 non-null   int64  \n",
            " 2   Surname          9091 non-null   object \n",
            " 3   CreditScore      9091 non-null   int64  \n",
            " 4   Geography        9091 non-null   object \n",
            " 5   Gender           9091 non-null   object \n",
            " 6   Age              9091 non-null   int64  \n",
            " 7   Tenure           9091 non-null   float64\n",
            " 8   Balance          9091 non-null   float64\n",
            " 9   NumOfProducts    9091 non-null   int64  \n",
            " 10  HasCrCard        9091 non-null   int64  \n",
            " 11  IsActiveMember   9091 non-null   int64  \n",
            " 12  EstimatedSalary  9091 non-null   float64\n",
            " 13  Exited           9091 non-null   int64  \n",
            "dtypes: float64(3), int64(8), object(3)\n",
            "memory usage: 1.0+ MB\n"
          ]
        }
      ]
    },
    {
      "cell_type": "code",
      "metadata": {
        "colab": {
          "base_uri": "https://localhost:8080/"
        },
        "id": "sCsex1CUnUbQ",
        "outputId": "172edab6-8757-4e00-95d3-fc46b060df98"
      },
      "source": [
        "#dropping the columns that will not be useful in our model ie -RowNumber,Surname and CustomerId\n",
        "credit_df = credit_df.drop(labels=['RowNumber', 'Surname', 'CustomerId'], axis=1)\n",
        "credit_df.info()"
      ],
      "execution_count": 193,
      "outputs": [
        {
          "output_type": "stream",
          "name": "stdout",
          "text": [
            "<class 'pandas.core.frame.DataFrame'>\n",
            "Int64Index: 9091 entries, 0 to 9998\n",
            "Data columns (total 11 columns):\n",
            " #   Column           Non-Null Count  Dtype  \n",
            "---  ------           --------------  -----  \n",
            " 0   CreditScore      9091 non-null   int64  \n",
            " 1   Geography        9091 non-null   object \n",
            " 2   Gender           9091 non-null   object \n",
            " 3   Age              9091 non-null   int64  \n",
            " 4   Tenure           9091 non-null   float64\n",
            " 5   Balance          9091 non-null   float64\n",
            " 6   NumOfProducts    9091 non-null   int64  \n",
            " 7   HasCrCard        9091 non-null   int64  \n",
            " 8   IsActiveMember   9091 non-null   int64  \n",
            " 9   EstimatedSalary  9091 non-null   float64\n",
            " 10  Exited           9091 non-null   int64  \n",
            "dtypes: float64(3), int64(6), object(2)\n",
            "memory usage: 852.3+ KB\n"
          ]
        }
      ]
    },
    {
      "cell_type": "markdown",
      "metadata": {
        "id": "tuIjGghhEEII"
      },
      "source": [
        "# Data Preparation \n",
        "\n",
        "\n"
      ]
    },
    {
      "cell_type": "markdown",
      "metadata": {
        "id": "FfTTxjQ8WGNo"
      },
      "source": [
        "###Training, Validation and Test Sets\n",
        "\n",
        "Splitting the Dataset \n",
        "\n",
        "We split our dataset into training, validation and test sets. 60% of the data for the training set, 20% for the validation set and 20% for the test set. \n",
        "\n",
        "We also set the random_state to 12345 to ensure reproducibility in the notebook."
      ]
    },
    {
      "cell_type": "code",
      "metadata": {
        "colab": {
          "base_uri": "https://localhost:8080/"
        },
        "id": "fKjWPuiBWGNq",
        "outputId": "5d2984de-c26d-4d0c-d5bc-6e66ae6696ba"
      },
      "source": [
        "# split the credit_df into train and test sets\n",
        "train_val_df, test_df = train_test_split(credit_df, test_size=0.2, random_state=12345)\n",
        "train_df, val_df = train_test_split(train_val_df, test_size=0.25, random_state=12345)\n",
        "print(train_df.shape, val_df.shape, test_df.shape)"
      ],
      "execution_count": 269,
      "outputs": [
        {
          "output_type": "stream",
          "name": "stdout",
          "text": [
            "(5454, 11) (1818, 11) (1819, 11)\n"
          ]
        }
      ]
    },
    {
      "cell_type": "markdown",
      "metadata": {
        "id": "O5JbAbQ0WGNq"
      },
      "source": [
        "### Identifying Input and Target Columns\n",
        "\n",
        "In this dataset, the target column 'Exited' was identified and omitted from the training data and the input columns "
      ]
    },
    {
      "cell_type": "code",
      "metadata": {
        "id": "7mW8_j68WGNq"
      },
      "source": [
        "input_columns = list(train_df.columns)[:-1]\n",
        "target_column = 'Exited'"
      ],
      "execution_count": 270,
      "outputs": []
    },
    {
      "cell_type": "code",
      "metadata": {
        "colab": {
          "base_uri": "https://localhost:8080/"
        },
        "id": "dGjIrBU4WGNr",
        "outputId": "7391e9e8-0e1a-40f8-c904-ea6e5fc9bf96"
      },
      "source": [
        "input_columns"
      ],
      "execution_count": 271,
      "outputs": [
        {
          "output_type": "execute_result",
          "data": {
            "text/plain": [
              "['CreditScore',\n",
              " 'Geography',\n",
              " 'Gender',\n",
              " 'Age',\n",
              " 'Tenure',\n",
              " 'Balance',\n",
              " 'NumOfProducts',\n",
              " 'HasCrCard',\n",
              " 'IsActiveMember',\n",
              " 'EstimatedSalary']"
            ]
          },
          "metadata": {},
          "execution_count": 271
        }
      ]
    },
    {
      "cell_type": "code",
      "metadata": {
        "colab": {
          "base_uri": "https://localhost:8080/",
          "height": 34
        },
        "id": "tdXEQR31WGNs",
        "outputId": "767514cc-22f9-4934-a516-4a0e1911f784"
      },
      "source": [
        "target_column"
      ],
      "execution_count": 272,
      "outputs": [
        {
          "output_type": "execute_result",
          "data": {
            "application/vnd.google.colaboratory.intrinsic+json": {
              "type": "string"
            },
            "text/plain": [
              "'Exited'"
            ]
          },
          "metadata": {},
          "execution_count": 272
        }
      ]
    },
    {
      "cell_type": "markdown",
      "metadata": {
        "id": "respiratory-sudan"
      },
      "source": [
        "We can now create inputs and targets for the training, validation and test sets for further processing and model training."
      ]
    },
    {
      "cell_type": "code",
      "metadata": {
        "id": "judicial-cloud"
      },
      "source": [
        "train_inputs = train_df[input_columns].copy() # this is a dataframe\n",
        "train_targets = train_df[target_column].copy() # this is a series"
      ],
      "execution_count": 273,
      "outputs": []
    },
    {
      "cell_type": "code",
      "metadata": {
        "id": "working-warren"
      },
      "source": [
        "val_inputs = val_df[input_columns].copy()\n",
        "val_targets = val_df[target_column].copy()"
      ],
      "execution_count": 274,
      "outputs": []
    },
    {
      "cell_type": "code",
      "metadata": {
        "id": "following-attention"
      },
      "source": [
        "test_inputs = test_df[input_columns].copy()\n",
        "test_targets = test_df[target_column].copy()"
      ],
      "execution_count": 275,
      "outputs": []
    },
    {
      "cell_type": "code",
      "metadata": {
        "colab": {
          "base_uri": "https://localhost:8080/",
          "height": 424
        },
        "id": "alike-china",
        "outputId": "32f78879-19c7-4170-a97c-2b3b9595a4a5"
      },
      "source": [
        "train_inputs"
      ],
      "execution_count": 201,
      "outputs": [
        {
          "output_type": "execute_result",
          "data": {
            "text/html": [
              "<div>\n",
              "<style scoped>\n",
              "    .dataframe tbody tr th:only-of-type {\n",
              "        vertical-align: middle;\n",
              "    }\n",
              "\n",
              "    .dataframe tbody tr th {\n",
              "        vertical-align: top;\n",
              "    }\n",
              "\n",
              "    .dataframe thead th {\n",
              "        text-align: right;\n",
              "    }\n",
              "</style>\n",
              "<table border=\"1\" class=\"dataframe\">\n",
              "  <thead>\n",
              "    <tr style=\"text-align: right;\">\n",
              "      <th></th>\n",
              "      <th>CreditScore</th>\n",
              "      <th>Geography</th>\n",
              "      <th>Gender</th>\n",
              "      <th>Age</th>\n",
              "      <th>Tenure</th>\n",
              "      <th>Balance</th>\n",
              "      <th>NumOfProducts</th>\n",
              "      <th>HasCrCard</th>\n",
              "      <th>IsActiveMember</th>\n",
              "      <th>EstimatedSalary</th>\n",
              "    </tr>\n",
              "  </thead>\n",
              "  <tbody>\n",
              "    <tr>\n",
              "      <th>3706</th>\n",
              "      <td>629</td>\n",
              "      <td>Spain</td>\n",
              "      <td>Female</td>\n",
              "      <td>44</td>\n",
              "      <td>6.0</td>\n",
              "      <td>125512.98</td>\n",
              "      <td>2</td>\n",
              "      <td>0</td>\n",
              "      <td>0</td>\n",
              "      <td>79082.76</td>\n",
              "    </tr>\n",
              "    <tr>\n",
              "      <th>6805</th>\n",
              "      <td>614</td>\n",
              "      <td>France</td>\n",
              "      <td>Female</td>\n",
              "      <td>35</td>\n",
              "      <td>1.0</td>\n",
              "      <td>0.00</td>\n",
              "      <td>2</td>\n",
              "      <td>1</td>\n",
              "      <td>1</td>\n",
              "      <td>3342.62</td>\n",
              "    </tr>\n",
              "    <tr>\n",
              "      <th>4449</th>\n",
              "      <td>666</td>\n",
              "      <td>France</td>\n",
              "      <td>Male</td>\n",
              "      <td>36</td>\n",
              "      <td>3.0</td>\n",
              "      <td>0.00</td>\n",
              "      <td>2</td>\n",
              "      <td>1</td>\n",
              "      <td>0</td>\n",
              "      <td>35156.54</td>\n",
              "    </tr>\n",
              "    <tr>\n",
              "      <th>598</th>\n",
              "      <td>683</td>\n",
              "      <td>Germany</td>\n",
              "      <td>Female</td>\n",
              "      <td>57</td>\n",
              "      <td>5.0</td>\n",
              "      <td>162448.69</td>\n",
              "      <td>1</td>\n",
              "      <td>0</td>\n",
              "      <td>0</td>\n",
              "      <td>9221.78</td>\n",
              "    </tr>\n",
              "    <tr>\n",
              "      <th>1845</th>\n",
              "      <td>737</td>\n",
              "      <td>France</td>\n",
              "      <td>Male</td>\n",
              "      <td>36</td>\n",
              "      <td>9.0</td>\n",
              "      <td>0.00</td>\n",
              "      <td>1</td>\n",
              "      <td>0</td>\n",
              "      <td>1</td>\n",
              "      <td>188670.90</td>\n",
              "    </tr>\n",
              "    <tr>\n",
              "      <th>...</th>\n",
              "      <td>...</td>\n",
              "      <td>...</td>\n",
              "      <td>...</td>\n",
              "      <td>...</td>\n",
              "      <td>...</td>\n",
              "      <td>...</td>\n",
              "      <td>...</td>\n",
              "      <td>...</td>\n",
              "      <td>...</td>\n",
              "      <td>...</td>\n",
              "    </tr>\n",
              "    <tr>\n",
              "      <th>8706</th>\n",
              "      <td>850</td>\n",
              "      <td>Spain</td>\n",
              "      <td>Female</td>\n",
              "      <td>55</td>\n",
              "      <td>7.0</td>\n",
              "      <td>0.00</td>\n",
              "      <td>1</td>\n",
              "      <td>0</td>\n",
              "      <td>0</td>\n",
              "      <td>171762.87</td>\n",
              "    </tr>\n",
              "    <tr>\n",
              "      <th>113</th>\n",
              "      <td>675</td>\n",
              "      <td>Spain</td>\n",
              "      <td>Male</td>\n",
              "      <td>36</td>\n",
              "      <td>9.0</td>\n",
              "      <td>106190.55</td>\n",
              "      <td>1</td>\n",
              "      <td>0</td>\n",
              "      <td>1</td>\n",
              "      <td>22994.32</td>\n",
              "    </tr>\n",
              "    <tr>\n",
              "      <th>4961</th>\n",
              "      <td>689</td>\n",
              "      <td>Germany</td>\n",
              "      <td>Male</td>\n",
              "      <td>45</td>\n",
              "      <td>0.0</td>\n",
              "      <td>130170.82</td>\n",
              "      <td>2</td>\n",
              "      <td>1</td>\n",
              "      <td>0</td>\n",
              "      <td>150856.38</td>\n",
              "    </tr>\n",
              "    <tr>\n",
              "      <th>2403</th>\n",
              "      <td>641</td>\n",
              "      <td>France</td>\n",
              "      <td>Female</td>\n",
              "      <td>26</td>\n",
              "      <td>4.0</td>\n",
              "      <td>91547.84</td>\n",
              "      <td>2</td>\n",
              "      <td>0</td>\n",
              "      <td>1</td>\n",
              "      <td>28157.34</td>\n",
              "    </tr>\n",
              "    <tr>\n",
              "      <th>208</th>\n",
              "      <td>643</td>\n",
              "      <td>France</td>\n",
              "      <td>Male</td>\n",
              "      <td>45</td>\n",
              "      <td>5.0</td>\n",
              "      <td>0.00</td>\n",
              "      <td>1</td>\n",
              "      <td>1</td>\n",
              "      <td>0</td>\n",
              "      <td>142513.50</td>\n",
              "    </tr>\n",
              "  </tbody>\n",
              "</table>\n",
              "<p>5454 rows × 10 columns</p>\n",
              "</div>"
            ],
            "text/plain": [
              "      CreditScore Geography  Gender  Age  Tenure    Balance  NumOfProducts  \\\n",
              "3706          629     Spain  Female   44     6.0  125512.98              2   \n",
              "6805          614    France  Female   35     1.0       0.00              2   \n",
              "4449          666    France    Male   36     3.0       0.00              2   \n",
              "598           683   Germany  Female   57     5.0  162448.69              1   \n",
              "1845          737    France    Male   36     9.0       0.00              1   \n",
              "...           ...       ...     ...  ...     ...        ...            ...   \n",
              "8706          850     Spain  Female   55     7.0       0.00              1   \n",
              "113           675     Spain    Male   36     9.0  106190.55              1   \n",
              "4961          689   Germany    Male   45     0.0  130170.82              2   \n",
              "2403          641    France  Female   26     4.0   91547.84              2   \n",
              "208           643    France    Male   45     5.0       0.00              1   \n",
              "\n",
              "      HasCrCard  IsActiveMember  EstimatedSalary  \n",
              "3706          0               0         79082.76  \n",
              "6805          1               1          3342.62  \n",
              "4449          1               0         35156.54  \n",
              "598           0               0          9221.78  \n",
              "1845          0               1        188670.90  \n",
              "...         ...             ...              ...  \n",
              "8706          0               0        171762.87  \n",
              "113           0               1         22994.32  \n",
              "4961          1               0        150856.38  \n",
              "2403          0               1         28157.34  \n",
              "208           1               0        142513.50  \n",
              "\n",
              "[5454 rows x 10 columns]"
            ]
          },
          "metadata": {},
          "execution_count": 201
        }
      ]
    },
    {
      "cell_type": "code",
      "metadata": {
        "colab": {
          "base_uri": "https://localhost:8080/"
        },
        "id": "variable-apache",
        "outputId": "fad798dd-a59c-42db-91c1-9489045fd9dc"
      },
      "source": [
        "train_targets"
      ],
      "execution_count": 276,
      "outputs": [
        {
          "output_type": "execute_result",
          "data": {
            "text/plain": [
              "3706    0\n",
              "6805    0\n",
              "4449    0\n",
              "598     1\n",
              "1845    1\n",
              "       ..\n",
              "8706    1\n",
              "113     0\n",
              "4961    0\n",
              "2403    0\n",
              "208     1\n",
              "Name: Exited, Length: 5454, dtype: int64"
            ]
          },
          "metadata": {},
          "execution_count": 276
        }
      ]
    },
    {
      "cell_type": "markdown",
      "metadata": {
        "id": "persistent-hybrid"
      },
      "source": [
        "Let's also identify which of the columns are numerical and which ones are categorical. This will be useful later, as we'll need to convert the categorical data to numbers for training the models"
      ]
    },
    {
      "cell_type": "code",
      "metadata": {
        "id": "hxhFi8txWfr8"
      },
      "source": [
        "numeric_cols = train_inputs.select_dtypes(include=np.number).columns.tolist()\n",
        "categorical_cols = train_inputs.select_dtypes('object').columns.tolist()"
      ],
      "execution_count": 277,
      "outputs": []
    },
    {
      "cell_type": "code",
      "metadata": {
        "colab": {
          "base_uri": "https://localhost:8080/"
        },
        "id": "11jeaWYwi4Pl",
        "outputId": "707ebdf4-c99c-443e-e213-0078a407a123"
      },
      "source": [
        "categorical_cols"
      ],
      "execution_count": 278,
      "outputs": [
        {
          "output_type": "execute_result",
          "data": {
            "text/plain": [
              "['Geography', 'Gender']"
            ]
          },
          "metadata": {},
          "execution_count": 278
        }
      ]
    },
    {
      "cell_type": "code",
      "metadata": {
        "colab": {
          "base_uri": "https://localhost:8080/"
        },
        "id": "mT0eLVGLiyJn",
        "outputId": "3ae208f2-1000-469d-af4d-2d7014f753fc"
      },
      "source": [
        "numeric_cols"
      ],
      "execution_count": 279,
      "outputs": [
        {
          "output_type": "execute_result",
          "data": {
            "text/plain": [
              "['CreditScore',\n",
              " 'Age',\n",
              " 'Tenure',\n",
              " 'Balance',\n",
              " 'NumOfProducts',\n",
              " 'HasCrCard',\n",
              " 'IsActiveMember',\n",
              " 'EstimatedSalary']"
            ]
          },
          "metadata": {},
          "execution_count": 279
        }
      ]
    },
    {
      "cell_type": "markdown",
      "metadata": {
        "id": "bwPUtcpZXw_O"
      },
      "source": [
        "### Scaling Numeric Features \n",
        "\n",
        "Scaling numeric features to ensure that no particular feature has a disproportionate impact on the model. \n",
        "The numeric columns in our dataset have varying ranges and will scaled to a small range of values between $(0,1)$ \n"
      ]
    },
    {
      "cell_type": "markdown",
      "metadata": {
        "id": "OIrrzi14XpXd"
      },
      "source": [
        "using `MinMaxScaler` from `sklearn.preprocessing` to scale values to the $(0,1)$ range."
      ]
    },
    {
      "cell_type": "code",
      "metadata": {
        "id": "daily-horse"
      },
      "source": [
        "scaler = MinMaxScaler()"
      ],
      "execution_count": 280,
      "outputs": []
    },
    {
      "cell_type": "markdown",
      "metadata": {
        "id": "satellite-ecology"
      },
      "source": [
        "First, we `fit` the scaler to the data i.e. compute the range of values for each numeric column."
      ]
    },
    {
      "cell_type": "code",
      "metadata": {
        "colab": {
          "base_uri": "https://localhost:8080/"
        },
        "id": "healthy-attention",
        "outputId": "a485d14b-d14f-4104-9cb5-2074bc489efb"
      },
      "source": [
        "scaler.fit(credit_df[numeric_cols])"
      ],
      "execution_count": 281,
      "outputs": [
        {
          "output_type": "execute_result",
          "data": {
            "text/plain": [
              "MinMaxScaler(copy=True, feature_range=(0, 1))"
            ]
          },
          "metadata": {},
          "execution_count": 281
        }
      ]
    },
    {
      "cell_type": "markdown",
      "metadata": {
        "id": "conservative-brooks"
      },
      "source": [
        "Checking the minimum and maximum values in each column."
      ]
    },
    {
      "cell_type": "code",
      "metadata": {
        "colab": {
          "base_uri": "https://localhost:8080/"
        },
        "id": "atlantic-scholarship",
        "outputId": "940500ec-207b-47e9-9872-ebd4ca8bb461"
      },
      "source": [
        "print('Minimum:')\n",
        "list(scaler.data_min_)"
      ],
      "execution_count": 282,
      "outputs": [
        {
          "output_type": "stream",
          "name": "stdout",
          "text": [
            "Minimum:\n"
          ]
        },
        {
          "output_type": "execute_result",
          "data": {
            "text/plain": [
              "[350.0, 18.0, 0.0, 0.0, 1.0, 0.0, 0.0, 11.58]"
            ]
          },
          "metadata": {},
          "execution_count": 282
        }
      ]
    },
    {
      "cell_type": "code",
      "metadata": {
        "colab": {
          "base_uri": "https://localhost:8080/"
        },
        "id": "champion-imaging",
        "outputId": "2b718600-3471-4085-b07a-ab38b17a617d"
      },
      "source": [
        "print('Maximum:')\n",
        "list(scaler.data_max_)"
      ],
      "execution_count": 283,
      "outputs": [
        {
          "output_type": "stream",
          "name": "stdout",
          "text": [
            "Maximum:\n"
          ]
        },
        {
          "output_type": "execute_result",
          "data": {
            "text/plain": [
              "[850.0, 92.0, 10.0, 250898.09, 4.0, 1.0, 1.0, 199992.48]"
            ]
          },
          "metadata": {},
          "execution_count": 283
        }
      ]
    },
    {
      "cell_type": "markdown",
      "metadata": {
        "id": "double-category"
      },
      "source": [
        "Separately scaling the training, validation and test sets using the `transform` method of `scaler`."
      ]
    },
    {
      "cell_type": "code",
      "metadata": {
        "id": "rocky-portfolio"
      },
      "source": [
        "train_inputs[numeric_cols] = scaler.transform(train_inputs[numeric_cols])\n",
        "val_inputs[numeric_cols] = scaler.transform(val_inputs[numeric_cols])\n",
        "test_inputs[numeric_cols] = scaler.transform(test_inputs[numeric_cols])"
      ],
      "execution_count": 285,
      "outputs": []
    },
    {
      "cell_type": "markdown",
      "metadata": {
        "id": "million-freeware"
      },
      "source": [
        "Verifying that values in each column lie in the range $(0,1)$"
      ]
    },
    {
      "cell_type": "code",
      "metadata": {
        "colab": {
          "base_uri": "https://localhost:8080/",
          "height": 300
        },
        "id": "asian-relay",
        "outputId": "b252f7cc-67c5-4f9d-b4b2-b1b4a09b9c74"
      },
      "source": [
        "train_inputs[numeric_cols].describe()"
      ],
      "execution_count": 286,
      "outputs": [
        {
          "output_type": "execute_result",
          "data": {
            "text/html": [
              "<div>\n",
              "<style scoped>\n",
              "    .dataframe tbody tr th:only-of-type {\n",
              "        vertical-align: middle;\n",
              "    }\n",
              "\n",
              "    .dataframe tbody tr th {\n",
              "        vertical-align: top;\n",
              "    }\n",
              "\n",
              "    .dataframe thead th {\n",
              "        text-align: right;\n",
              "    }\n",
              "</style>\n",
              "<table border=\"1\" class=\"dataframe\">\n",
              "  <thead>\n",
              "    <tr style=\"text-align: right;\">\n",
              "      <th></th>\n",
              "      <th>CreditScore</th>\n",
              "      <th>Age</th>\n",
              "      <th>Tenure</th>\n",
              "      <th>Balance</th>\n",
              "      <th>NumOfProducts</th>\n",
              "      <th>HasCrCard</th>\n",
              "      <th>IsActiveMember</th>\n",
              "      <th>EstimatedSalary</th>\n",
              "    </tr>\n",
              "  </thead>\n",
              "  <tbody>\n",
              "    <tr>\n",
              "      <th>count</th>\n",
              "      <td>5454.000000</td>\n",
              "      <td>5454.000000</td>\n",
              "      <td>5454.000000</td>\n",
              "      <td>5.454000e+03</td>\n",
              "      <td>5454.000000</td>\n",
              "      <td>5454.000000</td>\n",
              "      <td>5454.000000</td>\n",
              "      <td>5454.000000</td>\n",
              "    </tr>\n",
              "    <tr>\n",
              "      <th>mean</th>\n",
              "      <td>-0.698804</td>\n",
              "      <td>-0.239400</td>\n",
              "      <td>0.049793</td>\n",
              "      <td>1.216699e-06</td>\n",
              "      <td>-0.273438</td>\n",
              "      <td>0.704987</td>\n",
              "      <td>0.508251</td>\n",
              "      <td>-0.000055</td>\n",
              "    </tr>\n",
              "    <tr>\n",
              "      <th>std</th>\n",
              "      <td>0.000390</td>\n",
              "      <td>0.001920</td>\n",
              "      <td>0.028974</td>\n",
              "      <td>9.888135e-07</td>\n",
              "      <td>0.065469</td>\n",
              "      <td>0.456090</td>\n",
              "      <td>0.499978</td>\n",
              "      <td>0.000001</td>\n",
              "    </tr>\n",
              "    <tr>\n",
              "      <th>min</th>\n",
              "      <td>-0.700000</td>\n",
              "      <td>-0.243243</td>\n",
              "      <td>0.000000</td>\n",
              "      <td>0.000000e+00</td>\n",
              "      <td>-0.333333</td>\n",
              "      <td>0.000000</td>\n",
              "      <td>0.000000</td>\n",
              "      <td>-0.000058</td>\n",
              "    </tr>\n",
              "    <tr>\n",
              "      <th>25%</th>\n",
              "      <td>-0.699076</td>\n",
              "      <td>-0.240687</td>\n",
              "      <td>0.020000</td>\n",
              "      <td>0.000000e+00</td>\n",
              "      <td>-0.333333</td>\n",
              "      <td>0.000000</td>\n",
              "      <td>0.000000</td>\n",
              "      <td>-0.000057</td>\n",
              "    </tr>\n",
              "    <tr>\n",
              "      <th>50%</th>\n",
              "      <td>-0.698800</td>\n",
              "      <td>-0.239774</td>\n",
              "      <td>0.050000</td>\n",
              "      <td>1.544521e-06</td>\n",
              "      <td>-0.333333</td>\n",
              "      <td>1.000000</td>\n",
              "      <td>1.000000</td>\n",
              "      <td>-0.000055</td>\n",
              "    </tr>\n",
              "    <tr>\n",
              "      <th>75%</th>\n",
              "      <td>-0.698532</td>\n",
              "      <td>-0.238495</td>\n",
              "      <td>0.070000</td>\n",
              "      <td>2.027770e-06</td>\n",
              "      <td>-0.222222</td>\n",
              "      <td>1.000000</td>\n",
              "      <td>1.000000</td>\n",
              "      <td>-0.000054</td>\n",
              "    </tr>\n",
              "    <tr>\n",
              "      <th>max</th>\n",
              "      <td>-0.698000</td>\n",
              "      <td>-0.229730</td>\n",
              "      <td>0.100000</td>\n",
              "      <td>3.530868e-06</td>\n",
              "      <td>0.000000</td>\n",
              "      <td>1.000000</td>\n",
              "      <td>1.000000</td>\n",
              "      <td>-0.000053</td>\n",
              "    </tr>\n",
              "  </tbody>\n",
              "</table>\n",
              "</div>"
            ],
            "text/plain": [
              "       CreditScore          Age       Tenure       Balance  NumOfProducts  \\\n",
              "count  5454.000000  5454.000000  5454.000000  5.454000e+03    5454.000000   \n",
              "mean     -0.698804    -0.239400     0.049793  1.216699e-06      -0.273438   \n",
              "std       0.000390     0.001920     0.028974  9.888135e-07       0.065469   \n",
              "min      -0.700000    -0.243243     0.000000  0.000000e+00      -0.333333   \n",
              "25%      -0.699076    -0.240687     0.020000  0.000000e+00      -0.333333   \n",
              "50%      -0.698800    -0.239774     0.050000  1.544521e-06      -0.333333   \n",
              "75%      -0.698532    -0.238495     0.070000  2.027770e-06      -0.222222   \n",
              "max      -0.698000    -0.229730     0.100000  3.530868e-06       0.000000   \n",
              "\n",
              "         HasCrCard  IsActiveMember  EstimatedSalary  \n",
              "count  5454.000000     5454.000000      5454.000000  \n",
              "mean      0.704987        0.508251        -0.000055  \n",
              "std       0.456090        0.499978         0.000001  \n",
              "min       0.000000        0.000000        -0.000058  \n",
              "25%       0.000000        0.000000        -0.000057  \n",
              "50%       1.000000        1.000000        -0.000055  \n",
              "75%       1.000000        1.000000        -0.000054  \n",
              "max       1.000000        1.000000        -0.000053  "
            ]
          },
          "metadata": {},
          "execution_count": 286
        }
      ]
    },
    {
      "cell_type": "markdown",
      "metadata": {
        "id": "naked-porter"
      },
      "source": [
        "## Encoding Categorical Data\n",
        "\n",
        "Using One hot encoding to convert the categorical columns to (0/1) column for each unique category "
      ]
    },
    {
      "cell_type": "code",
      "metadata": {
        "colab": {
          "base_uri": "https://localhost:8080/"
        },
        "id": "demographic-bolivia",
        "outputId": "10824d32-8ad7-45b4-d707-004f93c971d2"
      },
      "source": [
        "credit_df[categorical_cols].nunique()"
      ],
      "execution_count": 287,
      "outputs": [
        {
          "output_type": "execute_result",
          "data": {
            "text/plain": [
              "Geography    3\n",
              "Gender       2\n",
              "dtype: int64"
            ]
          },
          "metadata": {},
          "execution_count": 287
        }
      ]
    },
    {
      "cell_type": "markdown",
      "metadata": {
        "id": "outer-thriller"
      },
      "source": [
        "performing one hot encoding using the `OneHotEncoder` class from `sklearn.preprocessing`."
      ]
    },
    {
      "cell_type": "code",
      "metadata": {
        "id": "sufficient-powell"
      },
      "source": [
        "encoder = OneHotEncoder(sparse=False, handle_unknown='ignore')"
      ],
      "execution_count": 216,
      "outputs": []
    },
    {
      "cell_type": "markdown",
      "metadata": {
        "id": "competent-facial"
      },
      "source": [
        "`Fitting` the encoder to the data i.e. identify the full list of categories across all categorical columns."
      ]
    },
    {
      "cell_type": "code",
      "metadata": {
        "colab": {
          "base_uri": "https://localhost:8080/"
        },
        "id": "registered-fields",
        "outputId": "939e5745-61e3-483f-e6d0-38d1a08a5b22"
      },
      "source": [
        "encoder.fit(credit_df[categorical_cols])"
      ],
      "execution_count": 289,
      "outputs": [
        {
          "output_type": "execute_result",
          "data": {
            "text/plain": [
              "OneHotEncoder(categories='auto', drop=None, dtype=<class 'numpy.float64'>,\n",
              "              handle_unknown='ignore', sparse=False)"
            ]
          },
          "metadata": {},
          "execution_count": 289
        }
      ]
    },
    {
      "cell_type": "code",
      "metadata": {
        "colab": {
          "base_uri": "https://localhost:8080/"
        },
        "id": "considerable-bicycle",
        "outputId": "f62f8a31-405d-4579-a5e7-9a2ec17098b0"
      },
      "source": [
        "encoder.categories_"
      ],
      "execution_count": 291,
      "outputs": [
        {
          "output_type": "execute_result",
          "data": {
            "text/plain": [
              "[array(['France', 'Germany', 'Spain'], dtype=object),\n",
              " array(['Female', 'Male'], dtype=object)]"
            ]
          },
          "metadata": {},
          "execution_count": 291
        }
      ]
    },
    {
      "cell_type": "markdown",
      "metadata": {
        "id": "concerned-price"
      },
      "source": [
        "The encoder has created a list of categories for each of the categorical columns in the dataset. \n",
        "\n",
        "Generating the column names for each individual category using `get_feature_names`."
      ]
    },
    {
      "cell_type": "code",
      "metadata": {
        "colab": {
          "base_uri": "https://localhost:8080/"
        },
        "id": "rental-brooks",
        "outputId": "df608fd3-0bed-45da-86d0-c85f4dee7ead"
      },
      "source": [
        "encoded_cols = list(encoder.get_feature_names(categorical_cols))\n",
        "print(encoded_cols)"
      ],
      "execution_count": 292,
      "outputs": [
        {
          "output_type": "stream",
          "name": "stdout",
          "text": [
            "['Geography_France', 'Geography_Germany', 'Geography_Spain', 'Gender_Female', 'Gender_Male']\n"
          ]
        }
      ]
    },
    {
      "cell_type": "markdown",
      "metadata": {
        "id": "indirect-morocco"
      },
      "source": [
        "Adding the above columns to the `train_inputs`, `val_inputs` and `test_inputs`using the `transform` method of `encoder`."
      ]
    },
    {
      "cell_type": "code",
      "metadata": {
        "id": "dutch-northern"
      },
      "source": [
        "train_inputs[encoded_cols] = encoder.transform(train_inputs[categorical_cols])\n",
        "val_inputs[encoded_cols] = encoder.transform(val_inputs[categorical_cols])\n",
        "test_inputs[encoded_cols] = encoder.transform(test_inputs[categorical_cols])"
      ],
      "execution_count": 293,
      "outputs": []
    },
    {
      "cell_type": "markdown",
      "metadata": {
        "id": "flexible-slide"
      },
      "source": [
        "Verifying that these new columns have been added to our training, test and validation sets."
      ]
    },
    {
      "cell_type": "code",
      "metadata": {
        "id": "furnished-joseph"
      },
      "source": [
        "pd.set_option('display.max_columns', None)"
      ],
      "execution_count": 294,
      "outputs": []
    },
    {
      "cell_type": "code",
      "metadata": {
        "colab": {
          "base_uri": "https://localhost:8080/",
          "height": 444
        },
        "id": "governmental-damage",
        "outputId": "fb904f9e-e053-4e7a-9b02-30811d41e5df"
      },
      "source": [
        "test_inputs"
      ],
      "execution_count": 295,
      "outputs": [
        {
          "output_type": "execute_result",
          "data": {
            "text/html": [
              "<div>\n",
              "<style scoped>\n",
              "    .dataframe tbody tr th:only-of-type {\n",
              "        vertical-align: middle;\n",
              "    }\n",
              "\n",
              "    .dataframe tbody tr th {\n",
              "        vertical-align: top;\n",
              "    }\n",
              "\n",
              "    .dataframe thead th {\n",
              "        text-align: right;\n",
              "    }\n",
              "</style>\n",
              "<table border=\"1\" class=\"dataframe\">\n",
              "  <thead>\n",
              "    <tr style=\"text-align: right;\">\n",
              "      <th></th>\n",
              "      <th>CreditScore</th>\n",
              "      <th>Geography</th>\n",
              "      <th>Gender</th>\n",
              "      <th>Age</th>\n",
              "      <th>Tenure</th>\n",
              "      <th>Balance</th>\n",
              "      <th>NumOfProducts</th>\n",
              "      <th>HasCrCard</th>\n",
              "      <th>IsActiveMember</th>\n",
              "      <th>EstimatedSalary</th>\n",
              "      <th>Geography_France</th>\n",
              "      <th>Geography_Germany</th>\n",
              "      <th>Geography_Spain</th>\n",
              "      <th>Gender_Female</th>\n",
              "      <th>Gender_Male</th>\n",
              "    </tr>\n",
              "  </thead>\n",
              "  <tbody>\n",
              "    <tr>\n",
              "      <th>862</th>\n",
              "      <td>-0.698500</td>\n",
              "      <td>France</td>\n",
              "      <td>Male</td>\n",
              "      <td>-0.239043</td>\n",
              "      <td>0.07</td>\n",
              "      <td>1.810651e-06</td>\n",
              "      <td>-0.333333</td>\n",
              "      <td>1.0</td>\n",
              "      <td>1.0</td>\n",
              "      <td>-0.000055</td>\n",
              "      <td>1.0</td>\n",
              "      <td>0.0</td>\n",
              "      <td>0.0</td>\n",
              "      <td>0.0</td>\n",
              "      <td>1.0</td>\n",
              "    </tr>\n",
              "    <tr>\n",
              "      <th>9727</th>\n",
              "      <td>-0.699280</td>\n",
              "      <td>France</td>\n",
              "      <td>Female</td>\n",
              "      <td>-0.238313</td>\n",
              "      <td>0.01</td>\n",
              "      <td>0.000000e+00</td>\n",
              "      <td>-0.333333</td>\n",
              "      <td>0.0</td>\n",
              "      <td>1.0</td>\n",
              "      <td>-0.000053</td>\n",
              "      <td>1.0</td>\n",
              "      <td>0.0</td>\n",
              "      <td>0.0</td>\n",
              "      <td>1.0</td>\n",
              "      <td>0.0</td>\n",
              "    </tr>\n",
              "    <tr>\n",
              "      <th>1717</th>\n",
              "      <td>-0.698572</td>\n",
              "      <td>Spain</td>\n",
              "      <td>Female</td>\n",
              "      <td>-0.240139</td>\n",
              "      <td>0.03</td>\n",
              "      <td>9.003116e-07</td>\n",
              "      <td>-0.333333</td>\n",
              "      <td>1.0</td>\n",
              "      <td>0.0</td>\n",
              "      <td>-0.000057</td>\n",
              "      <td>0.0</td>\n",
              "      <td>0.0</td>\n",
              "      <td>1.0</td>\n",
              "      <td>1.0</td>\n",
              "      <td>0.0</td>\n",
              "    </tr>\n",
              "    <tr>\n",
              "      <th>8640</th>\n",
              "      <td>-0.698480</td>\n",
              "      <td>France</td>\n",
              "      <td>Female</td>\n",
              "      <td>-0.240687</td>\n",
              "      <td>0.09</td>\n",
              "      <td>2.027990e-06</td>\n",
              "      <td>-0.333333</td>\n",
              "      <td>0.0</td>\n",
              "      <td>0.0</td>\n",
              "      <td>-0.000056</td>\n",
              "      <td>1.0</td>\n",
              "      <td>0.0</td>\n",
              "      <td>0.0</td>\n",
              "      <td>1.0</td>\n",
              "      <td>0.0</td>\n",
              "    </tr>\n",
              "    <tr>\n",
              "      <th>5288</th>\n",
              "      <td>-0.699072</td>\n",
              "      <td>France</td>\n",
              "      <td>Male</td>\n",
              "      <td>-0.241052</td>\n",
              "      <td>0.02</td>\n",
              "      <td>0.000000e+00</td>\n",
              "      <td>-0.222222</td>\n",
              "      <td>1.0</td>\n",
              "      <td>1.0</td>\n",
              "      <td>-0.000055</td>\n",
              "      <td>1.0</td>\n",
              "      <td>0.0</td>\n",
              "      <td>0.0</td>\n",
              "      <td>0.0</td>\n",
              "      <td>1.0</td>\n",
              "    </tr>\n",
              "    <tr>\n",
              "      <th>...</th>\n",
              "      <td>...</td>\n",
              "      <td>...</td>\n",
              "      <td>...</td>\n",
              "      <td>...</td>\n",
              "      <td>...</td>\n",
              "      <td>...</td>\n",
              "      <td>...</td>\n",
              "      <td>...</td>\n",
              "      <td>...</td>\n",
              "      <td>...</td>\n",
              "      <td>...</td>\n",
              "      <td>...</td>\n",
              "      <td>...</td>\n",
              "      <td>...</td>\n",
              "      <td>...</td>\n",
              "    </tr>\n",
              "    <tr>\n",
              "      <th>7697</th>\n",
              "      <td>-0.698996</td>\n",
              "      <td>Spain</td>\n",
              "      <td>Female</td>\n",
              "      <td>-0.239043</td>\n",
              "      <td>0.03</td>\n",
              "      <td>0.000000e+00</td>\n",
              "      <td>-0.222222</td>\n",
              "      <td>1.0</td>\n",
              "      <td>0.0</td>\n",
              "      <td>-0.000057</td>\n",
              "      <td>0.0</td>\n",
              "      <td>0.0</td>\n",
              "      <td>1.0</td>\n",
              "      <td>1.0</td>\n",
              "      <td>0.0</td>\n",
              "    </tr>\n",
              "    <tr>\n",
              "      <th>8323</th>\n",
              "      <td>-0.698552</td>\n",
              "      <td>Spain</td>\n",
              "      <td>Female</td>\n",
              "      <td>-0.241052</td>\n",
              "      <td>0.06</td>\n",
              "      <td>0.000000e+00</td>\n",
              "      <td>-0.222222</td>\n",
              "      <td>1.0</td>\n",
              "      <td>0.0</td>\n",
              "      <td>-0.000054</td>\n",
              "      <td>0.0</td>\n",
              "      <td>0.0</td>\n",
              "      <td>1.0</td>\n",
              "      <td>1.0</td>\n",
              "      <td>0.0</td>\n",
              "    </tr>\n",
              "    <tr>\n",
              "      <th>3900</th>\n",
              "      <td>-0.698164</td>\n",
              "      <td>France</td>\n",
              "      <td>Male</td>\n",
              "      <td>-0.239956</td>\n",
              "      <td>0.09</td>\n",
              "      <td>1.094230e-06</td>\n",
              "      <td>-0.222222</td>\n",
              "      <td>0.0</td>\n",
              "      <td>1.0</td>\n",
              "      <td>-0.000055</td>\n",
              "      <td>1.0</td>\n",
              "      <td>0.0</td>\n",
              "      <td>0.0</td>\n",
              "      <td>0.0</td>\n",
              "      <td>1.0</td>\n",
              "    </tr>\n",
              "    <tr>\n",
              "      <th>5474</th>\n",
              "      <td>-0.698796</td>\n",
              "      <td>France</td>\n",
              "      <td>Female</td>\n",
              "      <td>-0.240321</td>\n",
              "      <td>0.09</td>\n",
              "      <td>0.000000e+00</td>\n",
              "      <td>-0.222222</td>\n",
              "      <td>1.0</td>\n",
              "      <td>0.0</td>\n",
              "      <td>-0.000054</td>\n",
              "      <td>1.0</td>\n",
              "      <td>0.0</td>\n",
              "      <td>0.0</td>\n",
              "      <td>1.0</td>\n",
              "      <td>0.0</td>\n",
              "    </tr>\n",
              "    <tr>\n",
              "      <th>1419</th>\n",
              "      <td>-0.699260</td>\n",
              "      <td>France</td>\n",
              "      <td>Female</td>\n",
              "      <td>-0.238495</td>\n",
              "      <td>0.02</td>\n",
              "      <td>1.817762e-06</td>\n",
              "      <td>-0.333333</td>\n",
              "      <td>1.0</td>\n",
              "      <td>1.0</td>\n",
              "      <td>-0.000054</td>\n",
              "      <td>1.0</td>\n",
              "      <td>0.0</td>\n",
              "      <td>0.0</td>\n",
              "      <td>1.0</td>\n",
              "      <td>0.0</td>\n",
              "    </tr>\n",
              "  </tbody>\n",
              "</table>\n",
              "<p>1819 rows × 15 columns</p>\n",
              "</div>"
            ],
            "text/plain": [
              "      CreditScore Geography  Gender       Age  Tenure       Balance  \\\n",
              "862     -0.698500    France    Male -0.239043    0.07  1.810651e-06   \n",
              "9727    -0.699280    France  Female -0.238313    0.01  0.000000e+00   \n",
              "1717    -0.698572     Spain  Female -0.240139    0.03  9.003116e-07   \n",
              "8640    -0.698480    France  Female -0.240687    0.09  2.027990e-06   \n",
              "5288    -0.699072    France    Male -0.241052    0.02  0.000000e+00   \n",
              "...           ...       ...     ...       ...     ...           ...   \n",
              "7697    -0.698996     Spain  Female -0.239043    0.03  0.000000e+00   \n",
              "8323    -0.698552     Spain  Female -0.241052    0.06  0.000000e+00   \n",
              "3900    -0.698164    France    Male -0.239956    0.09  1.094230e-06   \n",
              "5474    -0.698796    France  Female -0.240321    0.09  0.000000e+00   \n",
              "1419    -0.699260    France  Female -0.238495    0.02  1.817762e-06   \n",
              "\n",
              "      NumOfProducts  HasCrCard  IsActiveMember  EstimatedSalary  \\\n",
              "862       -0.333333        1.0             1.0        -0.000055   \n",
              "9727      -0.333333        0.0             1.0        -0.000053   \n",
              "1717      -0.333333        1.0             0.0        -0.000057   \n",
              "8640      -0.333333        0.0             0.0        -0.000056   \n",
              "5288      -0.222222        1.0             1.0        -0.000055   \n",
              "...             ...        ...             ...              ...   \n",
              "7697      -0.222222        1.0             0.0        -0.000057   \n",
              "8323      -0.222222        1.0             0.0        -0.000054   \n",
              "3900      -0.222222        0.0             1.0        -0.000055   \n",
              "5474      -0.222222        1.0             0.0        -0.000054   \n",
              "1419      -0.333333        1.0             1.0        -0.000054   \n",
              "\n",
              "      Geography_France  Geography_Germany  Geography_Spain  Gender_Female  \\\n",
              "862                1.0                0.0              0.0            0.0   \n",
              "9727               1.0                0.0              0.0            1.0   \n",
              "1717               0.0                0.0              1.0            1.0   \n",
              "8640               1.0                0.0              0.0            1.0   \n",
              "5288               1.0                0.0              0.0            0.0   \n",
              "...                ...                ...              ...            ...   \n",
              "7697               0.0                0.0              1.0            1.0   \n",
              "8323               0.0                0.0              1.0            1.0   \n",
              "3900               1.0                0.0              0.0            0.0   \n",
              "5474               1.0                0.0              0.0            1.0   \n",
              "1419               1.0                0.0              0.0            1.0   \n",
              "\n",
              "      Gender_Male  \n",
              "862           1.0  \n",
              "9727          0.0  \n",
              "1717          0.0  \n",
              "8640          0.0  \n",
              "5288          1.0  \n",
              "...           ...  \n",
              "7697          0.0  \n",
              "8323          0.0  \n",
              "3900          1.0  \n",
              "5474          0.0  \n",
              "1419          0.0  \n",
              "\n",
              "[1819 rows x 15 columns]"
            ]
          },
          "metadata": {},
          "execution_count": 295
        }
      ]
    },
    {
      "cell_type": "markdown",
      "metadata": {
        "id": "X9LyqXgkjFC7"
      },
      "source": [
        "# Data Modelling on the imbalanced dataset \n",
        "\n",
        "\n"
      ]
    },
    {
      "cell_type": "markdown",
      "metadata": {
        "id": "million-space"
      },
      "source": [
        "## Training a Logistic Regression Model\n",
        "\n",
        "Logistic regression is a commonly used technique for solving binary classification problems. \n",
        "\n",
        "Training a logistic regression model, using the `LogisticRegression` class from Scikit-learn."
      ]
    },
    {
      "cell_type": "code",
      "metadata": {
        "id": "dominican-greeting"
      },
      "source": [
        "model = LogisticRegression(solver='liblinear', random_state=12345)"
      ],
      "execution_count": 309,
      "outputs": []
    },
    {
      "cell_type": "code",
      "metadata": {
        "colab": {
          "base_uri": "https://localhost:8080/"
        },
        "id": "adverse-platform",
        "outputId": "fdba3939-d502-49da-c130-7b3442b09530"
      },
      "source": [
        "model.fit(train_inputs[numeric_cols + encoded_cols], train_targets)"
      ],
      "execution_count": 310,
      "outputs": [
        {
          "output_type": "execute_result",
          "data": {
            "text/plain": [
              "LogisticRegression(C=1.0, class_weight=None, dual=False, fit_intercept=True,\n",
              "                   intercept_scaling=1, l1_ratio=None, max_iter=100,\n",
              "                   multi_class='auto', n_jobs=None, penalty='l2',\n",
              "                   random_state=12345, solver='liblinear', tol=0.0001,\n",
              "                   verbose=0, warm_start=False)"
            ]
          },
          "metadata": {},
          "execution_count": 310
        }
      ]
    },
    {
      "cell_type": "markdown",
      "metadata": {
        "id": "boxed-parish"
      },
      "source": [
        "## Making Predictions and Evaluating the Logistic Regression Model\n",
        "\n",
        "Using the trained model to make predictions on the training, validation and test sets"
      ]
    },
    {
      "cell_type": "code",
      "metadata": {
        "id": "hungarian-climate"
      },
      "source": [
        "X_train = train_inputs[numeric_cols + encoded_cols]\n",
        "X_val = val_inputs[numeric_cols + encoded_cols]\n",
        "X_test = test_inputs[numeric_cols + encoded_cols]\n"
      ],
      "execution_count": 311,
      "outputs": []
    },
    {
      "cell_type": "code",
      "metadata": {
        "id": "russian-breakdown"
      },
      "source": [
        "train_preds = model.predict(X_train)\n",
        "val_preds = model.predict(X_val)\n",
        "test_preds = model.predict(X_test)"
      ],
      "execution_count": 312,
      "outputs": []
    },
    {
      "cell_type": "code",
      "metadata": {
        "colab": {
          "base_uri": "https://localhost:8080/"
        },
        "id": "structured-boulder",
        "outputId": "a5b4155c-dbfa-48b2-e08c-dc65d3341299"
      },
      "source": [
        "train_preds"
      ],
      "execution_count": 313,
      "outputs": [
        {
          "output_type": "execute_result",
          "data": {
            "text/plain": [
              "array([0, 0, 0, ..., 0, 0, 0])"
            ]
          },
          "metadata": {},
          "execution_count": 313
        }
      ]
    },
    {
      "cell_type": "code",
      "metadata": {
        "colab": {
          "base_uri": "https://localhost:8080/"
        },
        "id": "exclusive-assistant",
        "outputId": "26f67fdc-f9f9-4510-b5b4-db81061f3997"
      },
      "source": [
        "train_targets"
      ],
      "execution_count": 314,
      "outputs": [
        {
          "output_type": "execute_result",
          "data": {
            "text/plain": [
              "3706    0\n",
              "6805    0\n",
              "4449    0\n",
              "598     1\n",
              "1845    1\n",
              "       ..\n",
              "8706    1\n",
              "113     0\n",
              "4961    0\n",
              "2403    0\n",
              "208     1\n",
              "Name: Exited, Length: 5454, dtype: int64"
            ]
          },
          "metadata": {},
          "execution_count": 314
        }
      ]
    },
    {
      "cell_type": "code",
      "metadata": {
        "colab": {
          "base_uri": "https://localhost:8080/"
        },
        "id": "concerned-combat",
        "outputId": "5936c7eb-6b0a-4e9b-be95-b8b5f64c108a"
      },
      "source": [
        "model.classes_"
      ],
      "execution_count": 315,
      "outputs": [
        {
          "output_type": "execute_result",
          "data": {
            "text/plain": [
              "array([0, 1])"
            ]
          },
          "metadata": {},
          "execution_count": 315
        }
      ]
    },
    {
      "cell_type": "markdown",
      "metadata": {
        "id": "hearing-employee"
      },
      "source": [
        "We can test the accuracy of the model's predictions by computing the percentage of matching values in `train_preds` and `train_targets`.\n",
        "\n",
        "This can be done using the `accuracy_score` function from `sklearn.metrics`."
      ]
    },
    {
      "cell_type": "code",
      "metadata": {
        "colab": {
          "base_uri": "https://localhost:8080/"
        },
        "id": "surgical-constraint",
        "outputId": "5b60fce6-ca9a-4eef-cdb4-4abd6232fe09"
      },
      "source": [
        "accuracy_score(train_targets, train_preds)"
      ],
      "execution_count": 316,
      "outputs": [
        {
          "output_type": "execute_result",
          "data": {
            "text/plain": [
              "0.7948294829482948"
            ]
          },
          "metadata": {},
          "execution_count": 316
        }
      ]
    },
    {
      "cell_type": "code",
      "metadata": {
        "colab": {
          "base_uri": "https://localhost:8080/"
        },
        "id": "mIzMbRlldPYb",
        "outputId": "c6364ce2-9557-4774-da4b-b2de72ae9f97"
      },
      "source": [
        "#accuracy of the model's predictions on the validation set\n",
        "accuracy_score(val_targets, val_preds)"
      ],
      "execution_count": 317,
      "outputs": [
        {
          "output_type": "execute_result",
          "data": {
            "text/plain": [
              "0.7986798679867987"
            ]
          },
          "metadata": {},
          "execution_count": 317
        }
      ]
    },
    {
      "cell_type": "code",
      "metadata": {
        "colab": {
          "base_uri": "https://localhost:8080/"
        },
        "id": "GcXpaGNXfIRD",
        "outputId": "99bb9f4d-236f-44bc-a9c3-80e6ed4fff84"
      },
      "source": [
        "#accuracy of the model's predictions on the test set\n",
        "accuracy_score(test_targets, test_preds)"
      ],
      "execution_count": 318,
      "outputs": [
        {
          "output_type": "execute_result",
          "data": {
            "text/plain": [
              "0.7971412864211105"
            ]
          },
          "metadata": {},
          "execution_count": 318
        }
      ]
    },
    {
      "cell_type": "code",
      "metadata": {
        "colab": {
          "base_uri": "https://localhost:8080/"
        },
        "id": "nuCo_4EVE5gl",
        "outputId": "6a72407e-8ba6-4d6c-849c-c92863632de4"
      },
      "source": [
        "# calculate the F-Score\n",
        "print('F1:', f1_score(test_targets, test_preds))"
      ],
      "execution_count": 320,
      "outputs": [
        {
          "output_type": "stream",
          "name": "stdout",
          "text": [
            "F1: 0.0\n"
          ]
        }
      ]
    },
    {
      "cell_type": "markdown",
      "metadata": {
        "id": "blocked-estate"
      },
      "source": [
        "The model achieves an accuracy of 79.4% on the training set, 79.8% on the validation set and 79.7% on the test set.\n",
        "\n",
        "\n",
        "the models F1 score on teh imbalanced dataset is 0.0\n",
        "\n",
        "\n",
        "Using a confusion matrix to visualize the breakdown of correctly and incorrectly classified inputs\n",
        ":"
      ]
    },
    {
      "cell_type": "code",
      "metadata": {
        "colab": {
          "base_uri": "https://localhost:8080/"
        },
        "id": "systematic-technique",
        "outputId": "f6bd393c-2002-4136-bef8-90f467d3c0b8"
      },
      "source": [
        "#breakdown of correctly and incorrectly classified inputs in the train set\n",
        "confusion_matrix(train_targets, train_preds, normalize='true')"
      ],
      "execution_count": 323,
      "outputs": [
        {
          "output_type": "execute_result",
          "data": {
            "text/plain": [
              "array([[1., 0.],\n",
              "       [1., 0.]])"
            ]
          },
          "metadata": {},
          "execution_count": 323
        }
      ]
    },
    {
      "cell_type": "code",
      "metadata": {
        "colab": {
          "base_uri": "https://localhost:8080/"
        },
        "id": "IfDhF2RqWfxn",
        "outputId": "95afe4d9-941d-4ee4-8801-f5d3c6867654"
      },
      "source": [
        "#breakdown of correctly and incorrectly classified inputs in the validation set\n",
        "confusion_matrix(val_targets, val_preds, normalize='true')"
      ],
      "execution_count": 324,
      "outputs": [
        {
          "output_type": "execute_result",
          "data": {
            "text/plain": [
              "array([[1., 0.],\n",
              "       [1., 0.]])"
            ]
          },
          "metadata": {},
          "execution_count": 324
        }
      ]
    },
    {
      "cell_type": "code",
      "metadata": {
        "colab": {
          "base_uri": "https://localhost:8080/"
        },
        "id": "tPBLz0eZWf0R",
        "outputId": "3da4f0a6-312d-4b5d-ed85-29ff8c22f4bd"
      },
      "source": [
        "#breakdown of correctly and incorrectly classified inputs in the test set\n",
        "confusion_matrix(test_targets, test_preds, normalize='true')"
      ],
      "execution_count": 325,
      "outputs": [
        {
          "output_type": "execute_result",
          "data": {
            "text/plain": [
              "array([[1., 0.],\n",
              "       [1., 0.]])"
            ]
          },
          "metadata": {},
          "execution_count": 325
        }
      ]
    },
    {
      "cell_type": "markdown",
      "metadata": {
        "id": "5YcZDqmBf89h"
      },
      "source": [
        "## Training a Random Forest Model\n",
        "Training the RandomForest Model  to predict the 'Exited' values.\n",
        "\n",
        "To train a Random Forest model, we use the RandomForestClassifier class from Scikit-learn."
      ]
    },
    {
      "cell_type": "code",
      "metadata": {
        "id": "fGcn8WoEgYv1"
      },
      "source": [
        "random_model = RandomForestClassifier(n_jobs=-1, random_state=12345)"
      ],
      "execution_count": 326,
      "outputs": []
    },
    {
      "cell_type": "code",
      "metadata": {
        "colab": {
          "base_uri": "https://localhost:8080/"
        },
        "id": "yQYlG7EGgYv1",
        "outputId": "bbef8bb7-5d2e-489b-fcf6-5c015b743756"
      },
      "source": [
        "random_model.fit(train_inputs[numeric_cols + encoded_cols], train_targets)"
      ],
      "execution_count": 327,
      "outputs": [
        {
          "output_type": "execute_result",
          "data": {
            "text/plain": [
              "RandomForestClassifier(bootstrap=True, ccp_alpha=0.0, class_weight=None,\n",
              "                       criterion='gini', max_depth=None, max_features='auto',\n",
              "                       max_leaf_nodes=None, max_samples=None,\n",
              "                       min_impurity_decrease=0.0, min_impurity_split=None,\n",
              "                       min_samples_leaf=1, min_samples_split=2,\n",
              "                       min_weight_fraction_leaf=0.0, n_estimators=100,\n",
              "                       n_jobs=-1, oob_score=False, random_state=12345,\n",
              "                       verbose=0, warm_start=False)"
            ]
          },
          "metadata": {},
          "execution_count": 327
        }
      ]
    },
    {
      "cell_type": "markdown",
      "metadata": {
        "id": "uylWwJOkgYv1"
      },
      "source": [
        "## Making Predictions and Evaluating the Random Forest \n",
        "\n",
        "We can now use the trained model to make predictions on the training, valid and test set"
      ]
    },
    {
      "cell_type": "code",
      "metadata": {
        "id": "Q7EJJfcMhYNm"
      },
      "source": [
        "Random_X_train = train_inputs[numeric_cols + encoded_cols]\n",
        "Random_X_val = val_inputs[numeric_cols + encoded_cols]\n",
        "Random_X_test = test_inputs[numeric_cols + encoded_cols]\n"
      ],
      "execution_count": 328,
      "outputs": []
    },
    {
      "cell_type": "code",
      "metadata": {
        "id": "yZQVpyWshYNm"
      },
      "source": [
        "random_train_preds = random_model.predict(Random_X_train)\n",
        "random_val_preds = random_model.predict(Random_X_val)\n",
        "random_test_preds = random_model.predict(Random_X_test)"
      ],
      "execution_count": 329,
      "outputs": []
    },
    {
      "cell_type": "code",
      "metadata": {
        "colab": {
          "base_uri": "https://localhost:8080/"
        },
        "id": "BfAMR8TphYNm",
        "outputId": "8b727f38-b13b-4a61-c28e-042b0087a93c"
      },
      "source": [
        "random_train_preds"
      ],
      "execution_count": 330,
      "outputs": [
        {
          "output_type": "execute_result",
          "data": {
            "text/plain": [
              "array([0, 0, 0, ..., 0, 0, 1])"
            ]
          },
          "metadata": {},
          "execution_count": 330
        }
      ]
    },
    {
      "cell_type": "code",
      "metadata": {
        "colab": {
          "base_uri": "https://localhost:8080/"
        },
        "id": "15ylAYPUhYNn",
        "outputId": "ebb3dee8-0865-46c1-8302-9ca84b07dea1"
      },
      "source": [
        "train_targets"
      ],
      "execution_count": 331,
      "outputs": [
        {
          "output_type": "execute_result",
          "data": {
            "text/plain": [
              "3706    0\n",
              "6805    0\n",
              "4449    0\n",
              "598     1\n",
              "1845    1\n",
              "       ..\n",
              "8706    1\n",
              "113     0\n",
              "4961    0\n",
              "2403    0\n",
              "208     1\n",
              "Name: Exited, Length: 5454, dtype: int64"
            ]
          },
          "metadata": {},
          "execution_count": 331
        }
      ]
    },
    {
      "cell_type": "code",
      "metadata": {
        "colab": {
          "base_uri": "https://localhost:8080/"
        },
        "id": "1y_9doenhYNn",
        "outputId": "e5474f20-5749-40cb-ba67-0352cb8331ac"
      },
      "source": [
        "model.classes_"
      ],
      "execution_count": 332,
      "outputs": [
        {
          "output_type": "execute_result",
          "data": {
            "text/plain": [
              "array([0, 1])"
            ]
          },
          "metadata": {},
          "execution_count": 332
        }
      ]
    },
    {
      "cell_type": "markdown",
      "metadata": {
        "id": "xPQ-uK2qhYNn"
      },
      "source": [
        "We can test the accuracy of the model's predictions by computing the percentage of matching values in `train_preds` and `train_targets`.\n",
        "\n",
        "This can be done using the `accuracy_score` function from `sklearn.metrics`."
      ]
    },
    {
      "cell_type": "code",
      "metadata": {
        "colab": {
          "base_uri": "https://localhost:8080/"
        },
        "id": "ZVVcP2rxhYNn",
        "outputId": "cd61fe9f-e48f-4444-913e-6d71f0dde374"
      },
      "source": [
        "accuracy_score(train_targets, random_train_preds)"
      ],
      "execution_count": 333,
      "outputs": [
        {
          "output_type": "execute_result",
          "data": {
            "text/plain": [
              "1.0"
            ]
          },
          "metadata": {},
          "execution_count": 333
        }
      ]
    },
    {
      "cell_type": "code",
      "metadata": {
        "colab": {
          "base_uri": "https://localhost:8080/"
        },
        "id": "AYacUz3FhYNn",
        "outputId": "dd4cae97-8ae1-4b3e-ab58-b76639087794"
      },
      "source": [
        "#accuracy of the model's predictions on the validation set\n",
        "accuracy_score(val_targets, random_val_preds)"
      ],
      "execution_count": 334,
      "outputs": [
        {
          "output_type": "execute_result",
          "data": {
            "text/plain": [
              "0.856985698569857"
            ]
          },
          "metadata": {},
          "execution_count": 334
        }
      ]
    },
    {
      "cell_type": "code",
      "metadata": {
        "colab": {
          "base_uri": "https://localhost:8080/"
        },
        "id": "rwhroXzJhYNo",
        "outputId": "4c04f29f-bf98-4135-cb6c-70745cc99a7c"
      },
      "source": [
        "#accuracy of the model's predictions on the test set\n",
        "accuracy_score(test_targets, random_test_preds)"
      ],
      "execution_count": 335,
      "outputs": [
        {
          "output_type": "execute_result",
          "data": {
            "text/plain": [
              "0.8499175371083013"
            ]
          },
          "metadata": {},
          "execution_count": 335
        }
      ]
    },
    {
      "cell_type": "code",
      "metadata": {
        "colab": {
          "base_uri": "https://localhost:8080/"
        },
        "id": "WSHQQgGBGQjc",
        "outputId": "020ec0af-3a0a-42c9-986d-7feacc460c92"
      },
      "source": [
        "# calculate the F-Score\n",
        "print('F1:', f1_score(test_targets, random_test_preds))"
      ],
      "execution_count": 336,
      "outputs": [
        {
          "output_type": "stream",
          "name": "stdout",
          "text": [
            "F1: 0.5202108963093146\n"
          ]
        }
      ]
    },
    {
      "cell_type": "markdown",
      "metadata": {
        "id": "AaZOe73JhYNo"
      },
      "source": [
        "The model achieves an accuracy of 100% on the training set, 85.6% on the validation set and 84.9% on the test set.\n",
        "\n",
        "the models F1 score on teh imbalanced dataset is .52\n",
        "\n",
        "Using a confusion matrix to visualize the breakdown of correctly and incorrectly classified inputs\n",
        ":"
      ]
    },
    {
      "cell_type": "code",
      "metadata": {
        "colab": {
          "base_uri": "https://localhost:8080/"
        },
        "id": "-7gI517qipoT",
        "outputId": "04a9b095-b269-4737-ba56-b13728c6b77c"
      },
      "source": [
        "#breakdown of correctly and incorrectly classified inputs in the train set\n",
        "confusion_matrix(train_targets, random_train_preds, normalize='true')"
      ],
      "execution_count": 337,
      "outputs": [
        {
          "output_type": "execute_result",
          "data": {
            "text/plain": [
              "array([[1., 0.],\n",
              "       [0., 1.]])"
            ]
          },
          "metadata": {},
          "execution_count": 337
        }
      ]
    },
    {
      "cell_type": "code",
      "metadata": {
        "colab": {
          "base_uri": "https://localhost:8080/"
        },
        "id": "FF8cQ0COipoT",
        "outputId": "85546776-4b17-4313-b2f2-debca2e7110f"
      },
      "source": [
        "#breakdown of correctly and incorrectly classified inputs in the validation set\n",
        "confusion_matrix(val_targets, random_val_preds, normalize='true')"
      ],
      "execution_count": 338,
      "outputs": [
        {
          "output_type": "execute_result",
          "data": {
            "text/plain": [
              "array([[0.96763085, 0.03236915],\n",
              "       [0.58196721, 0.41803279]])"
            ]
          },
          "metadata": {},
          "execution_count": 338
        }
      ]
    },
    {
      "cell_type": "code",
      "metadata": {
        "colab": {
          "base_uri": "https://localhost:8080/"
        },
        "id": "gpyI_w21ipoT",
        "outputId": "3cfc4d7d-0ad6-4fb2-cdaa-124fc4665f84"
      },
      "source": [
        "#breakdown of correctly and incorrectly classified inputs in the test set\n",
        "confusion_matrix(test_targets, random_test_preds, normalize='true')"
      ],
      "execution_count": 339,
      "outputs": [
        {
          "output_type": "execute_result",
          "data": {
            "text/plain": [
              "array([[0.96413793, 0.03586207],\n",
              "       [0.59891599, 0.40108401]])"
            ]
          },
          "metadata": {},
          "execution_count": 339
        }
      ]
    },
    {
      "cell_type": "markdown",
      "metadata": {
        "id": "TNCt_OJsVr9Y"
      },
      "source": [
        "###Findings \n",
        "\n",
        "the Random Forest model has less errors than the logistic model on the test set.\n",
        "False negatives: 59% , FALSE Positives: 3.5%\n",
        "\n",
        "while the Logistic regression model has FN: 100% and FP: at 0%\n",
        "this means that the model predicted that the users will not churn while they indeed churned.\n",
        "\n",
        "For the imbalanced set, the Random Forest model gives better results. this is because the tree based algorithm works by learning a hierarchy of if/else questions."
      ]
    },
    {
      "cell_type": "markdown",
      "metadata": {
        "id": "y_Bvq42MEr48"
      },
      "source": [
        "#Downsampling - Dealing with Imbalanced Classes\n",
        "\n",
        "Downsampling"
      ]
    },
    {
      "cell_type": "code",
      "metadata": {
        "colab": {
          "base_uri": "https://localhost:8080/",
          "height": 206
        },
        "id": "YY-hihdzFJW3",
        "outputId": "63962641-0d4b-4f9a-f2f1-ae9193b1d3aa"
      },
      "source": [
        "credit_df.head(5)"
      ],
      "execution_count": 341,
      "outputs": [
        {
          "output_type": "execute_result",
          "data": {
            "text/html": [
              "<div>\n",
              "<style scoped>\n",
              "    .dataframe tbody tr th:only-of-type {\n",
              "        vertical-align: middle;\n",
              "    }\n",
              "\n",
              "    .dataframe tbody tr th {\n",
              "        vertical-align: top;\n",
              "    }\n",
              "\n",
              "    .dataframe thead th {\n",
              "        text-align: right;\n",
              "    }\n",
              "</style>\n",
              "<table border=\"1\" class=\"dataframe\">\n",
              "  <thead>\n",
              "    <tr style=\"text-align: right;\">\n",
              "      <th></th>\n",
              "      <th>CreditScore</th>\n",
              "      <th>Geography</th>\n",
              "      <th>Gender</th>\n",
              "      <th>Age</th>\n",
              "      <th>Tenure</th>\n",
              "      <th>Balance</th>\n",
              "      <th>NumOfProducts</th>\n",
              "      <th>HasCrCard</th>\n",
              "      <th>IsActiveMember</th>\n",
              "      <th>EstimatedSalary</th>\n",
              "      <th>Exited</th>\n",
              "    </tr>\n",
              "  </thead>\n",
              "  <tbody>\n",
              "    <tr>\n",
              "      <th>0</th>\n",
              "      <td>619</td>\n",
              "      <td>France</td>\n",
              "      <td>Female</td>\n",
              "      <td>42</td>\n",
              "      <td>2.0</td>\n",
              "      <td>0.00</td>\n",
              "      <td>1</td>\n",
              "      <td>1</td>\n",
              "      <td>1</td>\n",
              "      <td>101348.88</td>\n",
              "      <td>1</td>\n",
              "    </tr>\n",
              "    <tr>\n",
              "      <th>1</th>\n",
              "      <td>608</td>\n",
              "      <td>Spain</td>\n",
              "      <td>Female</td>\n",
              "      <td>41</td>\n",
              "      <td>1.0</td>\n",
              "      <td>83807.86</td>\n",
              "      <td>1</td>\n",
              "      <td>0</td>\n",
              "      <td>1</td>\n",
              "      <td>112542.58</td>\n",
              "      <td>0</td>\n",
              "    </tr>\n",
              "    <tr>\n",
              "      <th>2</th>\n",
              "      <td>502</td>\n",
              "      <td>France</td>\n",
              "      <td>Female</td>\n",
              "      <td>42</td>\n",
              "      <td>8.0</td>\n",
              "      <td>159660.80</td>\n",
              "      <td>3</td>\n",
              "      <td>1</td>\n",
              "      <td>0</td>\n",
              "      <td>113931.57</td>\n",
              "      <td>1</td>\n",
              "    </tr>\n",
              "    <tr>\n",
              "      <th>3</th>\n",
              "      <td>699</td>\n",
              "      <td>France</td>\n",
              "      <td>Female</td>\n",
              "      <td>39</td>\n",
              "      <td>1.0</td>\n",
              "      <td>0.00</td>\n",
              "      <td>2</td>\n",
              "      <td>0</td>\n",
              "      <td>0</td>\n",
              "      <td>93826.63</td>\n",
              "      <td>0</td>\n",
              "    </tr>\n",
              "    <tr>\n",
              "      <th>4</th>\n",
              "      <td>850</td>\n",
              "      <td>Spain</td>\n",
              "      <td>Female</td>\n",
              "      <td>43</td>\n",
              "      <td>2.0</td>\n",
              "      <td>125510.82</td>\n",
              "      <td>1</td>\n",
              "      <td>1</td>\n",
              "      <td>1</td>\n",
              "      <td>79084.10</td>\n",
              "      <td>0</td>\n",
              "    </tr>\n",
              "  </tbody>\n",
              "</table>\n",
              "</div>"
            ],
            "text/plain": [
              "   CreditScore Geography  Gender  Age  Tenure    Balance  NumOfProducts  \\\n",
              "0          619    France  Female   42     2.0       0.00              1   \n",
              "1          608     Spain  Female   41     1.0   83807.86              1   \n",
              "2          502    France  Female   42     8.0  159660.80              3   \n",
              "3          699    France  Female   39     1.0       0.00              2   \n",
              "4          850     Spain  Female   43     2.0  125510.82              1   \n",
              "\n",
              "   HasCrCard  IsActiveMember  EstimatedSalary  Exited  \n",
              "0          1               1        101348.88       1  \n",
              "1          0               1        112542.58       0  \n",
              "2          1               0        113931.57       1  \n",
              "3          0               0         93826.63       0  \n",
              "4          1               1         79084.10       0  "
            ]
          },
          "metadata": {},
          "execution_count": 341
        }
      ]
    },
    {
      "cell_type": "code",
      "metadata": {
        "colab": {
          "base_uri": "https://localhost:8080/"
        },
        "id": "ndwbRnSHjsOD",
        "outputId": "4dd0eb96-bad4-475e-ed76-23beee80c9f3"
      },
      "source": [
        "#examining the balance of the classes using the 'Exited' column\n",
        "class_0 = credit_df[credit_df['Exited'] == 0]\n",
        "class_1 = credit_df[credit_df['Exited'] == 1]\n",
        "\n",
        "#print the shapes of the classes\n",
        "print('class 0:', class_0.shape)\n",
        "print('class 1:', class_1.shape)\n"
      ],
      "execution_count": 340,
      "outputs": [
        {
          "output_type": "stream",
          "name": "stdout",
          "text": [
            "class 0: (7237, 11)\n",
            "class 1: (1854, 11)\n"
          ]
        }
      ]
    },
    {
      "cell_type": "code",
      "metadata": {
        "colab": {
          "base_uri": "https://localhost:8080/"
        },
        "id": "oFDWpk7tFU7p",
        "outputId": "ade29963-2dec-4c97-f3ef-066708c52416"
      },
      "source": [
        "#display the imbalanced class counts\n",
        "credit_df.Exited.value_counts()"
      ],
      "execution_count": 342,
      "outputs": [
        {
          "output_type": "execute_result",
          "data": {
            "text/plain": [
              "0    7237\n",
              "1    1854\n",
              "Name: Exited, dtype: int64"
            ]
          },
          "metadata": {},
          "execution_count": 342
        }
      ]
    },
    {
      "cell_type": "code",
      "metadata": {
        "id": "Fe5c8gC2E1Wp"
      },
      "source": [
        "# Separate majority and minority classes\n",
        "df_majority = credit_df[credit_df.Exited==0]\n",
        "df_minority = credit_df[credit_df.Exited==1]\n",
        " \n",
        "# Downsampling the majority class\n",
        "df_majority_downsampled = resample(df_majority, \n",
        "                                 replace=False,    # sampling without replacement\n",
        "                                 n_samples=1854,     # to match the minority class\n",
        "                                 random_state=12345) # for reproducible results\n",
        " \n"
      ],
      "execution_count": 343,
      "outputs": []
    },
    {
      "cell_type": "code",
      "metadata": {
        "colab": {
          "base_uri": "https://localhost:8080/"
        },
        "id": "68qur3duE1gX",
        "outputId": "ef35c91e-f06e-43cb-afc6-308f07b18b5a"
      },
      "source": [
        "# Combine minority class with downsampled majority class\n",
        "df_downsampled = pd.concat([df_majority_downsampled, df_minority])\n",
        " \n",
        "# Display new class counts\n",
        "df_downsampled.Exited.value_counts()\n"
      ],
      "execution_count": 344,
      "outputs": [
        {
          "output_type": "execute_result",
          "data": {
            "text/plain": [
              "1    1854\n",
              "0    1854\n",
              "Name: Exited, dtype: int64"
            ]
          },
          "metadata": {},
          "execution_count": 344
        }
      ]
    },
    {
      "cell_type": "markdown",
      "metadata": {
        "id": "i3E3aSgXGboD"
      },
      "source": [
        "the new downsampled dataframe has fewer observations than the original, and the ratio of the two classes is now 1:1."
      ]
    },
    {
      "cell_type": "code",
      "metadata": {
        "colab": {
          "base_uri": "https://localhost:8080/"
        },
        "id": "UYVyvs96kUii",
        "outputId": "d1152902-f6a7-40ff-d608-9ef54a9bf439"
      },
      "source": [
        "df_downsampled.shape"
      ],
      "execution_count": 345,
      "outputs": [
        {
          "output_type": "execute_result",
          "data": {
            "text/plain": [
              "(3708, 11)"
            ]
          },
          "metadata": {},
          "execution_count": 345
        }
      ]
    },
    {
      "cell_type": "markdown",
      "metadata": {
        "id": "LgNzgdEhutb0"
      },
      "source": [
        "###Training, Validation and Test Sets\n",
        "\n",
        "Splitting the Downsampled Dataset \n",
        "\n",
        "We split our dataset into training and test sets. 80% of the data for the training set and 20% for the test set. \n",
        "\n",
        "We also set the random_state to 12345 to ensure reproducibility in the notebook."
      ]
    },
    {
      "cell_type": "code",
      "metadata": {
        "colab": {
          "base_uri": "https://localhost:8080/"
        },
        "id": "h12xJ25uutb0",
        "outputId": "ceb94852-937d-467f-9476-1d6da0518f14"
      },
      "source": [
        "# split the credit_df into train,validation and test sets\n",
        "\n",
        "train_val_df, downsampled_test_df = train_test_split(df_downsampled, test_size=0.2, random_state=12345)\n",
        "downsampled_train_df, downsampled_val_df = train_test_split(train_val_df, test_size=0.25, random_state=12345)\n",
        "print(downsampled_train_df.shape, downsampled_val_df.shape, downsampled_test_df.shape)"
      ],
      "execution_count": 347,
      "outputs": [
        {
          "output_type": "stream",
          "name": "stdout",
          "text": [
            "(2224, 11) (742, 11) (742, 11)\n"
          ]
        }
      ]
    },
    {
      "cell_type": "markdown",
      "metadata": {
        "id": "ziSQzU2Zutb1"
      },
      "source": [
        "### Identifying Input and Target Columns\n",
        "\n",
        "In this dataset, the target column 'Exited' was identified and omitted from the training data and the input columns "
      ]
    },
    {
      "cell_type": "code",
      "metadata": {
        "id": "oWUHSHH1utb1"
      },
      "source": [
        "input_columns = list(downsampled_train_df.columns)[:-1]\n",
        "target_column = downsampled_train_df['Exited']"
      ],
      "execution_count": 348,
      "outputs": []
    },
    {
      "cell_type": "code",
      "metadata": {
        "colab": {
          "base_uri": "https://localhost:8080/"
        },
        "id": "qcaLBuzbutb1",
        "outputId": "44c4b86e-73ff-4c72-84d5-ce8c99ed933e"
      },
      "source": [
        "input_columns"
      ],
      "execution_count": 349,
      "outputs": [
        {
          "output_type": "execute_result",
          "data": {
            "text/plain": [
              "['CreditScore',\n",
              " 'Geography',\n",
              " 'Gender',\n",
              " 'Age',\n",
              " 'Tenure',\n",
              " 'Balance',\n",
              " 'NumOfProducts',\n",
              " 'HasCrCard',\n",
              " 'IsActiveMember',\n",
              " 'EstimatedSalary']"
            ]
          },
          "metadata": {},
          "execution_count": 349
        }
      ]
    },
    {
      "cell_type": "code",
      "metadata": {
        "colab": {
          "base_uri": "https://localhost:8080/"
        },
        "id": "uk3nuTmMutb1",
        "outputId": "0c21889f-a16a-4a7a-a234-b5fa15ebc129"
      },
      "source": [
        "target_column"
      ],
      "execution_count": 350,
      "outputs": [
        {
          "output_type": "execute_result",
          "data": {
            "text/plain": [
              "4541    0\n",
              "516     1\n",
              "3394    0\n",
              "3370    1\n",
              "6428    1\n",
              "       ..\n",
              "144     1\n",
              "5213    0\n",
              "3083    1\n",
              "5685    1\n",
              "618     0\n",
              "Name: Exited, Length: 2224, dtype: int64"
            ]
          },
          "metadata": {},
          "execution_count": 350
        }
      ]
    },
    {
      "cell_type": "markdown",
      "metadata": {
        "id": "jPAND2IHutb1"
      },
      "source": [
        "Creating inputs and targets for the training, validation and test sets for further processing and model training."
      ]
    },
    {
      "cell_type": "code",
      "metadata": {
        "id": "QOWyIjAHutb2"
      },
      "source": [
        "downsampled_train_inputs = downsampled_train_df[input_columns].copy() # this is a dataframe\n",
        "#downsampled_train_targets = downsampled_train_df[target_column].copy() # this is a series"
      ],
      "execution_count": null,
      "outputs": []
    },
    {
      "cell_type": "code",
      "metadata": {
        "id": "79rZDHxyutb2"
      },
      "source": [
        "downsampled_val_inputs = downsampled_val_df[input_columns].copy()\n",
        "#downsampled_val_targets = downsampled_val_df[target_column].copy()"
      ],
      "execution_count": null,
      "outputs": []
    },
    {
      "cell_type": "code",
      "metadata": {
        "id": "V2vXlGVautb3"
      },
      "source": [
        "downsampled_test_inputs = downsampled_test_df[input_columns].copy()\n",
        "downsampled_test_targets = downsampled_test_df[target_column].copy()"
      ],
      "execution_count": 89,
      "outputs": []
    },
    {
      "cell_type": "code",
      "metadata": {
        "colab": {
          "base_uri": "https://localhost:8080/",
          "height": 424
        },
        "id": "CtN4GABRutb4",
        "outputId": "2662b8d1-540c-4e8b-a71c-e9a20e951824"
      },
      "source": [
        "downsampled_train_inputs"
      ],
      "execution_count": 90,
      "outputs": [
        {
          "output_type": "execute_result",
          "data": {
            "text/html": [
              "<div>\n",
              "<style scoped>\n",
              "    .dataframe tbody tr th:only-of-type {\n",
              "        vertical-align: middle;\n",
              "    }\n",
              "\n",
              "    .dataframe tbody tr th {\n",
              "        vertical-align: top;\n",
              "    }\n",
              "\n",
              "    .dataframe thead th {\n",
              "        text-align: right;\n",
              "    }\n",
              "</style>\n",
              "<table border=\"1\" class=\"dataframe\">\n",
              "  <thead>\n",
              "    <tr style=\"text-align: right;\">\n",
              "      <th></th>\n",
              "      <th>CreditScore</th>\n",
              "      <th>Geography</th>\n",
              "      <th>Gender</th>\n",
              "      <th>Age</th>\n",
              "      <th>Tenure</th>\n",
              "      <th>Balance</th>\n",
              "      <th>NumOfProducts</th>\n",
              "      <th>HasCrCard</th>\n",
              "      <th>IsActiveMember</th>\n",
              "      <th>EstimatedSalary</th>\n",
              "    </tr>\n",
              "  </thead>\n",
              "  <tbody>\n",
              "    <tr>\n",
              "      <th>4541</th>\n",
              "      <td>617</td>\n",
              "      <td>Spain</td>\n",
              "      <td>Female</td>\n",
              "      <td>36</td>\n",
              "      <td>7.0</td>\n",
              "      <td>115617.24</td>\n",
              "      <td>1</td>\n",
              "      <td>1</td>\n",
              "      <td>1</td>\n",
              "      <td>71519.40</td>\n",
              "    </tr>\n",
              "    <tr>\n",
              "      <th>516</th>\n",
              "      <td>468</td>\n",
              "      <td>France</td>\n",
              "      <td>Female</td>\n",
              "      <td>56</td>\n",
              "      <td>10.0</td>\n",
              "      <td>0.00</td>\n",
              "      <td>3</td>\n",
              "      <td>0</td>\n",
              "      <td>1</td>\n",
              "      <td>62256.87</td>\n",
              "    </tr>\n",
              "    <tr>\n",
              "      <th>3394</th>\n",
              "      <td>466</td>\n",
              "      <td>France</td>\n",
              "      <td>Male</td>\n",
              "      <td>29</td>\n",
              "      <td>6.0</td>\n",
              "      <td>0.00</td>\n",
              "      <td>2</td>\n",
              "      <td>1</td>\n",
              "      <td>1</td>\n",
              "      <td>2797.27</td>\n",
              "    </tr>\n",
              "    <tr>\n",
              "      <th>3370</th>\n",
              "      <td>698</td>\n",
              "      <td>Spain</td>\n",
              "      <td>Female</td>\n",
              "      <td>47</td>\n",
              "      <td>6.0</td>\n",
              "      <td>0.00</td>\n",
              "      <td>1</td>\n",
              "      <td>1</td>\n",
              "      <td>0</td>\n",
              "      <td>50213.81</td>\n",
              "    </tr>\n",
              "    <tr>\n",
              "      <th>6428</th>\n",
              "      <td>627</td>\n",
              "      <td>Germany</td>\n",
              "      <td>Female</td>\n",
              "      <td>39</td>\n",
              "      <td>5.0</td>\n",
              "      <td>124586.93</td>\n",
              "      <td>1</td>\n",
              "      <td>1</td>\n",
              "      <td>0</td>\n",
              "      <td>93132.61</td>\n",
              "    </tr>\n",
              "    <tr>\n",
              "      <th>...</th>\n",
              "      <td>...</td>\n",
              "      <td>...</td>\n",
              "      <td>...</td>\n",
              "      <td>...</td>\n",
              "      <td>...</td>\n",
              "      <td>...</td>\n",
              "      <td>...</td>\n",
              "      <td>...</td>\n",
              "      <td>...</td>\n",
              "      <td>...</td>\n",
              "    </tr>\n",
              "    <tr>\n",
              "      <th>144</th>\n",
              "      <td>691</td>\n",
              "      <td>France</td>\n",
              "      <td>Female</td>\n",
              "      <td>31</td>\n",
              "      <td>5.0</td>\n",
              "      <td>40915.55</td>\n",
              "      <td>1</td>\n",
              "      <td>1</td>\n",
              "      <td>0</td>\n",
              "      <td>126213.84</td>\n",
              "    </tr>\n",
              "    <tr>\n",
              "      <th>5213</th>\n",
              "      <td>752</td>\n",
              "      <td>Germany</td>\n",
              "      <td>Male</td>\n",
              "      <td>29</td>\n",
              "      <td>4.0</td>\n",
              "      <td>129514.99</td>\n",
              "      <td>1</td>\n",
              "      <td>1</td>\n",
              "      <td>1</td>\n",
              "      <td>102930.46</td>\n",
              "    </tr>\n",
              "    <tr>\n",
              "      <th>3083</th>\n",
              "      <td>466</td>\n",
              "      <td>France</td>\n",
              "      <td>Male</td>\n",
              "      <td>40</td>\n",
              "      <td>4.0</td>\n",
              "      <td>91592.06</td>\n",
              "      <td>1</td>\n",
              "      <td>1</td>\n",
              "      <td>0</td>\n",
              "      <td>141210.18</td>\n",
              "    </tr>\n",
              "    <tr>\n",
              "      <th>5685</th>\n",
              "      <td>705</td>\n",
              "      <td>Spain</td>\n",
              "      <td>Female</td>\n",
              "      <td>47</td>\n",
              "      <td>3.0</td>\n",
              "      <td>63488.70</td>\n",
              "      <td>1</td>\n",
              "      <td>0</td>\n",
              "      <td>1</td>\n",
              "      <td>28640.92</td>\n",
              "    </tr>\n",
              "    <tr>\n",
              "      <th>618</th>\n",
              "      <td>546</td>\n",
              "      <td>Spain</td>\n",
              "      <td>Male</td>\n",
              "      <td>42</td>\n",
              "      <td>7.0</td>\n",
              "      <td>139070.51</td>\n",
              "      <td>1</td>\n",
              "      <td>1</td>\n",
              "      <td>1</td>\n",
              "      <td>86945.00</td>\n",
              "    </tr>\n",
              "  </tbody>\n",
              "</table>\n",
              "<p>2224 rows × 10 columns</p>\n",
              "</div>"
            ],
            "text/plain": [
              "      CreditScore Geography  Gender  Age  Tenure    Balance  NumOfProducts  \\\n",
              "4541          617     Spain  Female   36     7.0  115617.24              1   \n",
              "516           468    France  Female   56    10.0       0.00              3   \n",
              "3394          466    France    Male   29     6.0       0.00              2   \n",
              "3370          698     Spain  Female   47     6.0       0.00              1   \n",
              "6428          627   Germany  Female   39     5.0  124586.93              1   \n",
              "...           ...       ...     ...  ...     ...        ...            ...   \n",
              "144           691    France  Female   31     5.0   40915.55              1   \n",
              "5213          752   Germany    Male   29     4.0  129514.99              1   \n",
              "3083          466    France    Male   40     4.0   91592.06              1   \n",
              "5685          705     Spain  Female   47     3.0   63488.70              1   \n",
              "618           546     Spain    Male   42     7.0  139070.51              1   \n",
              "\n",
              "      HasCrCard  IsActiveMember  EstimatedSalary  \n",
              "4541          1               1         71519.40  \n",
              "516           0               1         62256.87  \n",
              "3394          1               1          2797.27  \n",
              "3370          1               0         50213.81  \n",
              "6428          1               0         93132.61  \n",
              "...         ...             ...              ...  \n",
              "144           1               0        126213.84  \n",
              "5213          1               1        102930.46  \n",
              "3083          1               0        141210.18  \n",
              "5685          0               1         28640.92  \n",
              "618           1               1         86945.00  \n",
              "\n",
              "[2224 rows x 10 columns]"
            ]
          },
          "metadata": {},
          "execution_count": 90
        }
      ]
    },
    {
      "cell_type": "code",
      "metadata": {
        "colab": {
          "base_uri": "https://localhost:8080/"
        },
        "id": "Yuq8tkuSutb4",
        "outputId": "610f5c83-fccc-49a0-f43b-0ad52c1d1f78"
      },
      "source": [
        "downsampled_train_targets"
      ],
      "execution_count": 91,
      "outputs": [
        {
          "output_type": "execute_result",
          "data": {
            "text/plain": [
              "4541    0\n",
              "516     1\n",
              "3394    0\n",
              "3370    1\n",
              "6428    1\n",
              "       ..\n",
              "144     1\n",
              "5213    0\n",
              "3083    1\n",
              "5685    1\n",
              "618     0\n",
              "Name: Exited, Length: 2224, dtype: int64"
            ]
          },
          "metadata": {},
          "execution_count": 91
        }
      ]
    },
    {
      "cell_type": "markdown",
      "metadata": {
        "id": "NxN27zqCutb4"
      },
      "source": [
        "Identifying which of the columns are numerical and which ones are categorical, as we'll need to convert the categorical data to numbers for training a logistic regression model."
      ]
    },
    {
      "cell_type": "code",
      "metadata": {
        "id": "qFZl_0Q3utb4"
      },
      "source": [
        "numeric_cols = downsampled_train_inputs.select_dtypes(include=np.number).columns.tolist()\n",
        "categorical_cols = downsampled_train_inputs.select_dtypes('object').columns.tolist()"
      ],
      "execution_count": 92,
      "outputs": []
    },
    {
      "cell_type": "code",
      "metadata": {
        "colab": {
          "base_uri": "https://localhost:8080/"
        },
        "id": "Z800pHNKutb4",
        "outputId": "892c9c3e-a807-4d93-f026-cf324c5f6dab"
      },
      "source": [
        "categorical_cols"
      ],
      "execution_count": 93,
      "outputs": [
        {
          "output_type": "execute_result",
          "data": {
            "text/plain": [
              "['Geography', 'Gender']"
            ]
          },
          "metadata": {},
          "execution_count": 93
        }
      ]
    },
    {
      "cell_type": "code",
      "metadata": {
        "colab": {
          "base_uri": "https://localhost:8080/"
        },
        "id": "b5w6hfdNutb4",
        "outputId": "10c7c8a6-d169-462e-b4db-99a2dc32844f"
      },
      "source": [
        "numeric_cols"
      ],
      "execution_count": 94,
      "outputs": [
        {
          "output_type": "execute_result",
          "data": {
            "text/plain": [
              "['CreditScore',\n",
              " 'Age',\n",
              " 'Tenure',\n",
              " 'Balance',\n",
              " 'NumOfProducts',\n",
              " 'HasCrCard',\n",
              " 'IsActiveMember',\n",
              " 'EstimatedSalary']"
            ]
          },
          "metadata": {},
          "execution_count": 94
        }
      ]
    },
    {
      "cell_type": "markdown",
      "metadata": {
        "id": "LACRQtQYutb5"
      },
      "source": [
        "### Scaling Numeric Features -for the downsampled df\n",
        "\n",
        "Scaling numeric features to ensure that no particular feature has a disproportionate impact on the model. \n",
        "The numeric columns in our dataset have varying ranges and will scaled to a small range of values between $(0,1)$ \n"
      ]
    },
    {
      "cell_type": "markdown",
      "metadata": {
        "id": "RdqeXTngutb5"
      },
      "source": [
        "Let's use `MinMaxScaler` from `sklearn.preprocessing` to scale values to the $(0,1)$ range."
      ]
    },
    {
      "cell_type": "code",
      "metadata": {
        "id": "IVyqHpSMutb5"
      },
      "source": [
        "d_scaler = MinMaxScaler()"
      ],
      "execution_count": 96,
      "outputs": []
    },
    {
      "cell_type": "markdown",
      "metadata": {
        "id": "Cmxp4eeEutb5"
      },
      "source": [
        "First, we `fit` the scaler to the data i.e. compute the range of values for each numeric column."
      ]
    },
    {
      "cell_type": "code",
      "metadata": {
        "colab": {
          "base_uri": "https://localhost:8080/"
        },
        "id": "3ADfj-T8utb5",
        "outputId": "a61b1bb1-b506-4f7a-80e5-78e3a9c88d11"
      },
      "source": [
        "d_scaler.fit(df_downsampled[numeric_cols])"
      ],
      "execution_count": 97,
      "outputs": [
        {
          "output_type": "execute_result",
          "data": {
            "text/plain": [
              "MinMaxScaler(copy=True, feature_range=(0, 1))"
            ]
          },
          "metadata": {},
          "execution_count": 97
        }
      ]
    },
    {
      "cell_type": "markdown",
      "metadata": {
        "id": "atY6f14butb6"
      },
      "source": [
        "We can now separately scale the training, validation and test sets using the `transform` method of `scaler`."
      ]
    },
    {
      "cell_type": "code",
      "metadata": {
        "id": "w_OQhc4Futb6"
      },
      "source": [
        "downsampled_train_inputs[numeric_cols] = d_scaler.transform(downsampled_train_inputs[numeric_cols])\n",
        "downsampled_val_inputs[numeric_cols] = d_scaler.transform(downsampled_val_inputs[numeric_cols])\n",
        "downsampled_test_inputs[numeric_cols] = d_scaler.transform(downsampled_test_inputs[numeric_cols])"
      ],
      "execution_count": 99,
      "outputs": []
    },
    {
      "cell_type": "markdown",
      "metadata": {
        "id": "X9_3mk9-utb6"
      },
      "source": [
        "We can now verify that values in each column lie in the range $(0,1)$"
      ]
    },
    {
      "cell_type": "code",
      "metadata": {
        "colab": {
          "base_uri": "https://localhost:8080/",
          "height": 300
        },
        "id": "iYNTlbf6utb6",
        "outputId": "ea377364-00dd-4d0d-a9b7-5b16ef0eafba"
      },
      "source": [
        "downsampled_train_inputs[numeric_cols].describe()"
      ],
      "execution_count": 100,
      "outputs": [
        {
          "output_type": "execute_result",
          "data": {
            "text/html": [
              "<div>\n",
              "<style scoped>\n",
              "    .dataframe tbody tr th:only-of-type {\n",
              "        vertical-align: middle;\n",
              "    }\n",
              "\n",
              "    .dataframe tbody tr th {\n",
              "        vertical-align: top;\n",
              "    }\n",
              "\n",
              "    .dataframe thead th {\n",
              "        text-align: right;\n",
              "    }\n",
              "</style>\n",
              "<table border=\"1\" class=\"dataframe\">\n",
              "  <thead>\n",
              "    <tr style=\"text-align: right;\">\n",
              "      <th></th>\n",
              "      <th>CreditScore</th>\n",
              "      <th>Age</th>\n",
              "      <th>Tenure</th>\n",
              "      <th>Balance</th>\n",
              "      <th>NumOfProducts</th>\n",
              "      <th>HasCrCard</th>\n",
              "      <th>IsActiveMember</th>\n",
              "      <th>EstimatedSalary</th>\n",
              "    </tr>\n",
              "  </thead>\n",
              "  <tbody>\n",
              "    <tr>\n",
              "      <th>count</th>\n",
              "      <td>2224.000000</td>\n",
              "      <td>2224.000000</td>\n",
              "      <td>2224.000000</td>\n",
              "      <td>2224.000000</td>\n",
              "      <td>2224.000000</td>\n",
              "      <td>2224.000000</td>\n",
              "      <td>2224.000000</td>\n",
              "      <td>2224.000000</td>\n",
              "    </tr>\n",
              "    <tr>\n",
              "      <th>mean</th>\n",
              "      <td>0.592129</td>\n",
              "      <td>0.331462</td>\n",
              "      <td>0.508993</td>\n",
              "      <td>0.325040</td>\n",
              "      <td>0.168915</td>\n",
              "      <td>0.715378</td>\n",
              "      <td>0.459982</td>\n",
              "      <td>0.496486</td>\n",
              "    </tr>\n",
              "    <tr>\n",
              "      <th>std</th>\n",
              "      <td>0.194775</td>\n",
              "      <td>0.153364</td>\n",
              "      <td>0.292875</td>\n",
              "      <td>0.246759</td>\n",
              "      <td>0.226885</td>\n",
              "      <td>0.451336</td>\n",
              "      <td>0.498508</td>\n",
              "      <td>0.289759</td>\n",
              "    </tr>\n",
              "    <tr>\n",
              "      <th>min</th>\n",
              "      <td>0.000000</td>\n",
              "      <td>0.000000</td>\n",
              "      <td>0.000000</td>\n",
              "      <td>0.000000</td>\n",
              "      <td>0.000000</td>\n",
              "      <td>0.000000</td>\n",
              "      <td>0.000000</td>\n",
              "      <td>0.000393</td>\n",
              "    </tr>\n",
              "    <tr>\n",
              "      <th>25%</th>\n",
              "      <td>0.458000</td>\n",
              "      <td>0.228571</td>\n",
              "      <td>0.300000</td>\n",
              "      <td>0.000000</td>\n",
              "      <td>0.000000</td>\n",
              "      <td>0.000000</td>\n",
              "      <td>0.000000</td>\n",
              "      <td>0.241135</td>\n",
              "    </tr>\n",
              "    <tr>\n",
              "      <th>50%</th>\n",
              "      <td>0.589000</td>\n",
              "      <td>0.314286</td>\n",
              "      <td>0.500000</td>\n",
              "      <td>0.409354</td>\n",
              "      <td>0.000000</td>\n",
              "      <td>1.000000</td>\n",
              "      <td>0.000000</td>\n",
              "      <td>0.504163</td>\n",
              "    </tr>\n",
              "    <tr>\n",
              "      <th>75%</th>\n",
              "      <td>0.724000</td>\n",
              "      <td>0.428571</td>\n",
              "      <td>0.800000</td>\n",
              "      <td>0.515179</td>\n",
              "      <td>0.333333</td>\n",
              "      <td>1.000000</td>\n",
              "      <td>1.000000</td>\n",
              "      <td>0.747615</td>\n",
              "    </tr>\n",
              "    <tr>\n",
              "      <th>max</th>\n",
              "      <td>1.000000</td>\n",
              "      <td>1.000000</td>\n",
              "      <td>1.000000</td>\n",
              "      <td>1.000000</td>\n",
              "      <td>1.000000</td>\n",
              "      <td>1.000000</td>\n",
              "      <td>1.000000</td>\n",
              "      <td>0.999660</td>\n",
              "    </tr>\n",
              "  </tbody>\n",
              "</table>\n",
              "</div>"
            ],
            "text/plain": [
              "       CreditScore          Age       Tenure      Balance  NumOfProducts  \\\n",
              "count  2224.000000  2224.000000  2224.000000  2224.000000    2224.000000   \n",
              "mean      0.592129     0.331462     0.508993     0.325040       0.168915   \n",
              "std       0.194775     0.153364     0.292875     0.246759       0.226885   \n",
              "min       0.000000     0.000000     0.000000     0.000000       0.000000   \n",
              "25%       0.458000     0.228571     0.300000     0.000000       0.000000   \n",
              "50%       0.589000     0.314286     0.500000     0.409354       0.000000   \n",
              "75%       0.724000     0.428571     0.800000     0.515179       0.333333   \n",
              "max       1.000000     1.000000     1.000000     1.000000       1.000000   \n",
              "\n",
              "         HasCrCard  IsActiveMember  EstimatedSalary  \n",
              "count  2224.000000     2224.000000      2224.000000  \n",
              "mean      0.715378        0.459982         0.496486  \n",
              "std       0.451336        0.498508         0.289759  \n",
              "min       0.000000        0.000000         0.000393  \n",
              "25%       0.000000        0.000000         0.241135  \n",
              "50%       1.000000        0.000000         0.504163  \n",
              "75%       1.000000        1.000000         0.747615  \n",
              "max       1.000000        1.000000         0.999660  "
            ]
          },
          "metadata": {},
          "execution_count": 100
        }
      ]
    },
    {
      "cell_type": "markdown",
      "metadata": {
        "id": "aVPhxicwutb6"
      },
      "source": [
        "## Encoding Categorical Data\n",
        "\n",
        "Using One hot encoding to convert the categorical columns to (0/1) column for each unique category "
      ]
    },
    {
      "cell_type": "code",
      "metadata": {
        "colab": {
          "base_uri": "https://localhost:8080/"
        },
        "id": "E5wWm9ciutb7",
        "outputId": "95d3e011-66fe-4163-edf5-62eaa23b263e"
      },
      "source": [
        "df_downsampled[categorical_cols].nunique()"
      ],
      "execution_count": 101,
      "outputs": [
        {
          "output_type": "execute_result",
          "data": {
            "text/plain": [
              "Geography    3\n",
              "Gender       2\n",
              "dtype: int64"
            ]
          },
          "metadata": {},
          "execution_count": 101
        }
      ]
    },
    {
      "cell_type": "markdown",
      "metadata": {
        "id": "GuzQGjWMutb7"
      },
      "source": [
        "We can perform one hot encoding using the `OneHotEncoder` class from `sklearn.preprocessing`."
      ]
    },
    {
      "cell_type": "markdown",
      "metadata": {
        "id": "8Fl6MNWgutb7"
      },
      "source": [
        "First, we `fit` the encoder to the data i.e. identify the full list of categories across all categorical columns."
      ]
    },
    {
      "cell_type": "code",
      "metadata": {
        "colab": {
          "base_uri": "https://localhost:8080/"
        },
        "id": "zq9y7-tnutb8",
        "outputId": "cd47b25e-7031-4795-d8ca-ac905b493a76"
      },
      "source": [
        "encoder.fit(df_downsampled[categorical_cols])"
      ],
      "execution_count": 102,
      "outputs": [
        {
          "output_type": "execute_result",
          "data": {
            "text/plain": [
              "OneHotEncoder(categories='auto', drop=None, dtype=<class 'numpy.float64'>,\n",
              "              handle_unknown='ignore', sparse=False)"
            ]
          },
          "metadata": {},
          "execution_count": 102
        }
      ]
    },
    {
      "cell_type": "code",
      "metadata": {
        "colab": {
          "base_uri": "https://localhost:8080/"
        },
        "id": "A3KxlrG4utb8",
        "outputId": "f281b95b-0af0-4c1f-c7ad-107707c0b4a2"
      },
      "source": [
        "encoder.categories_"
      ],
      "execution_count": 103,
      "outputs": [
        {
          "output_type": "execute_result",
          "data": {
            "text/plain": [
              "[array(['France', 'Germany', 'Spain'], dtype=object),\n",
              " array(['Female', 'Male'], dtype=object)]"
            ]
          },
          "metadata": {},
          "execution_count": 103
        }
      ]
    },
    {
      "cell_type": "markdown",
      "metadata": {
        "id": "zCgyB676utb8"
      },
      "source": [
        "The encoder has created a list of categories for each of the categorical columns in the dataset. \n",
        "\n",
        "We can generate column names for each individual category using `get_feature_names`."
      ]
    },
    {
      "cell_type": "code",
      "metadata": {
        "colab": {
          "base_uri": "https://localhost:8080/"
        },
        "id": "Klz3G42nutb8",
        "outputId": "6fb6eee2-c1fe-458d-f8c4-248a969b00fd"
      },
      "source": [
        "encoded_cols = list(encoder.get_feature_names(categorical_cols))\n",
        "print(encoded_cols)"
      ],
      "execution_count": 104,
      "outputs": [
        {
          "output_type": "stream",
          "name": "stdout",
          "text": [
            "['Geography_France', 'Geography_Germany', 'Geography_Spain', 'Gender_Female', 'Gender_Male']\n"
          ]
        }
      ]
    },
    {
      "cell_type": "markdown",
      "metadata": {
        "id": "Rdjv76lZutb9"
      },
      "source": [
        "Adding the above columns to the `downsampled_train_inputs`, `downsampled_val_inputs` and `downsampled_test_inputs`using the `transform` method of `encoder`."
      ]
    },
    {
      "cell_type": "code",
      "metadata": {
        "id": "zStzGFvVutb9"
      },
      "source": [
        "downsampled_train_inputs[encoded_cols] = encoder.transform(downsampled_train_inputs[categorical_cols])\n",
        "downsampled_val_inputs[encoded_cols] = encoder.transform(downsampled_val_inputs[categorical_cols])\n",
        "downsampled_test_inputs[encoded_cols] = encoder.transform(downsampled_test_inputs[categorical_cols])\n"
      ],
      "execution_count": 105,
      "outputs": []
    },
    {
      "cell_type": "markdown",
      "metadata": {
        "id": "WkypvpIEutb9"
      },
      "source": [
        "We can verify that these new columns have been added to our training, test and validation sets."
      ]
    },
    {
      "cell_type": "code",
      "metadata": {
        "id": "9BpG50Ysutb9"
      },
      "source": [
        "pd.set_option('display.max_columns', None)"
      ],
      "execution_count": 106,
      "outputs": []
    },
    {
      "cell_type": "code",
      "metadata": {
        "colab": {
          "base_uri": "https://localhost:8080/",
          "height": 444
        },
        "id": "1Jcit9UKutb9",
        "outputId": "f8d1e2e8-0151-4db8-a26d-cb8de6ba41e1"
      },
      "source": [
        "downsampled_test_inputs"
      ],
      "execution_count": 107,
      "outputs": [
        {
          "output_type": "execute_result",
          "data": {
            "text/html": [
              "<div>\n",
              "<style scoped>\n",
              "    .dataframe tbody tr th:only-of-type {\n",
              "        vertical-align: middle;\n",
              "    }\n",
              "\n",
              "    .dataframe tbody tr th {\n",
              "        vertical-align: top;\n",
              "    }\n",
              "\n",
              "    .dataframe thead th {\n",
              "        text-align: right;\n",
              "    }\n",
              "</style>\n",
              "<table border=\"1\" class=\"dataframe\">\n",
              "  <thead>\n",
              "    <tr style=\"text-align: right;\">\n",
              "      <th></th>\n",
              "      <th>CreditScore</th>\n",
              "      <th>Geography</th>\n",
              "      <th>Gender</th>\n",
              "      <th>Age</th>\n",
              "      <th>Tenure</th>\n",
              "      <th>Balance</th>\n",
              "      <th>NumOfProducts</th>\n",
              "      <th>HasCrCard</th>\n",
              "      <th>IsActiveMember</th>\n",
              "      <th>EstimatedSalary</th>\n",
              "      <th>Geography_France</th>\n",
              "      <th>Geography_Germany</th>\n",
              "      <th>Geography_Spain</th>\n",
              "      <th>Gender_Female</th>\n",
              "      <th>Gender_Male</th>\n",
              "    </tr>\n",
              "  </thead>\n",
              "  <tbody>\n",
              "    <tr>\n",
              "      <th>181</th>\n",
              "      <td>0.320</td>\n",
              "      <td>France</td>\n",
              "      <td>Male</td>\n",
              "      <td>0.671429</td>\n",
              "      <td>0.2</td>\n",
              "      <td>0.000000</td>\n",
              "      <td>0.333333</td>\n",
              "      <td>1.0</td>\n",
              "      <td>1.0</td>\n",
              "      <td>0.240423</td>\n",
              "      <td>1.0</td>\n",
              "      <td>0.0</td>\n",
              "      <td>0.0</td>\n",
              "      <td>0.0</td>\n",
              "      <td>1.0</td>\n",
              "    </tr>\n",
              "    <tr>\n",
              "      <th>8170</th>\n",
              "      <td>0.498</td>\n",
              "      <td>Germany</td>\n",
              "      <td>Male</td>\n",
              "      <td>0.614286</td>\n",
              "      <td>0.1</td>\n",
              "      <td>0.497166</td>\n",
              "      <td>0.000000</td>\n",
              "      <td>0.0</td>\n",
              "      <td>1.0</td>\n",
              "      <td>0.452121</td>\n",
              "      <td>0.0</td>\n",
              "      <td>1.0</td>\n",
              "      <td>0.0</td>\n",
              "      <td>0.0</td>\n",
              "      <td>1.0</td>\n",
              "    </tr>\n",
              "    <tr>\n",
              "      <th>7944</th>\n",
              "      <td>0.340</td>\n",
              "      <td>France</td>\n",
              "      <td>Female</td>\n",
              "      <td>0.300000</td>\n",
              "      <td>0.1</td>\n",
              "      <td>0.292920</td>\n",
              "      <td>0.000000</td>\n",
              "      <td>0.0</td>\n",
              "      <td>1.0</td>\n",
              "      <td>0.548353</td>\n",
              "      <td>1.0</td>\n",
              "      <td>0.0</td>\n",
              "      <td>0.0</td>\n",
              "      <td>1.0</td>\n",
              "      <td>0.0</td>\n",
              "    </tr>\n",
              "    <tr>\n",
              "      <th>4502</th>\n",
              "      <td>0.696</td>\n",
              "      <td>Spain</td>\n",
              "      <td>Male</td>\n",
              "      <td>0.385714</td>\n",
              "      <td>0.5</td>\n",
              "      <td>0.655449</td>\n",
              "      <td>0.000000</td>\n",
              "      <td>1.0</td>\n",
              "      <td>0.0</td>\n",
              "      <td>0.710155</td>\n",
              "      <td>0.0</td>\n",
              "      <td>0.0</td>\n",
              "      <td>1.0</td>\n",
              "      <td>0.0</td>\n",
              "      <td>1.0</td>\n",
              "    </tr>\n",
              "    <tr>\n",
              "      <th>1763</th>\n",
              "      <td>0.734</td>\n",
              "      <td>France</td>\n",
              "      <td>Male</td>\n",
              "      <td>0.285714</td>\n",
              "      <td>0.7</td>\n",
              "      <td>0.388441</td>\n",
              "      <td>0.000000</td>\n",
              "      <td>0.0</td>\n",
              "      <td>0.0</td>\n",
              "      <td>0.946304</td>\n",
              "      <td>1.0</td>\n",
              "      <td>0.0</td>\n",
              "      <td>0.0</td>\n",
              "      <td>0.0</td>\n",
              "      <td>1.0</td>\n",
              "    </tr>\n",
              "    <tr>\n",
              "      <th>...</th>\n",
              "      <td>...</td>\n",
              "      <td>...</td>\n",
              "      <td>...</td>\n",
              "      <td>...</td>\n",
              "      <td>...</td>\n",
              "      <td>...</td>\n",
              "      <td>...</td>\n",
              "      <td>...</td>\n",
              "      <td>...</td>\n",
              "      <td>...</td>\n",
              "      <td>...</td>\n",
              "      <td>...</td>\n",
              "      <td>...</td>\n",
              "      <td>...</td>\n",
              "      <td>...</td>\n",
              "    </tr>\n",
              "    <tr>\n",
              "      <th>9898</th>\n",
              "      <td>0.478</td>\n",
              "      <td>France</td>\n",
              "      <td>Male</td>\n",
              "      <td>0.285714</td>\n",
              "      <td>0.4</td>\n",
              "      <td>0.000000</td>\n",
              "      <td>0.000000</td>\n",
              "      <td>1.0</td>\n",
              "      <td>0.0</td>\n",
              "      <td>0.477604</td>\n",
              "      <td>1.0</td>\n",
              "      <td>0.0</td>\n",
              "      <td>0.0</td>\n",
              "      <td>0.0</td>\n",
              "      <td>1.0</td>\n",
              "    </tr>\n",
              "    <tr>\n",
              "      <th>7815</th>\n",
              "      <td>0.466</td>\n",
              "      <td>France</td>\n",
              "      <td>Male</td>\n",
              "      <td>0.285714</td>\n",
              "      <td>0.8</td>\n",
              "      <td>0.000000</td>\n",
              "      <td>0.000000</td>\n",
              "      <td>1.0</td>\n",
              "      <td>0.0</td>\n",
              "      <td>0.239307</td>\n",
              "      <td>1.0</td>\n",
              "      <td>0.0</td>\n",
              "      <td>0.0</td>\n",
              "      <td>0.0</td>\n",
              "      <td>1.0</td>\n",
              "    </tr>\n",
              "    <tr>\n",
              "      <th>1248</th>\n",
              "      <td>0.678</td>\n",
              "      <td>Spain</td>\n",
              "      <td>Female</td>\n",
              "      <td>0.142857</td>\n",
              "      <td>0.3</td>\n",
              "      <td>0.000000</td>\n",
              "      <td>0.333333</td>\n",
              "      <td>1.0</td>\n",
              "      <td>1.0</td>\n",
              "      <td>0.962679</td>\n",
              "      <td>0.0</td>\n",
              "      <td>0.0</td>\n",
              "      <td>1.0</td>\n",
              "      <td>1.0</td>\n",
              "      <td>0.0</td>\n",
              "    </tr>\n",
              "    <tr>\n",
              "      <th>5937</th>\n",
              "      <td>0.780</td>\n",
              "      <td>Spain</td>\n",
              "      <td>Female</td>\n",
              "      <td>0.185714</td>\n",
              "      <td>0.8</td>\n",
              "      <td>0.000000</td>\n",
              "      <td>0.333333</td>\n",
              "      <td>0.0</td>\n",
              "      <td>0.0</td>\n",
              "      <td>0.433451</td>\n",
              "      <td>0.0</td>\n",
              "      <td>0.0</td>\n",
              "      <td>1.0</td>\n",
              "      <td>1.0</td>\n",
              "      <td>0.0</td>\n",
              "    </tr>\n",
              "    <tr>\n",
              "      <th>4026</th>\n",
              "      <td>0.824</td>\n",
              "      <td>Germany</td>\n",
              "      <td>Male</td>\n",
              "      <td>0.542857</td>\n",
              "      <td>1.0</td>\n",
              "      <td>0.399608</td>\n",
              "      <td>0.666667</td>\n",
              "      <td>1.0</td>\n",
              "      <td>1.0</td>\n",
              "      <td>0.385851</td>\n",
              "      <td>0.0</td>\n",
              "      <td>1.0</td>\n",
              "      <td>0.0</td>\n",
              "      <td>0.0</td>\n",
              "      <td>1.0</td>\n",
              "    </tr>\n",
              "  </tbody>\n",
              "</table>\n",
              "<p>742 rows × 15 columns</p>\n",
              "</div>"
            ],
            "text/plain": [
              "      CreditScore Geography  Gender       Age  Tenure   Balance  \\\n",
              "181         0.320    France    Male  0.671429     0.2  0.000000   \n",
              "8170        0.498   Germany    Male  0.614286     0.1  0.497166   \n",
              "7944        0.340    France  Female  0.300000     0.1  0.292920   \n",
              "4502        0.696     Spain    Male  0.385714     0.5  0.655449   \n",
              "1763        0.734    France    Male  0.285714     0.7  0.388441   \n",
              "...           ...       ...     ...       ...     ...       ...   \n",
              "9898        0.478    France    Male  0.285714     0.4  0.000000   \n",
              "7815        0.466    France    Male  0.285714     0.8  0.000000   \n",
              "1248        0.678     Spain  Female  0.142857     0.3  0.000000   \n",
              "5937        0.780     Spain  Female  0.185714     0.8  0.000000   \n",
              "4026        0.824   Germany    Male  0.542857     1.0  0.399608   \n",
              "\n",
              "      NumOfProducts  HasCrCard  IsActiveMember  EstimatedSalary  \\\n",
              "181        0.333333        1.0             1.0         0.240423   \n",
              "8170       0.000000        0.0             1.0         0.452121   \n",
              "7944       0.000000        0.0             1.0         0.548353   \n",
              "4502       0.000000        1.0             0.0         0.710155   \n",
              "1763       0.000000        0.0             0.0         0.946304   \n",
              "...             ...        ...             ...              ...   \n",
              "9898       0.000000        1.0             0.0         0.477604   \n",
              "7815       0.000000        1.0             0.0         0.239307   \n",
              "1248       0.333333        1.0             1.0         0.962679   \n",
              "5937       0.333333        0.0             0.0         0.433451   \n",
              "4026       0.666667        1.0             1.0         0.385851   \n",
              "\n",
              "      Geography_France  Geography_Germany  Geography_Spain  Gender_Female  \\\n",
              "181                1.0                0.0              0.0            0.0   \n",
              "8170               0.0                1.0              0.0            0.0   \n",
              "7944               1.0                0.0              0.0            1.0   \n",
              "4502               0.0                0.0              1.0            0.0   \n",
              "1763               1.0                0.0              0.0            0.0   \n",
              "...                ...                ...              ...            ...   \n",
              "9898               1.0                0.0              0.0            0.0   \n",
              "7815               1.0                0.0              0.0            0.0   \n",
              "1248               0.0                0.0              1.0            1.0   \n",
              "5937               0.0                0.0              1.0            1.0   \n",
              "4026               0.0                1.0              0.0            0.0   \n",
              "\n",
              "      Gender_Male  \n",
              "181           1.0  \n",
              "8170          1.0  \n",
              "7944          0.0  \n",
              "4502          1.0  \n",
              "1763          1.0  \n",
              "...           ...  \n",
              "9898          1.0  \n",
              "7815          1.0  \n",
              "1248          0.0  \n",
              "5937          0.0  \n",
              "4026          1.0  \n",
              "\n",
              "[742 rows x 15 columns]"
            ]
          },
          "metadata": {},
          "execution_count": 107
        }
      ]
    },
    {
      "cell_type": "markdown",
      "metadata": {
        "id": "rtIT483myOIS"
      },
      "source": [
        "## Data Modelling on the downsampled dataset \n",
        "\n",
        "\n"
      ]
    },
    {
      "cell_type": "markdown",
      "metadata": {
        "id": "D6uogMyy1kQu"
      },
      "source": [
        "`Training a Logistic Regression Model using the downsampled dataset`\n",
        "\n",
        "---\n",
        "\n",
        "\n"
      ]
    },
    {
      "cell_type": "code",
      "metadata": {
        "id": "FCNoBuDdzfj_"
      },
      "source": [
        "d_model = LogisticRegression(solver='liblinear')"
      ],
      "execution_count": 108,
      "outputs": []
    },
    {
      "cell_type": "code",
      "metadata": {
        "colab": {
          "base_uri": "https://localhost:8080/"
        },
        "id": "r4QvCh62zfj_",
        "outputId": "189a5570-b28d-4b35-ca82-bbf20d2a1e15"
      },
      "source": [
        "d_model.fit(downsampled_train_inputs[numeric_cols + encoded_cols], downsampled_train_targets)"
      ],
      "execution_count": 116,
      "outputs": [
        {
          "output_type": "execute_result",
          "data": {
            "text/plain": [
              "LogisticRegression(C=1.0, class_weight=None, dual=False, fit_intercept=True,\n",
              "                   intercept_scaling=1, l1_ratio=None, max_iter=100,\n",
              "                   multi_class='auto', n_jobs=None, penalty='l2',\n",
              "                   random_state=None, solver='liblinear', tol=0.0001, verbose=0,\n",
              "                   warm_start=False)"
            ]
          },
          "metadata": {},
          "execution_count": 116
        }
      ]
    },
    {
      "cell_type": "markdown",
      "metadata": {
        "id": "v5v_WiAszfkA"
      },
      "source": [
        "### Making Predictions and Evaluating the Logistic Regression Model\n",
        "\n",
        "We can now use the trained model to make predictions on the training, test "
      ]
    },
    {
      "cell_type": "code",
      "metadata": {
        "id": "OA5MP05PzfkA"
      },
      "source": [
        "X_train = downsampled_train_inputs[numeric_cols + encoded_cols]\n",
        "X_val = downsampled_val_inputs[numeric_cols + encoded_cols]\n",
        "X_test = downsampled_test_inputs[numeric_cols + encoded_cols]\n"
      ],
      "execution_count": 117,
      "outputs": []
    },
    {
      "cell_type": "code",
      "metadata": {
        "id": "bvMoICTnzfkA"
      },
      "source": [
        "downsampled_train_preds = d_model.predict(X_train)\n",
        "downsampled_val_preds = d_model.predict(X_val)\n",
        "downsampled_test_preds = d_model.predict(X_test)"
      ],
      "execution_count": 123,
      "outputs": []
    },
    {
      "cell_type": "code",
      "metadata": {
        "colab": {
          "base_uri": "https://localhost:8080/"
        },
        "id": "QpNzHgS2zfkA",
        "outputId": "94ecefba-dd49-4468-f3de-bbf2f171beef"
      },
      "source": [
        "downsampled_train_preds"
      ],
      "execution_count": 124,
      "outputs": [
        {
          "output_type": "execute_result",
          "data": {
            "text/plain": [
              "array([0, 1, 0, ..., 1, 1, 0])"
            ]
          },
          "metadata": {},
          "execution_count": 124
        }
      ]
    },
    {
      "cell_type": "code",
      "metadata": {
        "colab": {
          "base_uri": "https://localhost:8080/"
        },
        "id": "_CLNUoNlzfkA",
        "outputId": "4e67fde7-f33a-4603-aeb1-625624c9596f"
      },
      "source": [
        "downsampled_train_targets"
      ],
      "execution_count": 125,
      "outputs": [
        {
          "output_type": "execute_result",
          "data": {
            "text/plain": [
              "4541    0\n",
              "516     1\n",
              "3394    0\n",
              "3370    1\n",
              "6428    1\n",
              "       ..\n",
              "144     1\n",
              "5213    0\n",
              "3083    1\n",
              "5685    1\n",
              "618     0\n",
              "Name: Exited, Length: 2224, dtype: int64"
            ]
          },
          "metadata": {},
          "execution_count": 125
        }
      ]
    },
    {
      "cell_type": "code",
      "metadata": {
        "colab": {
          "base_uri": "https://localhost:8080/"
        },
        "id": "RPuHmQ84zfkA",
        "outputId": "f1b66856-ec64-434b-857d-03abb8762ceb"
      },
      "source": [
        "model.classes_"
      ],
      "execution_count": 126,
      "outputs": [
        {
          "output_type": "execute_result",
          "data": {
            "text/plain": [
              "array([0, 1])"
            ]
          },
          "metadata": {},
          "execution_count": 126
        }
      ]
    },
    {
      "cell_type": "markdown",
      "metadata": {
        "id": "-xjpgAylzfkA"
      },
      "source": [
        "We can test the accuracy of the model's predictions by computing the percentage of matching values in `train_preds` and `train_targets`.\n",
        "\n",
        "This can be done using the `accuracy_score` function from `sklearn.metrics`."
      ]
    },
    {
      "cell_type": "code",
      "metadata": {
        "colab": {
          "base_uri": "https://localhost:8080/"
        },
        "id": "eQPeJEOdzfkB",
        "outputId": "10d51e28-c9fb-4117-9f57-6c914d42be73"
      },
      "source": [
        "accuracy_score(downsampled_train_targets, downsampled_train_preds)"
      ],
      "execution_count": 127,
      "outputs": [
        {
          "output_type": "execute_result",
          "data": {
            "text/plain": [
              "0.7162769784172662"
            ]
          },
          "metadata": {},
          "execution_count": 127
        }
      ]
    },
    {
      "cell_type": "code",
      "metadata": {
        "colab": {
          "base_uri": "https://localhost:8080/"
        },
        "id": "XMA9lx-AzfkB",
        "outputId": "bad9da4d-3791-4bc1-c147-61e79a226425"
      },
      "source": [
        "#accuracy of the model's predictions on the validation set\n",
        "accuracy_score(downsampled_val_targets, downsampled_val_preds)"
      ],
      "execution_count": 128,
      "outputs": [
        {
          "output_type": "execute_result",
          "data": {
            "text/plain": [
              "0.6994609164420486"
            ]
          },
          "metadata": {},
          "execution_count": 128
        }
      ]
    },
    {
      "cell_type": "code",
      "metadata": {
        "colab": {
          "base_uri": "https://localhost:8080/"
        },
        "id": "T0G6Zk8JzfkB",
        "outputId": "2e7eb577-0bfd-4a2a-8f08-5fd6a65cae98"
      },
      "source": [
        "#accuracy of the model's predictions on the test set\n",
        "accuracy_score(downsampled_test_targets, downsampled_test_preds)"
      ],
      "execution_count": 129,
      "outputs": [
        {
          "output_type": "execute_result",
          "data": {
            "text/plain": [
              "0.6819407008086253"
            ]
          },
          "metadata": {},
          "execution_count": 129
        }
      ]
    },
    {
      "cell_type": "code",
      "metadata": {
        "colab": {
          "base_uri": "https://localhost:8080/"
        },
        "id": "usdpCbE-EK6I",
        "outputId": "c607f255-54eb-4a2c-a832-410b73dc9dd9"
      },
      "source": [
        "# calculate the F-Score\n",
        "print('F1:', f1_score(downsampled_test_targets, downsampled_test_preds))"
      ],
      "execution_count": 150,
      "outputs": [
        {
          "output_type": "stream",
          "name": "stdout",
          "text": [
            "F1: 0.6853333333333332\n"
          ]
        }
      ]
    },
    {
      "cell_type": "markdown",
      "metadata": {
        "id": "tPR2EjhzzfkB"
      },
      "source": [
        "The model achieves an accuracy of 71.6% on the training set, 69.9% on the validation set and 68.1% on the test set.\n",
        "\n",
        "the models F1 score is 68%\n",
        "\n",
        "Using a confusion matrix to visualize the breakdown of correctly and incorrectly classified inputs\n",
        ":"
      ]
    },
    {
      "cell_type": "code",
      "metadata": {
        "colab": {
          "base_uri": "https://localhost:8080/"
        },
        "id": "e0hdQbMdzfkB",
        "outputId": "53decded-1b98-448d-9978-3f4c4ebd8529"
      },
      "source": [
        "#breakdown of correctly and incorrectly classified inputs in the train set\n",
        "confusion_matrix(downsampled_train_targets, downsampled_train_preds, normalize='true')"
      ],
      "execution_count": 130,
      "outputs": [
        {
          "output_type": "execute_result",
          "data": {
            "text/plain": [
              "array([[0.69654528, 0.30345472],\n",
              "       [0.26539462, 0.73460538]])"
            ]
          },
          "metadata": {},
          "execution_count": 130
        }
      ]
    },
    {
      "cell_type": "code",
      "metadata": {
        "colab": {
          "base_uri": "https://localhost:8080/"
        },
        "id": "8ADZcKkNzfkB",
        "outputId": "3aef7087-db71-4d3e-c55b-13edf66e93d3"
      },
      "source": [
        "#breakdown of correctly and incorrectly classified inputs in the validation set\n",
        "confusion_matrix(downsampled_val_targets, downsampled_val_preds, normalize='true')"
      ],
      "execution_count": 131,
      "outputs": [
        {
          "output_type": "execute_result",
          "data": {
            "text/plain": [
              "array([[0.67005076, 0.32994924],\n",
              "       [0.26724138, 0.73275862]])"
            ]
          },
          "metadata": {},
          "execution_count": 131
        }
      ]
    },
    {
      "cell_type": "code",
      "metadata": {
        "colab": {
          "base_uri": "https://localhost:8080/"
        },
        "id": "A__-k5l6zfkC",
        "outputId": "210b2313-ccf9-4179-aec5-3565fd929038"
      },
      "source": [
        "#breakdown of correctly and incorrectly classified inputs in the test set\n",
        "confusion_matrix(downsampled_test_targets, downsampled_test_preds, normalize='true')"
      ],
      "execution_count": 132,
      "outputs": [
        {
          "output_type": "execute_result",
          "data": {
            "text/plain": [
              "array([[0.64010283, 0.35989717],\n",
              "       [0.27195467, 0.72804533]])"
            ]
          },
          "metadata": {},
          "execution_count": 132
        }
      ]
    },
    {
      "cell_type": "markdown",
      "metadata": {
        "id": "P5ZiRxHlEW33"
      },
      "source": [
        "The model achieves an accuracy of 86% on the training set, 88.5% on the validation set and 87% on the test set.\n",
        "\n",
        "Using a confusion matrix to visualize the breakdown of correctly and incorrectly classified inputs\n",
        ":"
      ]
    },
    {
      "cell_type": "markdown",
      "metadata": {
        "id": "aqZ2xS-S3jDJ"
      },
      "source": [
        "`Training a Random Forest Model using the downsampled dataset`\n",
        "\n",
        "---\n",
        "\n",
        "\n"
      ]
    },
    {
      "cell_type": "code",
      "metadata": {
        "id": "pGhc114C4QZz"
      },
      "source": [
        "d_random_model = RandomForestClassifier(n_jobs=-1, random_state=12345)"
      ],
      "execution_count": 135,
      "outputs": []
    },
    {
      "cell_type": "code",
      "metadata": {
        "colab": {
          "base_uri": "https://localhost:8080/"
        },
        "id": "rsMzxzwG4QZ0",
        "outputId": "df86d021-039c-419a-f2ee-d7ce76625a6b"
      },
      "source": [
        "d_random_model.fit(train_inputs[numeric_cols + encoded_cols], train_targets)"
      ],
      "execution_count": 136,
      "outputs": [
        {
          "output_type": "execute_result",
          "data": {
            "text/plain": [
              "RandomForestClassifier(bootstrap=True, ccp_alpha=0.0, class_weight=None,\n",
              "                       criterion='gini', max_depth=None, max_features='auto',\n",
              "                       max_leaf_nodes=None, max_samples=None,\n",
              "                       min_impurity_decrease=0.0, min_impurity_split=None,\n",
              "                       min_samples_leaf=1, min_samples_split=2,\n",
              "                       min_weight_fraction_leaf=0.0, n_estimators=100,\n",
              "                       n_jobs=-1, oob_score=False, random_state=12345,\n",
              "                       verbose=0, warm_start=False)"
            ]
          },
          "metadata": {},
          "execution_count": 136
        }
      ]
    },
    {
      "cell_type": "markdown",
      "metadata": {
        "id": "PSjVOCb-4QZ0"
      },
      "source": [
        "### Making Predictions and Evaluating the Random Forest \n",
        "\n",
        "We can now use the trained model to make predictions on the training, valid and test set"
      ]
    },
    {
      "cell_type": "code",
      "metadata": {
        "id": "2Dyjd-HT4QZ0"
      },
      "source": [
        "Random_X_train = downsampled_train_inputs[numeric_cols + encoded_cols]\n",
        "Random_X_val = downsampled_val_inputs[numeric_cols + encoded_cols]\n",
        "Random_X_test = downsampled_test_inputs[numeric_cols + encoded_cols]\n"
      ],
      "execution_count": 137,
      "outputs": []
    },
    {
      "cell_type": "code",
      "metadata": {
        "id": "eVEGHGBT4QZ0"
      },
      "source": [
        "d_random_train_preds = d_random_model.predict(Random_X_train)\n",
        "d_random_val_preds = d_random_model.predict(Random_X_val)\n",
        "d_random_test_preds = d_random_model.predict(Random_X_test)"
      ],
      "execution_count": 138,
      "outputs": []
    },
    {
      "cell_type": "code",
      "metadata": {
        "colab": {
          "base_uri": "https://localhost:8080/"
        },
        "id": "YBtKD2Wg4QZ0",
        "outputId": "c07cc859-be6e-47dc-b33d-a0fe39430097"
      },
      "source": [
        "d_random_train_preds"
      ],
      "execution_count": 139,
      "outputs": [
        {
          "output_type": "execute_result",
          "data": {
            "text/plain": [
              "array([0, 1, 0, ..., 1, 0, 0])"
            ]
          },
          "metadata": {},
          "execution_count": 139
        }
      ]
    },
    {
      "cell_type": "code",
      "metadata": {
        "colab": {
          "base_uri": "https://localhost:8080/"
        },
        "id": "zbX6lcgd4QZ1",
        "outputId": "5964c930-a1a2-4277-f3d4-79c868279e7f"
      },
      "source": [
        "downsampled_train_targets"
      ],
      "execution_count": 140,
      "outputs": [
        {
          "output_type": "execute_result",
          "data": {
            "text/plain": [
              "4541    0\n",
              "516     1\n",
              "3394    0\n",
              "3370    1\n",
              "6428    1\n",
              "       ..\n",
              "144     1\n",
              "5213    0\n",
              "3083    1\n",
              "5685    1\n",
              "618     0\n",
              "Name: Exited, Length: 2224, dtype: int64"
            ]
          },
          "metadata": {},
          "execution_count": 140
        }
      ]
    },
    {
      "cell_type": "code",
      "metadata": {
        "colab": {
          "base_uri": "https://localhost:8080/"
        },
        "id": "q_vj2VFo4QZ1",
        "outputId": "e6d061aa-f810-499b-efe5-f01ac9f16e6f"
      },
      "source": [
        "model.classes_"
      ],
      "execution_count": 141,
      "outputs": [
        {
          "output_type": "execute_result",
          "data": {
            "text/plain": [
              "array([0, 1])"
            ]
          },
          "metadata": {},
          "execution_count": 141
        }
      ]
    },
    {
      "cell_type": "markdown",
      "metadata": {
        "id": "yFV0K2Yw4QZ1"
      },
      "source": [
        "We can test the accuracy of the model's predictions by computing the percentage of matching values in `train_preds` and `train_targets`.\n",
        "\n",
        "This can be done using the `accuracy_score` function from `sklearn.metrics`."
      ]
    },
    {
      "cell_type": "code",
      "metadata": {
        "colab": {
          "base_uri": "https://localhost:8080/"
        },
        "id": "h7-Ga3bD4QZ1",
        "outputId": "ef1262f4-8bd7-4748-8e1b-5b62a44bde3a"
      },
      "source": [
        "accuracy_score(downsampled_train_targets, d_random_train_preds)"
      ],
      "execution_count": 142,
      "outputs": [
        {
          "output_type": "execute_result",
          "data": {
            "text/plain": [
              "0.864658273381295"
            ]
          },
          "metadata": {},
          "execution_count": 142
        }
      ]
    },
    {
      "cell_type": "code",
      "metadata": {
        "colab": {
          "base_uri": "https://localhost:8080/"
        },
        "id": "RHafY3Pw4QZ1",
        "outputId": "18c24781-98fd-4841-a033-631ae02231b0"
      },
      "source": [
        "#accuracy of the model's predictions on the validation set\n",
        "accuracy_score(downsampled_val_targets, d_random_val_preds)"
      ],
      "execution_count": 143,
      "outputs": [
        {
          "output_type": "execute_result",
          "data": {
            "text/plain": [
              "0.8854447439353099"
            ]
          },
          "metadata": {},
          "execution_count": 143
        }
      ]
    },
    {
      "cell_type": "code",
      "metadata": {
        "colab": {
          "base_uri": "https://localhost:8080/"
        },
        "id": "_6_WhSDj4QZ1",
        "outputId": "edd9b88b-35b1-4502-9646-8c64891cf046"
      },
      "source": [
        "#accuracy of the model's predictions on the test set\n",
        "accuracy_score(downsampled_test_targets, d_random_test_preds)"
      ],
      "execution_count": 144,
      "outputs": [
        {
          "output_type": "execute_result",
          "data": {
            "text/plain": [
              "0.8733153638814016"
            ]
          },
          "metadata": {},
          "execution_count": 144
        }
      ]
    },
    {
      "cell_type": "code",
      "metadata": {
        "colab": {
          "base_uri": "https://localhost:8080/"
        },
        "id": "wGLTlzVjD9Xl",
        "outputId": "dcf47139-3b3c-4f64-bb61-cf65cf28882b"
      },
      "source": [
        "# calculate the F-Score\n",
        "print('F1:', f1_score(downsampled_test_targets, d_random_test_preds))"
      ],
      "execution_count": 265,
      "outputs": [
        {
          "output_type": "stream",
          "name": "stdout",
          "text": [
            "F1: 0.8507936507936507\n"
          ]
        }
      ]
    },
    {
      "cell_type": "markdown",
      "metadata": {
        "id": "CIwM-47-4QZ2"
      },
      "source": [
        "The model achieves an accuracy of 86% on the training set, 88.5% on the validation set and 87% on the test set.\n",
        "\n",
        "The F1 score by the Random Forsest model is .85 an improvement from the imbalanced score of the same model which was .52\n",
        "\n",
        "Using a confusion matrix to visualize the breakdown of correctly and incorrectly classified inputs\n",
        ":"
      ]
    },
    {
      "cell_type": "code",
      "metadata": {
        "colab": {
          "base_uri": "https://localhost:8080/"
        },
        "id": "k4lHB07-4QZ2",
        "outputId": "0681cb91-e7fe-4819-b1eb-e3cf27a34cb9"
      },
      "source": [
        "#breakdown of correctly and incorrectly classified inputs in the train set\n",
        "confusion_matrix(downsampled_train_targets, d_random_train_preds, normalize='true')"
      ],
      "execution_count": 145,
      "outputs": [
        {
          "output_type": "execute_result",
          "data": {
            "text/plain": [
              "array([[0.98225957, 0.01774043],\n",
              "       [0.24457936, 0.75542064]])"
            ]
          },
          "metadata": {},
          "execution_count": 145
        }
      ]
    },
    {
      "cell_type": "code",
      "metadata": {
        "colab": {
          "base_uri": "https://localhost:8080/"
        },
        "id": "DXmkHv7d4QZ2",
        "outputId": "f80f903d-042d-4564-fe54-5d9025788701"
      },
      "source": [
        "#breakdown of correctly and incorrectly classified inputs in the validation set\n",
        "confusion_matrix(downsampled_val_targets, d_random_val_preds, normalize='true')"
      ],
      "execution_count": 146,
      "outputs": [
        {
          "output_type": "execute_result",
          "data": {
            "text/plain": [
              "array([[0.98730964, 0.01269036],\n",
              "       [0.22988506, 0.77011494]])"
            ]
          },
          "metadata": {},
          "execution_count": 146
        }
      ]
    },
    {
      "cell_type": "code",
      "metadata": {
        "colab": {
          "base_uri": "https://localhost:8080/"
        },
        "id": "L3BfUcG74QZ2",
        "outputId": "1864d2f3-e7f1-4b91-eab0-6af629f465fe"
      },
      "source": [
        "#breakdown of correctly and incorrectly classified inputs in the test set\n",
        "confusion_matrix(downsampled_test_targets, d_random_test_preds, normalize='true')"
      ],
      "execution_count": 147,
      "outputs": [
        {
          "output_type": "execute_result",
          "data": {
            "text/plain": [
              "array([[0.97686375, 0.02313625],\n",
              "       [0.2407932 , 0.7592068 ]])"
            ]
          },
          "metadata": {},
          "execution_count": 147
        }
      ]
    },
    {
      "cell_type": "markdown",
      "metadata": {
        "id": "MmzYotmuXrLU"
      },
      "source": [
        "###Findings \n",
        "\n",
        "The Random Forest model has less predicted errors than the logistic model on the downsampled test set . the False negatives are at 24% and the FALSE Positives are at 2.3% . This is an improvement from the imbalanced datasest  which was\n",
        "False negatives: 59% , FALSE Positives: 3.5%\n",
        "\n",
        "the Logistic regression model perfomed better on the downsampled dataset and the predicted errors improved,FN: from 78% in the imbalanced dataset to 27%  and FP: from at 2.4% to 35%\n",
        "\n",
        "For the downsampled dataset, the Random Forest model gives better results and therefore is a better model to be used to predict the Exited value.\n",
        "\n"
      ]
    }
  ]
}