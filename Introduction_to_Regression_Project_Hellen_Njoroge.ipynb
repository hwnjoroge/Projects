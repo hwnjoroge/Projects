{
  "nbformat": 4,
  "nbformat_minor": 0,
  "metadata": {
    "colab": {
      "name": "Introduction to Regression Project-Hellen Njoroge",
      "provenance": [],
      "collapsed_sections": [],
      "toc_visible": true,
      "authorship_tag": "ABX9TyO5rxmRZgomoMxHnDRBbFqQ",
      "include_colab_link": true
    },
    "kernelspec": {
      "name": "python3",
      "display_name": "Python 3"
    },
    "language_info": {
      "name": "python"
    }
  },
  "cells": [
    {
      "cell_type": "markdown",
      "metadata": {
        "id": "view-in-github",
        "colab_type": "text"
      },
      "source": [
        "<a href=\"https://colab.research.google.com/github/hwnjoroge/Projects/blob/main/Introduction_to_Regression_Project_Hellen_Njoroge.ipynb\" target=\"_parent\"><img src=\"https://colab.research.google.com/assets/colab-badge.svg\" alt=\"Open In Colab\"/></a>"
      ]
    },
    {
      "cell_type": "markdown",
      "metadata": {
        "id": "GbiMlT2IP2-g"
      },
      "source": [
        "# Problem Statement\n",
        "\n",
        "Mobile carrier Megaline has found out that many of their subscribers use legacy plans. They want to develop a model that would analyze subscribers' behavior and recommend one of Megaline's newer plans: Smart or Ultra.\n",
        "\n",
        "Task: Develop a model with a threshold for accuracy at 0.75. Check the accuracy using the test dataset."
      ]
    },
    {
      "cell_type": "markdown",
      "metadata": {
        "id": "vQzosUxpQOvD"
      },
      "source": [
        "# Downloading the Data\n",
        "\n",
        "\n",
        "\n"
      ]
    },
    {
      "cell_type": "markdown",
      "metadata": {
        "id": "moved-baltimore"
      },
      "source": [
        "Importing required libraries"
      ]
    },
    {
      "cell_type": "code",
      "metadata": {
        "id": "z4eslW0kRaN2"
      },
      "source": [
        "import pandas as pd\n",
        "import numpy as np\n",
        "from sklearn.model_selection import train_test_split\n",
        "from sklearn.preprocessing import MinMaxScaler\n",
        "from sklearn.tree import DecisionTreeClassifier\n",
        "from sklearn.metrics import accuracy_score, confusion_matrix\n",
        "from sklearn.ensemble import RandomForestClassifier\n",
        "from sklearn.linear_model import LogisticRegression\n",
        "from sklearn.metrics import accuracy_score\n",
        "from sklearn.metrics import confusion_matrix"
      ],
      "execution_count": 96,
      "outputs": []
    },
    {
      "cell_type": "code",
      "metadata": {
        "id": "a_tKqm-tRfS2"
      },
      "source": [
        "#loading the dataset\n",
        "users_df = pd.read_csv('https://bit.ly/UsersBehaviourTelco')"
      ],
      "execution_count": null,
      "outputs": []
    },
    {
      "cell_type": "code",
      "metadata": {
        "colab": {
          "base_uri": "https://localhost:8080/",
          "height": 414
        },
        "id": "beIhHp3DRlAV",
        "outputId": "cbb99edd-c22b-4664-fb78-82067eaecf5c"
      },
      "source": [
        "#viewing the dataset\n",
        "users_df"
      ],
      "execution_count": null,
      "outputs": [
        {
          "output_type": "execute_result",
          "data": {
            "text/html": [
              "<div>\n",
              "<style scoped>\n",
              "    .dataframe tbody tr th:only-of-type {\n",
              "        vertical-align: middle;\n",
              "    }\n",
              "\n",
              "    .dataframe tbody tr th {\n",
              "        vertical-align: top;\n",
              "    }\n",
              "\n",
              "    .dataframe thead th {\n",
              "        text-align: right;\n",
              "    }\n",
              "</style>\n",
              "<table border=\"1\" class=\"dataframe\">\n",
              "  <thead>\n",
              "    <tr style=\"text-align: right;\">\n",
              "      <th></th>\n",
              "      <th>calls</th>\n",
              "      <th>minutes</th>\n",
              "      <th>messages</th>\n",
              "      <th>mb_used</th>\n",
              "      <th>is_ultra</th>\n",
              "    </tr>\n",
              "  </thead>\n",
              "  <tbody>\n",
              "    <tr>\n",
              "      <th>0</th>\n",
              "      <td>40.0</td>\n",
              "      <td>311.90</td>\n",
              "      <td>83.0</td>\n",
              "      <td>19915.42</td>\n",
              "      <td>0</td>\n",
              "    </tr>\n",
              "    <tr>\n",
              "      <th>1</th>\n",
              "      <td>85.0</td>\n",
              "      <td>516.75</td>\n",
              "      <td>56.0</td>\n",
              "      <td>22696.96</td>\n",
              "      <td>0</td>\n",
              "    </tr>\n",
              "    <tr>\n",
              "      <th>2</th>\n",
              "      <td>77.0</td>\n",
              "      <td>467.66</td>\n",
              "      <td>86.0</td>\n",
              "      <td>21060.45</td>\n",
              "      <td>0</td>\n",
              "    </tr>\n",
              "    <tr>\n",
              "      <th>3</th>\n",
              "      <td>106.0</td>\n",
              "      <td>745.53</td>\n",
              "      <td>81.0</td>\n",
              "      <td>8437.39</td>\n",
              "      <td>1</td>\n",
              "    </tr>\n",
              "    <tr>\n",
              "      <th>4</th>\n",
              "      <td>66.0</td>\n",
              "      <td>418.74</td>\n",
              "      <td>1.0</td>\n",
              "      <td>14502.75</td>\n",
              "      <td>0</td>\n",
              "    </tr>\n",
              "    <tr>\n",
              "      <th>...</th>\n",
              "      <td>...</td>\n",
              "      <td>...</td>\n",
              "      <td>...</td>\n",
              "      <td>...</td>\n",
              "      <td>...</td>\n",
              "    </tr>\n",
              "    <tr>\n",
              "      <th>3209</th>\n",
              "      <td>122.0</td>\n",
              "      <td>910.98</td>\n",
              "      <td>20.0</td>\n",
              "      <td>35124.90</td>\n",
              "      <td>1</td>\n",
              "    </tr>\n",
              "    <tr>\n",
              "      <th>3210</th>\n",
              "      <td>25.0</td>\n",
              "      <td>190.36</td>\n",
              "      <td>0.0</td>\n",
              "      <td>3275.61</td>\n",
              "      <td>0</td>\n",
              "    </tr>\n",
              "    <tr>\n",
              "      <th>3211</th>\n",
              "      <td>97.0</td>\n",
              "      <td>634.44</td>\n",
              "      <td>70.0</td>\n",
              "      <td>13974.06</td>\n",
              "      <td>0</td>\n",
              "    </tr>\n",
              "    <tr>\n",
              "      <th>3212</th>\n",
              "      <td>64.0</td>\n",
              "      <td>462.32</td>\n",
              "      <td>90.0</td>\n",
              "      <td>31239.78</td>\n",
              "      <td>0</td>\n",
              "    </tr>\n",
              "    <tr>\n",
              "      <th>3213</th>\n",
              "      <td>80.0</td>\n",
              "      <td>566.09</td>\n",
              "      <td>6.0</td>\n",
              "      <td>29480.52</td>\n",
              "      <td>1</td>\n",
              "    </tr>\n",
              "  </tbody>\n",
              "</table>\n",
              "<p>3214 rows × 5 columns</p>\n",
              "</div>"
            ],
            "text/plain": [
              "      calls  minutes  messages   mb_used  is_ultra\n",
              "0      40.0   311.90      83.0  19915.42         0\n",
              "1      85.0   516.75      56.0  22696.96         0\n",
              "2      77.0   467.66      86.0  21060.45         0\n",
              "3     106.0   745.53      81.0   8437.39         1\n",
              "4      66.0   418.74       1.0  14502.75         0\n",
              "...     ...      ...       ...       ...       ...\n",
              "3209  122.0   910.98      20.0  35124.90         1\n",
              "3210   25.0   190.36       0.0   3275.61         0\n",
              "3211   97.0   634.44      70.0  13974.06         0\n",
              "3212   64.0   462.32      90.0  31239.78         0\n",
              "3213   80.0   566.09       6.0  29480.52         1\n",
              "\n",
              "[3214 rows x 5 columns]"
            ]
          },
          "metadata": {},
          "execution_count": 3
        }
      ]
    },
    {
      "cell_type": "code",
      "metadata": {
        "colab": {
          "base_uri": "https://localhost:8080/"
        },
        "id": "YSpA0NrVRrcl",
        "outputId": "d4cdf3fb-7e51-4ed3-bcf1-7ca579ae9cda"
      },
      "source": [
        "users_df.info()"
      ],
      "execution_count": null,
      "outputs": [
        {
          "output_type": "stream",
          "name": "stdout",
          "text": [
            "<class 'pandas.core.frame.DataFrame'>\n",
            "RangeIndex: 3214 entries, 0 to 3213\n",
            "Data columns (total 5 columns):\n",
            " #   Column    Non-Null Count  Dtype  \n",
            "---  ------    --------------  -----  \n",
            " 0   calls     3214 non-null   float64\n",
            " 1   minutes   3214 non-null   float64\n",
            " 2   messages  3214 non-null   float64\n",
            " 3   mb_used   3214 non-null   float64\n",
            " 4   is_ultra  3214 non-null   int64  \n",
            "dtypes: float64(4), int64(1)\n",
            "memory usage: 125.7 KB\n"
          ]
        }
      ]
    },
    {
      "cell_type": "markdown",
      "metadata": {
        "id": "medium-prospect"
      },
      "source": [
        "\n",
        "The dataset contains 3214 rows and 5 columns. Each row of the dataset contains information about one customer. \n",
        "\n",
        "None of the columns contain missing values.\n",
        "all columns have floeat/integer values.\n"
      ]
    },
    {
      "cell_type": "markdown",
      "metadata": {
        "id": "g7yVhkee9Sbb"
      },
      "source": [
        "## Training, Validation and Test Sets\n",
        "\n",
        "Splitting the Dataset \n",
        "\n",
        "We split our dataset into training, validation and test sets. 60% of the data for the training set, 20% for the validation set and 20% for the test set. \n",
        "\n",
        "We also specifying the random_state to endure reproducibility in the notebook."
      ]
    },
    {
      "cell_type": "code",
      "metadata": {
        "id": "ja9RkAXbSjL8"
      },
      "source": [
        "train_val_df, test_df = train_test_split(users_df, test_size=0.2, random_state=42)\n",
        "train_df, val_df = train_test_split(train_val_df, test_size=0.25, random_state=42)"
      ],
      "execution_count": null,
      "outputs": []
    },
    {
      "cell_type": "code",
      "metadata": {
        "colab": {
          "base_uri": "https://localhost:8080/"
        },
        "id": "ytot9guPSjtO",
        "outputId": "cff754ae-8f42-4013-ccaf-a804f0efca9e"
      },
      "source": [
        "print('train_df.shape :', train_df.shape)\n",
        "print('val_df.shape :', val_df.shape)\n",
        "print('test_df.shape :', test_df.shape)\n",
        "print('hr_df.shape :', users_df.shape)\n",
        "print('train_val_df.shape :', train_val_df.shape)"
      ],
      "execution_count": null,
      "outputs": [
        {
          "output_type": "stream",
          "name": "stdout",
          "text": [
            "train_df.shape : (1928, 5)\n",
            "val_df.shape : (643, 5)\n",
            "test_df.shape : (643, 5)\n",
            "hr_df.shape : (3214, 5)\n",
            "train_val_df.shape : (2571, 5)\n"
          ]
        }
      ]
    },
    {
      "cell_type": "code",
      "metadata": {
        "colab": {
          "base_uri": "https://localhost:8080/",
          "height": 414
        },
        "id": "67qWM0CvSjv4",
        "outputId": "22f60930-1979-4067-cfbb-62a37138a05f"
      },
      "source": [
        "train_df"
      ],
      "execution_count": null,
      "outputs": [
        {
          "output_type": "execute_result",
          "data": {
            "text/html": [
              "<div>\n",
              "<style scoped>\n",
              "    .dataframe tbody tr th:only-of-type {\n",
              "        vertical-align: middle;\n",
              "    }\n",
              "\n",
              "    .dataframe tbody tr th {\n",
              "        vertical-align: top;\n",
              "    }\n",
              "\n",
              "    .dataframe thead th {\n",
              "        text-align: right;\n",
              "    }\n",
              "</style>\n",
              "<table border=\"1\" class=\"dataframe\">\n",
              "  <thead>\n",
              "    <tr style=\"text-align: right;\">\n",
              "      <th></th>\n",
              "      <th>calls</th>\n",
              "      <th>minutes</th>\n",
              "      <th>messages</th>\n",
              "      <th>mb_used</th>\n",
              "      <th>is_ultra</th>\n",
              "    </tr>\n",
              "  </thead>\n",
              "  <tbody>\n",
              "    <tr>\n",
              "      <th>3187</th>\n",
              "      <td>35.0</td>\n",
              "      <td>259.10</td>\n",
              "      <td>4.0</td>\n",
              "      <td>14857.57</td>\n",
              "      <td>0</td>\n",
              "    </tr>\n",
              "    <tr>\n",
              "      <th>1889</th>\n",
              "      <td>84.0</td>\n",
              "      <td>574.03</td>\n",
              "      <td>0.0</td>\n",
              "      <td>16028.42</td>\n",
              "      <td>0</td>\n",
              "    </tr>\n",
              "    <tr>\n",
              "      <th>1253</th>\n",
              "      <td>62.0</td>\n",
              "      <td>446.89</td>\n",
              "      <td>7.0</td>\n",
              "      <td>21571.89</td>\n",
              "      <td>0</td>\n",
              "    </tr>\n",
              "    <tr>\n",
              "      <th>1147</th>\n",
              "      <td>75.0</td>\n",
              "      <td>511.02</td>\n",
              "      <td>49.0</td>\n",
              "      <td>17120.31</td>\n",
              "      <td>0</td>\n",
              "    </tr>\n",
              "    <tr>\n",
              "      <th>2801</th>\n",
              "      <td>34.0</td>\n",
              "      <td>279.06</td>\n",
              "      <td>83.0</td>\n",
              "      <td>13463.84</td>\n",
              "      <td>0</td>\n",
              "    </tr>\n",
              "    <tr>\n",
              "      <th>...</th>\n",
              "      <td>...</td>\n",
              "      <td>...</td>\n",
              "      <td>...</td>\n",
              "      <td>...</td>\n",
              "      <td>...</td>\n",
              "    </tr>\n",
              "    <tr>\n",
              "      <th>2623</th>\n",
              "      <td>59.0</td>\n",
              "      <td>378.25</td>\n",
              "      <td>14.0</td>\n",
              "      <td>12135.58</td>\n",
              "      <td>0</td>\n",
              "    </tr>\n",
              "    <tr>\n",
              "      <th>1143</th>\n",
              "      <td>63.0</td>\n",
              "      <td>412.89</td>\n",
              "      <td>23.0</td>\n",
              "      <td>13945.79</td>\n",
              "      <td>0</td>\n",
              "    </tr>\n",
              "    <tr>\n",
              "      <th>2202</th>\n",
              "      <td>101.0</td>\n",
              "      <td>724.65</td>\n",
              "      <td>64.0</td>\n",
              "      <td>13229.44</td>\n",
              "      <td>0</td>\n",
              "    </tr>\n",
              "    <tr>\n",
              "      <th>1846</th>\n",
              "      <td>25.0</td>\n",
              "      <td>141.99</td>\n",
              "      <td>84.0</td>\n",
              "      <td>16150.12</td>\n",
              "      <td>1</td>\n",
              "    </tr>\n",
              "    <tr>\n",
              "      <th>2477</th>\n",
              "      <td>68.0</td>\n",
              "      <td>487.59</td>\n",
              "      <td>45.0</td>\n",
              "      <td>13544.52</td>\n",
              "      <td>0</td>\n",
              "    </tr>\n",
              "  </tbody>\n",
              "</table>\n",
              "<p>1928 rows × 5 columns</p>\n",
              "</div>"
            ],
            "text/plain": [
              "      calls  minutes  messages   mb_used  is_ultra\n",
              "3187   35.0   259.10       4.0  14857.57         0\n",
              "1889   84.0   574.03       0.0  16028.42         0\n",
              "1253   62.0   446.89       7.0  21571.89         0\n",
              "1147   75.0   511.02      49.0  17120.31         0\n",
              "2801   34.0   279.06      83.0  13463.84         0\n",
              "...     ...      ...       ...       ...       ...\n",
              "2623   59.0   378.25      14.0  12135.58         0\n",
              "1143   63.0   412.89      23.0  13945.79         0\n",
              "2202  101.0   724.65      64.0  13229.44         0\n",
              "1846   25.0   141.99      84.0  16150.12         1\n",
              "2477   68.0   487.59      45.0  13544.52         0\n",
              "\n",
              "[1928 rows x 5 columns]"
            ]
          },
          "metadata": {},
          "execution_count": 7
        }
      ]
    },
    {
      "cell_type": "markdown",
      "metadata": {
        "id": "burning-agency"
      },
      "source": [
        "## Identifying Input and Target Columns\n",
        "\n",
        "In this dataset, the target column 'is ultra' was identified and omitted from the training data and the input columns "
      ]
    },
    {
      "cell_type": "code",
      "metadata": {
        "id": "kLy1qaEkTYUV"
      },
      "source": [
        "input_cols = list(train_df.columns)[:-1]\n",
        "target_col = 'is_ultra'"
      ],
      "execution_count": null,
      "outputs": []
    },
    {
      "cell_type": "code",
      "metadata": {
        "colab": {
          "base_uri": "https://localhost:8080/"
        },
        "id": "hJ_G2MhoTYdD",
        "outputId": "09977878-9988-4329-9a18-81cff6b4e9f1"
      },
      "source": [
        "input_cols"
      ],
      "execution_count": null,
      "outputs": [
        {
          "output_type": "execute_result",
          "data": {
            "text/plain": [
              "['calls', 'minutes', 'messages', 'mb_used']"
            ]
          },
          "metadata": {},
          "execution_count": 9
        }
      ]
    },
    {
      "cell_type": "code",
      "metadata": {
        "colab": {
          "base_uri": "https://localhost:8080/",
          "height": 35
        },
        "id": "PgPMUwL3TYfy",
        "outputId": "d68f0373-43b2-48e1-e1a3-2bc982f8342c"
      },
      "source": [
        "target_col"
      ],
      "execution_count": null,
      "outputs": [
        {
          "output_type": "execute_result",
          "data": {
            "application/vnd.google.colaboratory.intrinsic+json": {
              "type": "string"
            },
            "text/plain": [
              "'is_ultra'"
            ]
          },
          "metadata": {},
          "execution_count": 10
        }
      ]
    },
    {
      "cell_type": "code",
      "metadata": {
        "id": "-CXPVECaTYiZ"
      },
      "source": [
        "train_inputs = train_df[input_cols].copy()\n",
        "train_targets = train_df[target_col].copy()\n"
      ],
      "execution_count": null,
      "outputs": []
    },
    {
      "cell_type": "code",
      "metadata": {
        "colab": {
          "base_uri": "https://localhost:8080/",
          "height": 141
        },
        "id": "Qaruo3u1VGdH",
        "outputId": "67e81969-1b86-44f5-f27f-9f13a7aca8bb"
      },
      "source": [
        "#view the training dataset\n",
        "train_inputs.head(3)\n"
      ],
      "execution_count": null,
      "outputs": [
        {
          "output_type": "execute_result",
          "data": {
            "text/html": [
              "<div>\n",
              "<style scoped>\n",
              "    .dataframe tbody tr th:only-of-type {\n",
              "        vertical-align: middle;\n",
              "    }\n",
              "\n",
              "    .dataframe tbody tr th {\n",
              "        vertical-align: top;\n",
              "    }\n",
              "\n",
              "    .dataframe thead th {\n",
              "        text-align: right;\n",
              "    }\n",
              "</style>\n",
              "<table border=\"1\" class=\"dataframe\">\n",
              "  <thead>\n",
              "    <tr style=\"text-align: right;\">\n",
              "      <th></th>\n",
              "      <th>calls</th>\n",
              "      <th>minutes</th>\n",
              "      <th>messages</th>\n",
              "      <th>mb_used</th>\n",
              "    </tr>\n",
              "  </thead>\n",
              "  <tbody>\n",
              "    <tr>\n",
              "      <th>3187</th>\n",
              "      <td>35.0</td>\n",
              "      <td>259.10</td>\n",
              "      <td>4.0</td>\n",
              "      <td>14857.57</td>\n",
              "    </tr>\n",
              "    <tr>\n",
              "      <th>1889</th>\n",
              "      <td>84.0</td>\n",
              "      <td>574.03</td>\n",
              "      <td>0.0</td>\n",
              "      <td>16028.42</td>\n",
              "    </tr>\n",
              "    <tr>\n",
              "      <th>1253</th>\n",
              "      <td>62.0</td>\n",
              "      <td>446.89</td>\n",
              "      <td>7.0</td>\n",
              "      <td>21571.89</td>\n",
              "    </tr>\n",
              "  </tbody>\n",
              "</table>\n",
              "</div>"
            ],
            "text/plain": [
              "      calls  minutes  messages   mb_used\n",
              "3187   35.0   259.10       4.0  14857.57\n",
              "1889   84.0   574.03       0.0  16028.42\n",
              "1253   62.0   446.89       7.0  21571.89"
            ]
          },
          "metadata": {},
          "execution_count": 12
        }
      ]
    },
    {
      "cell_type": "code",
      "metadata": {
        "colab": {
          "base_uri": "https://localhost:8080/"
        },
        "id": "tlzMbu5aVQsM",
        "outputId": "231bdc76-5317-4e84-ffb9-798e3fbd78a9"
      },
      "source": [
        "#view the training target\n",
        "train_targets.head(3)"
      ],
      "execution_count": null,
      "outputs": [
        {
          "output_type": "execute_result",
          "data": {
            "text/plain": [
              "3187    0\n",
              "1889    0\n",
              "1253    0\n",
              "Name: is_ultra, dtype: int64"
            ]
          },
          "metadata": {},
          "execution_count": 13
        }
      ]
    },
    {
      "cell_type": "code",
      "metadata": {
        "id": "8w7EYsa3VF5E"
      },
      "source": [
        "val_inputs = val_df[input_cols].copy()\n",
        "val_targets = val_df[target_col].copy()"
      ],
      "execution_count": null,
      "outputs": []
    },
    {
      "cell_type": "code",
      "metadata": {
        "colab": {
          "base_uri": "https://localhost:8080/",
          "height": 141
        },
        "id": "gzPumx2_U1y_",
        "outputId": "51771137-e04f-44ad-c82c-4507deaf31db"
      },
      "source": [
        "val_inputs.head(3)\n"
      ],
      "execution_count": null,
      "outputs": [
        {
          "output_type": "execute_result",
          "data": {
            "text/html": [
              "<div>\n",
              "<style scoped>\n",
              "    .dataframe tbody tr th:only-of-type {\n",
              "        vertical-align: middle;\n",
              "    }\n",
              "\n",
              "    .dataframe tbody tr th {\n",
              "        vertical-align: top;\n",
              "    }\n",
              "\n",
              "    .dataframe thead th {\n",
              "        text-align: right;\n",
              "    }\n",
              "</style>\n",
              "<table border=\"1\" class=\"dataframe\">\n",
              "  <thead>\n",
              "    <tr style=\"text-align: right;\">\n",
              "      <th></th>\n",
              "      <th>calls</th>\n",
              "      <th>minutes</th>\n",
              "      <th>messages</th>\n",
              "      <th>mb_used</th>\n",
              "    </tr>\n",
              "  </thead>\n",
              "  <tbody>\n",
              "    <tr>\n",
              "      <th>2644</th>\n",
              "      <td>48.0</td>\n",
              "      <td>436.16</td>\n",
              "      <td>13.0</td>\n",
              "      <td>29072.01</td>\n",
              "    </tr>\n",
              "    <tr>\n",
              "      <th>1931</th>\n",
              "      <td>131.0</td>\n",
              "      <td>976.35</td>\n",
              "      <td>104.0</td>\n",
              "      <td>27163.13</td>\n",
              "    </tr>\n",
              "    <tr>\n",
              "      <th>2767</th>\n",
              "      <td>27.0</td>\n",
              "      <td>148.89</td>\n",
              "      <td>45.0</td>\n",
              "      <td>6976.25</td>\n",
              "    </tr>\n",
              "  </tbody>\n",
              "</table>\n",
              "</div>"
            ],
            "text/plain": [
              "      calls  minutes  messages   mb_used\n",
              "2644   48.0   436.16      13.0  29072.01\n",
              "1931  131.0   976.35     104.0  27163.13\n",
              "2767   27.0   148.89      45.0   6976.25"
            ]
          },
          "metadata": {},
          "execution_count": 15
        }
      ]
    },
    {
      "cell_type": "code",
      "metadata": {
        "colab": {
          "base_uri": "https://localhost:8080/"
        },
        "id": "K_4L3CiFVbMq",
        "outputId": "c4771ba7-5339-4750-9014-525f4decf8e3"
      },
      "source": [
        "val_targets.head(3)"
      ],
      "execution_count": null,
      "outputs": [
        {
          "output_type": "execute_result",
          "data": {
            "text/plain": [
              "2644    0\n",
              "1931    1\n",
              "2767    1\n",
              "Name: is_ultra, dtype: int64"
            ]
          },
          "metadata": {},
          "execution_count": 16
        }
      ]
    },
    {
      "cell_type": "code",
      "metadata": {
        "id": "5yAdqbPdU16m"
      },
      "source": [
        "test_inputs = test_df[input_cols].copy()\n",
        "test_targets = test_df[target_col].copy()"
      ],
      "execution_count": null,
      "outputs": []
    },
    {
      "cell_type": "code",
      "metadata": {
        "colab": {
          "base_uri": "https://localhost:8080/",
          "height": 141
        },
        "id": "s7apoHehU2gF",
        "outputId": "cb61f908-00ba-4034-8910-1c59d9beebc3"
      },
      "source": [
        "test_inputs.head(3)\n"
      ],
      "execution_count": null,
      "outputs": [
        {
          "output_type": "execute_result",
          "data": {
            "text/html": [
              "<div>\n",
              "<style scoped>\n",
              "    .dataframe tbody tr th:only-of-type {\n",
              "        vertical-align: middle;\n",
              "    }\n",
              "\n",
              "    .dataframe tbody tr th {\n",
              "        vertical-align: top;\n",
              "    }\n",
              "\n",
              "    .dataframe thead th {\n",
              "        text-align: right;\n",
              "    }\n",
              "</style>\n",
              "<table border=\"1\" class=\"dataframe\">\n",
              "  <thead>\n",
              "    <tr style=\"text-align: right;\">\n",
              "      <th></th>\n",
              "      <th>calls</th>\n",
              "      <th>minutes</th>\n",
              "      <th>messages</th>\n",
              "      <th>mb_used</th>\n",
              "    </tr>\n",
              "  </thead>\n",
              "  <tbody>\n",
              "    <tr>\n",
              "      <th>506</th>\n",
              "      <td>46.0</td>\n",
              "      <td>338.60</td>\n",
              "      <td>35.0</td>\n",
              "      <td>11428.54</td>\n",
              "    </tr>\n",
              "    <tr>\n",
              "      <th>2513</th>\n",
              "      <td>39.0</td>\n",
              "      <td>242.71</td>\n",
              "      <td>0.0</td>\n",
              "      <td>20480.11</td>\n",
              "    </tr>\n",
              "    <tr>\n",
              "      <th>354</th>\n",
              "      <td>39.0</td>\n",
              "      <td>258.02</td>\n",
              "      <td>0.0</td>\n",
              "      <td>19998.80</td>\n",
              "    </tr>\n",
              "  </tbody>\n",
              "</table>\n",
              "</div>"
            ],
            "text/plain": [
              "      calls  minutes  messages   mb_used\n",
              "506    46.0   338.60      35.0  11428.54\n",
              "2513   39.0   242.71       0.0  20480.11\n",
              "354    39.0   258.02       0.0  19998.80"
            ]
          },
          "metadata": {},
          "execution_count": 18
        }
      ]
    },
    {
      "cell_type": "code",
      "metadata": {
        "colab": {
          "base_uri": "https://localhost:8080/"
        },
        "id": "5hd4muzbTYlS",
        "outputId": "739f22a8-1d29-4400-ce94-bdebc133a5a0"
      },
      "source": [
        "test_targets.head(3)"
      ],
      "execution_count": null,
      "outputs": [
        {
          "output_type": "execute_result",
          "data": {
            "text/plain": [
              "506     0\n",
              "2513    0\n",
              "354     0\n",
              "Name: is_ultra, dtype: int64"
            ]
          },
          "metadata": {},
          "execution_count": 19
        }
      ]
    },
    {
      "cell_type": "markdown",
      "metadata": {
        "id": "reduced-niger"
      },
      "source": [
        "## Scaling Numeric Features\n",
        "\n",
        "Scaling numeric features to ensure that no particular feature has a disproportionate impact on the model. \n",
        "The numeric columns in our dataset have varying ranges and will scaled to a small range of values between $(0,1)$ \n"
      ]
    },
    {
      "cell_type": "code",
      "metadata": {
        "colab": {
          "base_uri": "https://localhost:8080/"
        },
        "id": "IWMT0Kr_Ue-Y",
        "outputId": "55e5afee-0e56-4d5f-b98d-b60778a357fa"
      },
      "source": [
        "#selecting just the number columns from train set and assigning them to the variable numeric cols\n",
        "numeric_cols = train_inputs.select_dtypes(include=np.number).columns.tolist()\n",
        "print(numeric_cols)"
      ],
      "execution_count": null,
      "outputs": [
        {
          "output_type": "stream",
          "name": "stdout",
          "text": [
            "['calls', 'minutes', 'messages', 'mb_used']\n"
          ]
        }
      ]
    },
    {
      "cell_type": "markdown",
      "metadata": {
        "id": "appreciated-brief"
      },
      "source": [
        "Scaling using the `MinMaxScaler` from `sklearn.preprocessing` to scale values to the $(0,1)$ range."
      ]
    },
    {
      "cell_type": "code",
      "metadata": {
        "id": "woC7tml5UfJR"
      },
      "source": [
        "#fit the scaler to the numeric columns \n",
        "scaler = MinMaxScaler().fit(users_df[numeric_cols])"
      ],
      "execution_count": null,
      "outputs": []
    },
    {
      "cell_type": "code",
      "metadata": {
        "id": "OPix161RUfNP"
      },
      "source": [
        "#scaling the train,validation and test datasets using the .tranform method\n",
        "train_inputs[numeric_cols] = scaler.transform(train_inputs[numeric_cols])\n",
        "val_inputs[numeric_cols] = scaler.transform(val_inputs[numeric_cols])\n",
        "test_inputs[numeric_cols] = scaler.transform(test_inputs[numeric_cols])"
      ],
      "execution_count": null,
      "outputs": []
    },
    {
      "cell_type": "code",
      "metadata": {
        "colab": {
          "base_uri": "https://localhost:8080/",
          "height": 110
        },
        "id": "9l9aXiIvWniF",
        "outputId": "af239652-1e45-48e1-d48c-622ab5a70eec"
      },
      "source": [
        "#verifying the scaled values in teh validation set\n",
        "val_inputs.describe().loc[['min', 'max']]"
      ],
      "execution_count": null,
      "outputs": [
        {
          "output_type": "execute_result",
          "data": {
            "text/html": [
              "<div>\n",
              "<style scoped>\n",
              "    .dataframe tbody tr th:only-of-type {\n",
              "        vertical-align: middle;\n",
              "    }\n",
              "\n",
              "    .dataframe tbody tr th {\n",
              "        vertical-align: top;\n",
              "    }\n",
              "\n",
              "    .dataframe thead th {\n",
              "        text-align: right;\n",
              "    }\n",
              "</style>\n",
              "<table border=\"1\" class=\"dataframe\">\n",
              "  <thead>\n",
              "    <tr style=\"text-align: right;\">\n",
              "      <th></th>\n",
              "      <th>calls</th>\n",
              "      <th>minutes</th>\n",
              "      <th>messages</th>\n",
              "      <th>mb_used</th>\n",
              "    </tr>\n",
              "  </thead>\n",
              "  <tbody>\n",
              "    <tr>\n",
              "      <th>min</th>\n",
              "      <td>0.000000</td>\n",
              "      <td>0.000000</td>\n",
              "      <td>0.000000</td>\n",
              "      <td>0.000000</td>\n",
              "    </tr>\n",
              "    <tr>\n",
              "      <th>max</th>\n",
              "      <td>0.831967</td>\n",
              "      <td>0.959799</td>\n",
              "      <td>0.852679</td>\n",
              "      <td>0.883119</td>\n",
              "    </tr>\n",
              "  </tbody>\n",
              "</table>\n",
              "</div>"
            ],
            "text/plain": [
              "        calls   minutes  messages   mb_used\n",
              "min  0.000000  0.000000  0.000000  0.000000\n",
              "max  0.831967  0.959799  0.852679  0.883119"
            ]
          },
          "metadata": {},
          "execution_count": 23
        }
      ]
    },
    {
      "cell_type": "code",
      "metadata": {
        "colab": {
          "base_uri": "https://localhost:8080/",
          "height": 110
        },
        "id": "wUPPn8xfWnpG",
        "outputId": "e59f4cd8-d24d-4785-d54d-dd285325a49a"
      },
      "source": [
        "#verifying the scaled values in the train set\n",
        "train_inputs.describe().loc[['min', 'max']]"
      ],
      "execution_count": null,
      "outputs": [
        {
          "output_type": "execute_result",
          "data": {
            "text/html": [
              "<div>\n",
              "<style scoped>\n",
              "    .dataframe tbody tr th:only-of-type {\n",
              "        vertical-align: middle;\n",
              "    }\n",
              "\n",
              "    .dataframe tbody tr th {\n",
              "        vertical-align: top;\n",
              "    }\n",
              "\n",
              "    .dataframe thead th {\n",
              "        text-align: right;\n",
              "    }\n",
              "</style>\n",
              "<table border=\"1\" class=\"dataframe\">\n",
              "  <thead>\n",
              "    <tr style=\"text-align: right;\">\n",
              "      <th></th>\n",
              "      <th>calls</th>\n",
              "      <th>minutes</th>\n",
              "      <th>messages</th>\n",
              "      <th>mb_used</th>\n",
              "    </tr>\n",
              "  </thead>\n",
              "  <tbody>\n",
              "    <tr>\n",
              "      <th>min</th>\n",
              "      <td>0.0</td>\n",
              "      <td>0.0</td>\n",
              "      <td>0.0</td>\n",
              "      <td>0.0</td>\n",
              "    </tr>\n",
              "    <tr>\n",
              "      <th>max</th>\n",
              "      <td>1.0</td>\n",
              "      <td>1.0</td>\n",
              "      <td>1.0</td>\n",
              "      <td>1.0</td>\n",
              "    </tr>\n",
              "  </tbody>\n",
              "</table>\n",
              "</div>"
            ],
            "text/plain": [
              "     calls  minutes  messages  mb_used\n",
              "min    0.0      0.0       0.0      0.0\n",
              "max    1.0      1.0       1.0      1.0"
            ]
          },
          "metadata": {},
          "execution_count": 24
        }
      ]
    },
    {
      "cell_type": "code",
      "metadata": {
        "colab": {
          "base_uri": "https://localhost:8080/",
          "height": 110
        },
        "id": "tepPyfEyWnsa",
        "outputId": "a790da8a-b14e-49a6-978a-036c2cdd9557"
      },
      "source": [
        "#verifying the scaled values in the test set\n",
        "test_inputs.describe().loc[['min', 'max']]"
      ],
      "execution_count": null,
      "outputs": [
        {
          "output_type": "execute_result",
          "data": {
            "text/html": [
              "<div>\n",
              "<style scoped>\n",
              "    .dataframe tbody tr th:only-of-type {\n",
              "        vertical-align: middle;\n",
              "    }\n",
              "\n",
              "    .dataframe tbody tr th {\n",
              "        vertical-align: top;\n",
              "    }\n",
              "\n",
              "    .dataframe thead th {\n",
              "        text-align: right;\n",
              "    }\n",
              "</style>\n",
              "<table border=\"1\" class=\"dataframe\">\n",
              "  <thead>\n",
              "    <tr style=\"text-align: right;\">\n",
              "      <th></th>\n",
              "      <th>calls</th>\n",
              "      <th>minutes</th>\n",
              "      <th>messages</th>\n",
              "      <th>mb_used</th>\n",
              "    </tr>\n",
              "  </thead>\n",
              "  <tbody>\n",
              "    <tr>\n",
              "      <th>min</th>\n",
              "      <td>0.000000</td>\n",
              "      <td>0.000000</td>\n",
              "      <td>0.000000</td>\n",
              "      <td>0.000000</td>\n",
              "    </tr>\n",
              "    <tr>\n",
              "      <th>max</th>\n",
              "      <td>0.811475</td>\n",
              "      <td>0.851819</td>\n",
              "      <td>0.763393</td>\n",
              "      <td>0.908234</td>\n",
              "    </tr>\n",
              "  </tbody>\n",
              "</table>\n",
              "</div>"
            ],
            "text/plain": [
              "        calls   minutes  messages   mb_used\n",
              "min  0.000000  0.000000  0.000000  0.000000\n",
              "max  0.811475  0.851819  0.763393  0.908234"
            ]
          },
          "metadata": {},
          "execution_count": 25
        }
      ]
    },
    {
      "cell_type": "markdown",
      "metadata": {
        "id": "million-space"
      },
      "source": [
        "#Decision Tree Model \n",
        "\n",
        "Training the Decision Tree Model to predict the 'is_ultra' values.\n",
        "\n",
        "To train a Decision Tree model, we use the `DecisionTreeClassifier` class from Scikit-learn."
      ]
    },
    {
      "cell_type": "code",
      "metadata": {
        "id": "JdP6GbUVW4mt"
      },
      "source": [
        "model = DecisionTreeClassifier(random_state=42)"
      ],
      "execution_count": null,
      "outputs": []
    },
    {
      "cell_type": "markdown",
      "metadata": {
        "id": "cutting-exercise"
      },
      "source": [
        "Training the model using `model.fit`."
      ]
    },
    {
      "cell_type": "code",
      "metadata": {
        "colab": {
          "base_uri": "https://localhost:8080/"
        },
        "id": "FDSb4NtUW4pY",
        "outputId": "7c4bd5b4-af96-47b3-f427-beb507e73632"
      },
      "source": [
        "model.fit(train_inputs, train_targets)"
      ],
      "execution_count": null,
      "outputs": [
        {
          "output_type": "execute_result",
          "data": {
            "text/plain": [
              "DecisionTreeClassifier(ccp_alpha=0.0, class_weight=None, criterion='gini',\n",
              "                       max_depth=None, max_features=None, max_leaf_nodes=None,\n",
              "                       min_impurity_decrease=0.0, min_impurity_split=None,\n",
              "                       min_samples_leaf=1, min_samples_split=2,\n",
              "                       min_weight_fraction_leaf=0.0, presort='deprecated',\n",
              "                       random_state=42, splitter='best')"
            ]
          },
          "metadata": {},
          "execution_count": 27
        }
      ]
    },
    {
      "cell_type": "markdown",
      "metadata": {
        "id": "available-wheat"
      },
      "source": [
        "An optimal decision tree has now been created using the training data."
      ]
    },
    {
      "cell_type": "markdown",
      "metadata": {
        "id": "industrial-valuation"
      },
      "source": [
        "### Evaluating the Decision Tree\n",
        "\n",
        "Evaluating the decision tree using the accuracy score."
      ]
    },
    {
      "cell_type": "code",
      "metadata": {
        "id": "owdparLVW4xM"
      },
      "source": [
        "train_preds = model.predict(train_inputs)"
      ],
      "execution_count": null,
      "outputs": []
    },
    {
      "cell_type": "code",
      "metadata": {
        "colab": {
          "base_uri": "https://localhost:8080/"
        },
        "id": "w7JOUJAUW4zn",
        "outputId": "dcd10f86-d2d5-4dee-bac8-91564320e757"
      },
      "source": [
        "train_preds"
      ],
      "execution_count": null,
      "outputs": [
        {
          "output_type": "execute_result",
          "data": {
            "text/plain": [
              "array([0, 0, 0, ..., 0, 1, 0])"
            ]
          },
          "metadata": {},
          "execution_count": 29
        }
      ]
    },
    {
      "cell_type": "code",
      "metadata": {
        "colab": {
          "base_uri": "https://localhost:8080/"
        },
        "id": "RtmHcWA8Yd21",
        "outputId": "5811837f-b8bb-4126-b2ee-0e2d2b9a62a3"
      },
      "source": [
        "pd.value_counts(train_preds)"
      ],
      "execution_count": null,
      "outputs": [
        {
          "output_type": "execute_result",
          "data": {
            "text/plain": [
              "0    1323\n",
              "1     605\n",
              "dtype: int64"
            ]
          },
          "metadata": {},
          "execution_count": 30
        }
      ]
    },
    {
      "cell_type": "markdown",
      "metadata": {
        "id": "handled-finnish"
      },
      "source": [
        "Checking the accuracy of its predictions."
      ]
    },
    {
      "cell_type": "code",
      "metadata": {
        "colab": {
          "base_uri": "https://localhost:8080/"
        },
        "id": "DPjLtPi9Yd_E",
        "outputId": "4ac70941-3c80-49f2-9754-f235ea1cb41d"
      },
      "source": [
        "accuracy_score(train_targets, train_preds)"
      ],
      "execution_count": null,
      "outputs": [
        {
          "output_type": "execute_result",
          "data": {
            "text/plain": [
              "1.0"
            ]
          },
          "metadata": {},
          "execution_count": 31
        }
      ]
    },
    {
      "cell_type": "markdown",
      "metadata": {
        "id": "certified-employee"
      },
      "source": [
        "The training set accuracy is 100%\n",
        "\n",
        "Evaluating the model on the validation set."
      ]
    },
    {
      "cell_type": "code",
      "metadata": {
        "colab": {
          "base_uri": "https://localhost:8080/"
        },
        "id": "s4d5Zu7BZF0h",
        "outputId": "0d9d6df4-9c4c-40df-dc7e-098c088634e2"
      },
      "source": [
        "model.score(val_inputs, val_targets)"
      ],
      "execution_count": null,
      "outputs": [
        {
          "output_type": "execute_result",
          "data": {
            "text/plain": [
              "0.7309486780715396"
            ]
          },
          "metadata": {},
          "execution_count": 32
        }
      ]
    },
    {
      "cell_type": "markdown",
      "metadata": {
        "id": "ruled-today"
      },
      "source": [
        "Although the training accuracy is 100%, the accuracy on the validation set is  73%"
      ]
    },
    {
      "cell_type": "code",
      "metadata": {
        "colab": {
          "base_uri": "https://localhost:8080/"
        },
        "id": "xn6SMAQ4ZGAl",
        "outputId": "7ec04123-b1ea-41aa-e2c8-fc01704461a6"
      },
      "source": [
        "val_targets.value_counts() / len(val_targets)"
      ],
      "execution_count": null,
      "outputs": [
        {
          "output_type": "execute_result",
          "data": {
            "text/plain": [
              "0    0.7014\n",
              "1    0.2986\n",
              "Name: is_ultra, dtype: float64"
            ]
          },
          "metadata": {},
          "execution_count": 33
        }
      ]
    },
    {
      "cell_type": "code",
      "metadata": {
        "colab": {
          "base_uri": "https://localhost:8080/"
        },
        "id": "7eqOOdYCiD2P",
        "outputId": "079a37a1-a81e-4962-c6fe-2bcd13b53bf7"
      },
      "source": [
        "model.score(test_inputs, test_targets)"
      ],
      "execution_count": null,
      "outputs": [
        {
          "output_type": "execute_result",
          "data": {
            "text/plain": [
              "0.7356143079315708"
            ]
          },
          "metadata": {},
          "execution_count": 34
        }
      ]
    },
    {
      "cell_type": "markdown",
      "metadata": {
        "id": "bibliographic-divide"
      },
      "source": [
        "The model has learned from the training examples perfectly, but it doesn't generalize well to unseen data. Its overfitted.\n",
        "the accuracy on the test set is  73.5%"
      ]
    },
    {
      "cell_type": "markdown",
      "metadata": {
        "id": "OkPm2XaxUi_G"
      },
      "source": [
        "## Decision Tree Hyperparameter Tuning "
      ]
    },
    {
      "cell_type": "code",
      "metadata": {
        "colab": {
          "base_uri": "https://localhost:8080/"
        },
        "id": "JkdaLBgicdk_",
        "outputId": "054c2c53-29e0-42db-bcfb-2474120acf27"
      },
      "source": [
        "# checking the Decision tree models depth in the above before hyperparameter tuning\n",
        "model.tree_.max_depth"
      ],
      "execution_count": null,
      "outputs": [
        {
          "output_type": "execute_result",
          "data": {
            "text/plain": [
              "27"
            ]
          },
          "metadata": {},
          "execution_count": 35
        }
      ]
    },
    {
      "cell_type": "markdown",
      "metadata": {
        "id": "solved-cocktail"
      },
      "source": [
        "### `max_depth`\n",
        "\n",
        "Reducing the maximum depth of the decision tree to prevent the tree from memorizing all training examples, which  may in turn lead to better generalization in the validation dataset. Setting the hyperparameter max_depth to 3"
      ]
    },
    {
      "cell_type": "code",
      "metadata": {
        "id": "NjI_IM5Ea48v"
      },
      "source": [
        "model = DecisionTreeClassifier(max_depth=3, random_state=42)"
      ],
      "execution_count": null,
      "outputs": []
    },
    {
      "cell_type": "code",
      "metadata": {
        "colab": {
          "base_uri": "https://localhost:8080/"
        },
        "id": "jM3FWMDraA9v",
        "outputId": "93da95f0-c00f-4f87-ae99-386fad4cfdff"
      },
      "source": [
        "model.fit(train_inputs, train_targets)"
      ],
      "execution_count": null,
      "outputs": [
        {
          "output_type": "execute_result",
          "data": {
            "text/plain": [
              "DecisionTreeClassifier(ccp_alpha=0.0, class_weight=None, criterion='gini',\n",
              "                       max_depth=3, max_features=None, max_leaf_nodes=None,\n",
              "                       min_impurity_decrease=0.0, min_impurity_split=None,\n",
              "                       min_samples_leaf=1, min_samples_split=2,\n",
              "                       min_weight_fraction_leaf=0.0, presort='deprecated',\n",
              "                       random_state=42, splitter='best')"
            ]
          },
          "metadata": {},
          "execution_count": 37
        }
      ]
    },
    {
      "cell_type": "markdown",
      "metadata": {
        "id": "radio-blair"
      },
      "source": [
        "Computing the accuracy of the model on the training and validation and test sets using `model.score`"
      ]
    },
    {
      "cell_type": "code",
      "metadata": {
        "colab": {
          "base_uri": "https://localhost:8080/"
        },
        "id": "8L3a5McMaBA8",
        "outputId": "df1aafac-3ab7-40c7-ffc5-c776c50df302"
      },
      "source": [
        "model.score(train_inputs, train_targets)"
      ],
      "execution_count": null,
      "outputs": [
        {
          "output_type": "execute_result",
          "data": {
            "text/plain": [
              "0.7982365145228216"
            ]
          },
          "metadata": {},
          "execution_count": 38
        }
      ]
    },
    {
      "cell_type": "code",
      "metadata": {
        "colab": {
          "base_uri": "https://localhost:8080/"
        },
        "id": "lHWFYPbnbvYK",
        "outputId": "8824ef30-0fb0-4aff-8254-ec8ed3cd4d7a"
      },
      "source": [
        "model.score(val_inputs, val_targets)"
      ],
      "execution_count": null,
      "outputs": [
        {
          "output_type": "execute_result",
          "data": {
            "text/plain": [
              "0.7744945567651633"
            ]
          },
          "metadata": {},
          "execution_count": 39
        }
      ]
    },
    {
      "cell_type": "code",
      "metadata": {
        "colab": {
          "base_uri": "https://localhost:8080/"
        },
        "id": "n9NlfEZKieY4",
        "outputId": "26272374-f730-41d2-da82-86a215cbb8e7"
      },
      "source": [
        "model.score(test_inputs, test_targets)"
      ],
      "execution_count": null,
      "outputs": [
        {
          "output_type": "execute_result",
          "data": {
            "text/plain": [
              "0.7776049766718507"
            ]
          },
          "metadata": {},
          "execution_count": 40
        }
      ]
    },
    {
      "cell_type": "markdown",
      "metadata": {
        "id": "delayed-street"
      },
      "source": [
        "After reducing the max-depth from 27 to 3, the training accuracy of the model has reduced from 100% to 79.8% , while the validation accuracy of the model has increased from 73% to 77%.\n",
        "\n",
        "the accuracy on the test set also incresed from 74.4% to 77.7%"
      ]
    },
    {
      "cell_type": "markdown",
      "metadata": {
        "id": "suspected-climb"
      },
      "source": [
        "Trying out different depths using a helper function to see which value of max_depth has the least Validation Error"
      ]
    },
    {
      "cell_type": "code",
      "metadata": {
        "id": "kmJYHs6Vkq8V"
      },
      "source": [
        "def max_depth_error(md):\n",
        "    model = DecisionTreeClassifier(max_depth=md, random_state=42)\n",
        "    model.fit(train_inputs, train_targets)\n",
        "    train_accuracy = 1 - model.score(train_inputs, train_targets)\n",
        "    val_accuracy = 1 - model.score(val_inputs, val_targets)\n",
        "    test_accuracy = 1- model.score(test_inputs, test_targets)\n",
        "    return {'Max Depth': md, 'Training Error': train_accuracy, 'Validation Error': val_accuracy , 'Test Prediction Error': test_accuracy}\n",
        "    "
      ],
      "execution_count": null,
      "outputs": []
    },
    {
      "cell_type": "code",
      "metadata": {
        "id": "oRPh7mkskq8f"
      },
      "source": [
        "#the range of max depth is set to 27 which is the initial decision tree max_depth. \n",
        "#we are looking to see which value of the max_depth within that range will improve the validation and test prediction error the most.\n",
        "errors_df = pd.DataFrame([max_depth_error(md) for md in range(1, 28)])"
      ],
      "execution_count": null,
      "outputs": []
    },
    {
      "cell_type": "code",
      "metadata": {
        "colab": {
          "base_uri": "https://localhost:8080/",
          "height": 876
        },
        "id": "olivOcsKkq8f",
        "outputId": "20c72779-47e9-4717-8a63-61389b312e71"
      },
      "source": [
        "errors_df"
      ],
      "execution_count": null,
      "outputs": [
        {
          "output_type": "execute_result",
          "data": {
            "text/html": [
              "<div>\n",
              "<style scoped>\n",
              "    .dataframe tbody tr th:only-of-type {\n",
              "        vertical-align: middle;\n",
              "    }\n",
              "\n",
              "    .dataframe tbody tr th {\n",
              "        vertical-align: top;\n",
              "    }\n",
              "\n",
              "    .dataframe thead th {\n",
              "        text-align: right;\n",
              "    }\n",
              "</style>\n",
              "<table border=\"1\" class=\"dataframe\">\n",
              "  <thead>\n",
              "    <tr style=\"text-align: right;\">\n",
              "      <th></th>\n",
              "      <th>Max Depth</th>\n",
              "      <th>Training Error</th>\n",
              "      <th>Validation Error</th>\n",
              "      <th>Test Prediction Error</th>\n",
              "    </tr>\n",
              "  </thead>\n",
              "  <tbody>\n",
              "    <tr>\n",
              "      <th>0</th>\n",
              "      <td>1</td>\n",
              "      <td>0.252593</td>\n",
              "      <td>0.258165</td>\n",
              "      <td>0.230171</td>\n",
              "    </tr>\n",
              "    <tr>\n",
              "      <th>1</th>\n",
              "      <td>2</td>\n",
              "      <td>0.218880</td>\n",
              "      <td>0.225505</td>\n",
              "      <td>0.209953</td>\n",
              "    </tr>\n",
              "    <tr>\n",
              "      <th>2</th>\n",
              "      <td>3</td>\n",
              "      <td>0.201763</td>\n",
              "      <td>0.225505</td>\n",
              "      <td>0.222395</td>\n",
              "    </tr>\n",
              "    <tr>\n",
              "      <th>3</th>\n",
              "      <td>4</td>\n",
              "      <td>0.195021</td>\n",
              "      <td>0.219285</td>\n",
              "      <td>0.209953</td>\n",
              "    </tr>\n",
              "    <tr>\n",
              "      <th>4</th>\n",
              "      <td>5</td>\n",
              "      <td>0.170643</td>\n",
              "      <td>0.228616</td>\n",
              "      <td>0.195956</td>\n",
              "    </tr>\n",
              "    <tr>\n",
              "      <th>5</th>\n",
              "      <td>6</td>\n",
              "      <td>0.161307</td>\n",
              "      <td>0.220840</td>\n",
              "      <td>0.206843</td>\n",
              "    </tr>\n",
              "    <tr>\n",
              "      <th>6</th>\n",
              "      <td>7</td>\n",
              "      <td>0.146784</td>\n",
              "      <td>0.211509</td>\n",
              "      <td>0.199067</td>\n",
              "    </tr>\n",
              "    <tr>\n",
              "      <th>7</th>\n",
              "      <td>8</td>\n",
              "      <td>0.132261</td>\n",
              "      <td>0.228616</td>\n",
              "      <td>0.222395</td>\n",
              "    </tr>\n",
              "    <tr>\n",
              "      <th>8</th>\n",
              "      <td>9</td>\n",
              "      <td>0.116183</td>\n",
              "      <td>0.214619</td>\n",
              "      <td>0.208398</td>\n",
              "    </tr>\n",
              "    <tr>\n",
              "      <th>9</th>\n",
              "      <td>10</td>\n",
              "      <td>0.106846</td>\n",
              "      <td>0.234837</td>\n",
              "      <td>0.206843</td>\n",
              "    </tr>\n",
              "    <tr>\n",
              "      <th>10</th>\n",
              "      <td>11</td>\n",
              "      <td>0.093880</td>\n",
              "      <td>0.233281</td>\n",
              "      <td>0.225505</td>\n",
              "    </tr>\n",
              "    <tr>\n",
              "      <th>11</th>\n",
              "      <td>12</td>\n",
              "      <td>0.081950</td>\n",
              "      <td>0.231726</td>\n",
              "      <td>0.213064</td>\n",
              "    </tr>\n",
              "    <tr>\n",
              "      <th>12</th>\n",
              "      <td>13</td>\n",
              "      <td>0.074170</td>\n",
              "      <td>0.242613</td>\n",
              "      <td>0.225505</td>\n",
              "    </tr>\n",
              "    <tr>\n",
              "      <th>13</th>\n",
              "      <td>14</td>\n",
              "      <td>0.065871</td>\n",
              "      <td>0.236392</td>\n",
              "      <td>0.227061</td>\n",
              "    </tr>\n",
              "    <tr>\n",
              "      <th>14</th>\n",
              "      <td>15</td>\n",
              "      <td>0.059129</td>\n",
              "      <td>0.242613</td>\n",
              "      <td>0.225505</td>\n",
              "    </tr>\n",
              "    <tr>\n",
              "      <th>15</th>\n",
              "      <td>16</td>\n",
              "      <td>0.052386</td>\n",
              "      <td>0.241058</td>\n",
              "      <td>0.231726</td>\n",
              "    </tr>\n",
              "    <tr>\n",
              "      <th>16</th>\n",
              "      <td>17</td>\n",
              "      <td>0.042531</td>\n",
              "      <td>0.245723</td>\n",
              "      <td>0.236392</td>\n",
              "    </tr>\n",
              "    <tr>\n",
              "      <th>17</th>\n",
              "      <td>18</td>\n",
              "      <td>0.034751</td>\n",
              "      <td>0.262830</td>\n",
              "      <td>0.239502</td>\n",
              "    </tr>\n",
              "    <tr>\n",
              "      <th>18</th>\n",
              "      <td>19</td>\n",
              "      <td>0.030083</td>\n",
              "      <td>0.262830</td>\n",
              "      <td>0.236392</td>\n",
              "    </tr>\n",
              "    <tr>\n",
              "      <th>19</th>\n",
              "      <td>20</td>\n",
              "      <td>0.024896</td>\n",
              "      <td>0.269051</td>\n",
              "      <td>0.258165</td>\n",
              "    </tr>\n",
              "    <tr>\n",
              "      <th>20</th>\n",
              "      <td>21</td>\n",
              "      <td>0.019710</td>\n",
              "      <td>0.261275</td>\n",
              "      <td>0.241058</td>\n",
              "    </tr>\n",
              "    <tr>\n",
              "      <th>21</th>\n",
              "      <td>22</td>\n",
              "      <td>0.014523</td>\n",
              "      <td>0.264386</td>\n",
              "      <td>0.244168</td>\n",
              "    </tr>\n",
              "    <tr>\n",
              "      <th>22</th>\n",
              "      <td>23</td>\n",
              "      <td>0.010373</td>\n",
              "      <td>0.264386</td>\n",
              "      <td>0.250389</td>\n",
              "    </tr>\n",
              "    <tr>\n",
              "      <th>23</th>\n",
              "      <td>24</td>\n",
              "      <td>0.008299</td>\n",
              "      <td>0.270607</td>\n",
              "      <td>0.258165</td>\n",
              "    </tr>\n",
              "    <tr>\n",
              "      <th>24</th>\n",
              "      <td>25</td>\n",
              "      <td>0.003112</td>\n",
              "      <td>0.269051</td>\n",
              "      <td>0.259720</td>\n",
              "    </tr>\n",
              "    <tr>\n",
              "      <th>25</th>\n",
              "      <td>26</td>\n",
              "      <td>0.000519</td>\n",
              "      <td>0.273717</td>\n",
              "      <td>0.261275</td>\n",
              "    </tr>\n",
              "    <tr>\n",
              "      <th>26</th>\n",
              "      <td>27</td>\n",
              "      <td>0.000000</td>\n",
              "      <td>0.269051</td>\n",
              "      <td>0.264386</td>\n",
              "    </tr>\n",
              "  </tbody>\n",
              "</table>\n",
              "</div>"
            ],
            "text/plain": [
              "    Max Depth  Training Error  Validation Error  Test Prediction Error\n",
              "0           1        0.252593          0.258165               0.230171\n",
              "1           2        0.218880          0.225505               0.209953\n",
              "2           3        0.201763          0.225505               0.222395\n",
              "3           4        0.195021          0.219285               0.209953\n",
              "4           5        0.170643          0.228616               0.195956\n",
              "5           6        0.161307          0.220840               0.206843\n",
              "6           7        0.146784          0.211509               0.199067\n",
              "7           8        0.132261          0.228616               0.222395\n",
              "8           9        0.116183          0.214619               0.208398\n",
              "9          10        0.106846          0.234837               0.206843\n",
              "10         11        0.093880          0.233281               0.225505\n",
              "11         12        0.081950          0.231726               0.213064\n",
              "12         13        0.074170          0.242613               0.225505\n",
              "13         14        0.065871          0.236392               0.227061\n",
              "14         15        0.059129          0.242613               0.225505\n",
              "15         16        0.052386          0.241058               0.231726\n",
              "16         17        0.042531          0.245723               0.236392\n",
              "17         18        0.034751          0.262830               0.239502\n",
              "18         19        0.030083          0.262830               0.236392\n",
              "19         20        0.024896          0.269051               0.258165\n",
              "20         21        0.019710          0.261275               0.241058\n",
              "21         22        0.014523          0.264386               0.244168\n",
              "22         23        0.010373          0.264386               0.250389\n",
              "23         24        0.008299          0.270607               0.258165\n",
              "24         25        0.003112          0.269051               0.259720\n",
              "25         26        0.000519          0.273717               0.261275\n",
              "26         27        0.000000          0.269051               0.264386"
            ]
          },
          "metadata": {},
          "execution_count": 43
        }
      ]
    },
    {
      "cell_type": "markdown",
      "metadata": {
        "id": "a-IvUns9lIlZ"
      },
      "source": [
        "At max_depth =5, the  Validation Error and the Test Prediction Error are the least.\n",
        "\n",
        "\n",
        "Setting the hyperparameter max_depth to 5 and computing the accuracy of the model on the training and validation and test sets using model.score\n"
      ]
    },
    {
      "cell_type": "code",
      "metadata": {
        "id": "9fdqHZfQmZ-X"
      },
      "source": [
        "model = DecisionTreeClassifier(max_depth=5, random_state=42)"
      ],
      "execution_count": null,
      "outputs": []
    },
    {
      "cell_type": "code",
      "metadata": {
        "colab": {
          "base_uri": "https://localhost:8080/"
        },
        "id": "6FdII0mhmZ-X",
        "outputId": "e2aac572-5015-47cf-96fd-a1d9ae6ae258"
      },
      "source": [
        "model.fit(train_inputs, train_targets)"
      ],
      "execution_count": null,
      "outputs": [
        {
          "output_type": "execute_result",
          "data": {
            "text/plain": [
              "DecisionTreeClassifier(ccp_alpha=0.0, class_weight=None, criterion='gini',\n",
              "                       max_depth=5, max_features=None, max_leaf_nodes=None,\n",
              "                       min_impurity_decrease=0.0, min_impurity_split=None,\n",
              "                       min_samples_leaf=1, min_samples_split=2,\n",
              "                       min_weight_fraction_leaf=0.0, presort='deprecated',\n",
              "                       random_state=42, splitter='best')"
            ]
          },
          "metadata": {},
          "execution_count": 45
        }
      ]
    },
    {
      "cell_type": "code",
      "metadata": {
        "colab": {
          "base_uri": "https://localhost:8080/"
        },
        "id": "o2WnKQgHmZ-Y",
        "outputId": "55ecc4f3-4966-4198-d2fb-479f30419c4a"
      },
      "source": [
        "model.score(train_inputs, train_targets)"
      ],
      "execution_count": null,
      "outputs": [
        {
          "output_type": "execute_result",
          "data": {
            "text/plain": [
              "0.8293568464730291"
            ]
          },
          "metadata": {},
          "execution_count": 46
        }
      ]
    },
    {
      "cell_type": "code",
      "metadata": {
        "colab": {
          "base_uri": "https://localhost:8080/"
        },
        "id": "KG1_fbeRmZ-Y",
        "outputId": "7da966bc-1e9a-42fd-f0ac-6183c0b9761d"
      },
      "source": [
        "model.score(val_inputs, val_targets)"
      ],
      "execution_count": null,
      "outputs": [
        {
          "output_type": "execute_result",
          "data": {
            "text/plain": [
              "0.7713841368584758"
            ]
          },
          "metadata": {},
          "execution_count": 47
        }
      ]
    },
    {
      "cell_type": "code",
      "metadata": {
        "colab": {
          "base_uri": "https://localhost:8080/"
        },
        "id": "pzcMvYP3jtF3",
        "outputId": "3efef8f1-2c8b-48cb-ee55-7ea45f1de8f8"
      },
      "source": [
        "model.score(test_inputs, test_targets)"
      ],
      "execution_count": null,
      "outputs": [
        {
          "output_type": "execute_result",
          "data": {
            "text/plain": [
              "0.8040435458786936"
            ]
          },
          "metadata": {},
          "execution_count": 48
        }
      ]
    },
    {
      "cell_type": "markdown",
      "metadata": {
        "id": "gT7wA3JZml4L"
      },
      "source": [
        "After reducing the max-depth from 27 to 5, the training accuracy of the model has reduced from 100% to 82.9% ,  the validation accuracy of the model has increased from 73% to 77% while the test prediction accuracy increased from 74.4% to 80%"
      ]
    },
    {
      "cell_type": "markdown",
      "metadata": {
        "id": "swV9fyYngt-N"
      },
      "source": [
        "### `min_samples_split`\n",
        "\n",
        "this prohibits creating nodes that don't contain enough observations from the training set.\n"
      ]
    },
    {
      "cell_type": "markdown",
      "metadata": {
        "id": "K0QOw3h7ndg6"
      },
      "source": [
        "Trying out different minimum sample splits using a helper function to see which value of min_samples_split has the least Validation and Test Prediction Error"
      ]
    },
    {
      "cell_type": "code",
      "metadata": {
        "id": "pZuKoHVRoGXp"
      },
      "source": [
        "def min_sample_split_error(md):\n",
        "    model = DecisionTreeClassifier(min_samples_split=md, random_state=42)\n",
        "    model.fit(train_inputs, train_targets)\n",
        "    train_acc = 1 - model.score(train_inputs, train_targets)\n",
        "    val_acc = 1 - model.score(val_inputs, val_targets)\n",
        "    test_acc = 1 - model.score(test_inputs, test_targets)\n",
        "    return {'Minimum Sample Split': md, 'Training Error': train_acc, 'Validation Error': val_acc, 'Test Prediction Error': test_acc}"
      ],
      "execution_count": null,
      "outputs": []
    },
    {
      "cell_type": "code",
      "metadata": {
        "id": "8DJ05XYBoGXp"
      },
      "source": [
        "samplesplit_errors_df = pd.DataFrame([min_sample_split_error(md) for md in range(2, 50)])"
      ],
      "execution_count": null,
      "outputs": []
    },
    {
      "cell_type": "code",
      "metadata": {
        "colab": {
          "base_uri": "https://localhost:8080/",
          "height": 1000
        },
        "id": "-ixVKuXvoGXq",
        "outputId": "4f0ae348-ec1f-4e96-a9e2-334a4c0fa3c0"
      },
      "source": [
        "samplesplit_errors_df"
      ],
      "execution_count": null,
      "outputs": [
        {
          "output_type": "execute_result",
          "data": {
            "text/html": [
              "<div>\n",
              "<style scoped>\n",
              "    .dataframe tbody tr th:only-of-type {\n",
              "        vertical-align: middle;\n",
              "    }\n",
              "\n",
              "    .dataframe tbody tr th {\n",
              "        vertical-align: top;\n",
              "    }\n",
              "\n",
              "    .dataframe thead th {\n",
              "        text-align: right;\n",
              "    }\n",
              "</style>\n",
              "<table border=\"1\" class=\"dataframe\">\n",
              "  <thead>\n",
              "    <tr style=\"text-align: right;\">\n",
              "      <th></th>\n",
              "      <th>Minimum Sample Split</th>\n",
              "      <th>Training Error</th>\n",
              "      <th>Validation Error</th>\n",
              "      <th>Test Prediction Error</th>\n",
              "    </tr>\n",
              "  </thead>\n",
              "  <tbody>\n",
              "    <tr>\n",
              "      <th>0</th>\n",
              "      <td>2</td>\n",
              "      <td>0.000000</td>\n",
              "      <td>0.269051</td>\n",
              "      <td>0.264386</td>\n",
              "    </tr>\n",
              "    <tr>\n",
              "      <th>1</th>\n",
              "      <td>3</td>\n",
              "      <td>0.014004</td>\n",
              "      <td>0.265941</td>\n",
              "      <td>0.265941</td>\n",
              "    </tr>\n",
              "    <tr>\n",
              "      <th>2</th>\n",
              "      <td>4</td>\n",
              "      <td>0.030602</td>\n",
              "      <td>0.245723</td>\n",
              "      <td>0.237947</td>\n",
              "    </tr>\n",
              "    <tr>\n",
              "      <th>3</th>\n",
              "      <td>5</td>\n",
              "      <td>0.037344</td>\n",
              "      <td>0.250389</td>\n",
              "      <td>0.248834</td>\n",
              "    </tr>\n",
              "    <tr>\n",
              "      <th>4</th>\n",
              "      <td>6</td>\n",
              "      <td>0.051867</td>\n",
              "      <td>0.265941</td>\n",
              "      <td>0.256610</td>\n",
              "    </tr>\n",
              "    <tr>\n",
              "      <th>5</th>\n",
              "      <td>7</td>\n",
              "      <td>0.061722</td>\n",
              "      <td>0.269051</td>\n",
              "      <td>0.258165</td>\n",
              "    </tr>\n",
              "    <tr>\n",
              "      <th>6</th>\n",
              "      <td>8</td>\n",
              "      <td>0.067427</td>\n",
              "      <td>0.269051</td>\n",
              "      <td>0.255054</td>\n",
              "    </tr>\n",
              "    <tr>\n",
              "      <th>7</th>\n",
              "      <td>9</td>\n",
              "      <td>0.078320</td>\n",
              "      <td>0.258165</td>\n",
              "      <td>0.234837</td>\n",
              "    </tr>\n",
              "    <tr>\n",
              "      <th>8</th>\n",
              "      <td>10</td>\n",
              "      <td>0.080913</td>\n",
              "      <td>0.258165</td>\n",
              "      <td>0.241058</td>\n",
              "    </tr>\n",
              "    <tr>\n",
              "      <th>9</th>\n",
              "      <td>11</td>\n",
              "      <td>0.087137</td>\n",
              "      <td>0.262830</td>\n",
              "      <td>0.241058</td>\n",
              "    </tr>\n",
              "    <tr>\n",
              "      <th>10</th>\n",
              "      <td>12</td>\n",
              "      <td>0.090768</td>\n",
              "      <td>0.258165</td>\n",
              "      <td>0.245723</td>\n",
              "    </tr>\n",
              "    <tr>\n",
              "      <th>11</th>\n",
              "      <td>13</td>\n",
              "      <td>0.094917</td>\n",
              "      <td>0.262830</td>\n",
              "      <td>0.233281</td>\n",
              "    </tr>\n",
              "    <tr>\n",
              "      <th>12</th>\n",
              "      <td>14</td>\n",
              "      <td>0.103216</td>\n",
              "      <td>0.259720</td>\n",
              "      <td>0.227061</td>\n",
              "    </tr>\n",
              "    <tr>\n",
              "      <th>13</th>\n",
              "      <td>15</td>\n",
              "      <td>0.107365</td>\n",
              "      <td>0.250389</td>\n",
              "      <td>0.230171</td>\n",
              "    </tr>\n",
              "    <tr>\n",
              "      <th>14</th>\n",
              "      <td>16</td>\n",
              "      <td>0.108921</td>\n",
              "      <td>0.253499</td>\n",
              "      <td>0.222395</td>\n",
              "    </tr>\n",
              "    <tr>\n",
              "      <th>15</th>\n",
              "      <td>17</td>\n",
              "      <td>0.110996</td>\n",
              "      <td>0.247278</td>\n",
              "      <td>0.231726</td>\n",
              "    </tr>\n",
              "    <tr>\n",
              "      <th>16</th>\n",
              "      <td>18</td>\n",
              "      <td>0.114108</td>\n",
              "      <td>0.247278</td>\n",
              "      <td>0.228616</td>\n",
              "    </tr>\n",
              "    <tr>\n",
              "      <th>17</th>\n",
              "      <td>19</td>\n",
              "      <td>0.116701</td>\n",
              "      <td>0.237947</td>\n",
              "      <td>0.231726</td>\n",
              "    </tr>\n",
              "    <tr>\n",
              "      <th>18</th>\n",
              "      <td>20</td>\n",
              "      <td>0.119813</td>\n",
              "      <td>0.234837</td>\n",
              "      <td>0.231726</td>\n",
              "    </tr>\n",
              "    <tr>\n",
              "      <th>19</th>\n",
              "      <td>21</td>\n",
              "      <td>0.121888</td>\n",
              "      <td>0.234837</td>\n",
              "      <td>0.222395</td>\n",
              "    </tr>\n",
              "    <tr>\n",
              "      <th>20</th>\n",
              "      <td>22</td>\n",
              "      <td>0.127593</td>\n",
              "      <td>0.239502</td>\n",
              "      <td>0.220840</td>\n",
              "    </tr>\n",
              "    <tr>\n",
              "      <th>21</th>\n",
              "      <td>23</td>\n",
              "      <td>0.132261</td>\n",
              "      <td>0.230171</td>\n",
              "      <td>0.214619</td>\n",
              "    </tr>\n",
              "    <tr>\n",
              "      <th>22</th>\n",
              "      <td>24</td>\n",
              "      <td>0.133817</td>\n",
              "      <td>0.230171</td>\n",
              "      <td>0.219285</td>\n",
              "    </tr>\n",
              "    <tr>\n",
              "      <th>23</th>\n",
              "      <td>25</td>\n",
              "      <td>0.136411</td>\n",
              "      <td>0.228616</td>\n",
              "      <td>0.219285</td>\n",
              "    </tr>\n",
              "    <tr>\n",
              "      <th>24</th>\n",
              "      <td>26</td>\n",
              "      <td>0.136411</td>\n",
              "      <td>0.228616</td>\n",
              "      <td>0.219285</td>\n",
              "    </tr>\n",
              "    <tr>\n",
              "      <th>25</th>\n",
              "      <td>27</td>\n",
              "      <td>0.137967</td>\n",
              "      <td>0.227061</td>\n",
              "      <td>0.217729</td>\n",
              "    </tr>\n",
              "    <tr>\n",
              "      <th>26</th>\n",
              "      <td>28</td>\n",
              "      <td>0.141079</td>\n",
              "      <td>0.231726</td>\n",
              "      <td>0.214619</td>\n",
              "    </tr>\n",
              "    <tr>\n",
              "      <th>27</th>\n",
              "      <td>29</td>\n",
              "      <td>0.141079</td>\n",
              "      <td>0.231726</td>\n",
              "      <td>0.214619</td>\n",
              "    </tr>\n",
              "    <tr>\n",
              "      <th>28</th>\n",
              "      <td>30</td>\n",
              "      <td>0.141598</td>\n",
              "      <td>0.230171</td>\n",
              "      <td>0.213064</td>\n",
              "    </tr>\n",
              "    <tr>\n",
              "      <th>29</th>\n",
              "      <td>31</td>\n",
              "      <td>0.141598</td>\n",
              "      <td>0.230171</td>\n",
              "      <td>0.213064</td>\n",
              "    </tr>\n",
              "    <tr>\n",
              "      <th>30</th>\n",
              "      <td>32</td>\n",
              "      <td>0.144191</td>\n",
              "      <td>0.228616</td>\n",
              "      <td>0.211509</td>\n",
              "    </tr>\n",
              "    <tr>\n",
              "      <th>31</th>\n",
              "      <td>33</td>\n",
              "      <td>0.144710</td>\n",
              "      <td>0.227061</td>\n",
              "      <td>0.211509</td>\n",
              "    </tr>\n",
              "    <tr>\n",
              "      <th>32</th>\n",
              "      <td>34</td>\n",
              "      <td>0.147303</td>\n",
              "      <td>0.220840</td>\n",
              "      <td>0.203733</td>\n",
              "    </tr>\n",
              "    <tr>\n",
              "      <th>33</th>\n",
              "      <td>35</td>\n",
              "      <td>0.147303</td>\n",
              "      <td>0.220840</td>\n",
              "      <td>0.203733</td>\n",
              "    </tr>\n",
              "    <tr>\n",
              "      <th>34</th>\n",
              "      <td>36</td>\n",
              "      <td>0.147822</td>\n",
              "      <td>0.219285</td>\n",
              "      <td>0.203733</td>\n",
              "    </tr>\n",
              "    <tr>\n",
              "      <th>35</th>\n",
              "      <td>37</td>\n",
              "      <td>0.147822</td>\n",
              "      <td>0.219285</td>\n",
              "      <td>0.203733</td>\n",
              "    </tr>\n",
              "    <tr>\n",
              "      <th>36</th>\n",
              "      <td>38</td>\n",
              "      <td>0.148340</td>\n",
              "      <td>0.217729</td>\n",
              "      <td>0.203733</td>\n",
              "    </tr>\n",
              "    <tr>\n",
              "      <th>37</th>\n",
              "      <td>39</td>\n",
              "      <td>0.148340</td>\n",
              "      <td>0.217729</td>\n",
              "      <td>0.203733</td>\n",
              "    </tr>\n",
              "    <tr>\n",
              "      <th>38</th>\n",
              "      <td>40</td>\n",
              "      <td>0.148340</td>\n",
              "      <td>0.222395</td>\n",
              "      <td>0.203733</td>\n",
              "    </tr>\n",
              "    <tr>\n",
              "      <th>39</th>\n",
              "      <td>41</td>\n",
              "      <td>0.148340</td>\n",
              "      <td>0.222395</td>\n",
              "      <td>0.203733</td>\n",
              "    </tr>\n",
              "    <tr>\n",
              "      <th>40</th>\n",
              "      <td>42</td>\n",
              "      <td>0.151452</td>\n",
              "      <td>0.231726</td>\n",
              "      <td>0.217729</td>\n",
              "    </tr>\n",
              "    <tr>\n",
              "      <th>41</th>\n",
              "      <td>43</td>\n",
              "      <td>0.151452</td>\n",
              "      <td>0.231726</td>\n",
              "      <td>0.217729</td>\n",
              "    </tr>\n",
              "    <tr>\n",
              "      <th>42</th>\n",
              "      <td>44</td>\n",
              "      <td>0.151452</td>\n",
              "      <td>0.231726</td>\n",
              "      <td>0.217729</td>\n",
              "    </tr>\n",
              "    <tr>\n",
              "      <th>43</th>\n",
              "      <td>45</td>\n",
              "      <td>0.153527</td>\n",
              "      <td>0.228616</td>\n",
              "      <td>0.214619</td>\n",
              "    </tr>\n",
              "    <tr>\n",
              "      <th>44</th>\n",
              "      <td>46</td>\n",
              "      <td>0.153527</td>\n",
              "      <td>0.228616</td>\n",
              "      <td>0.214619</td>\n",
              "    </tr>\n",
              "    <tr>\n",
              "      <th>45</th>\n",
              "      <td>47</td>\n",
              "      <td>0.155083</td>\n",
              "      <td>0.230171</td>\n",
              "      <td>0.214619</td>\n",
              "    </tr>\n",
              "    <tr>\n",
              "      <th>46</th>\n",
              "      <td>48</td>\n",
              "      <td>0.156120</td>\n",
              "      <td>0.231726</td>\n",
              "      <td>0.217729</td>\n",
              "    </tr>\n",
              "    <tr>\n",
              "      <th>47</th>\n",
              "      <td>49</td>\n",
              "      <td>0.156639</td>\n",
              "      <td>0.231726</td>\n",
              "      <td>0.219285</td>\n",
              "    </tr>\n",
              "  </tbody>\n",
              "</table>\n",
              "</div>"
            ],
            "text/plain": [
              "    Minimum Sample Split  ...  Test Prediction Error\n",
              "0                      2  ...               0.264386\n",
              "1                      3  ...               0.265941\n",
              "2                      4  ...               0.237947\n",
              "3                      5  ...               0.248834\n",
              "4                      6  ...               0.256610\n",
              "5                      7  ...               0.258165\n",
              "6                      8  ...               0.255054\n",
              "7                      9  ...               0.234837\n",
              "8                     10  ...               0.241058\n",
              "9                     11  ...               0.241058\n",
              "10                    12  ...               0.245723\n",
              "11                    13  ...               0.233281\n",
              "12                    14  ...               0.227061\n",
              "13                    15  ...               0.230171\n",
              "14                    16  ...               0.222395\n",
              "15                    17  ...               0.231726\n",
              "16                    18  ...               0.228616\n",
              "17                    19  ...               0.231726\n",
              "18                    20  ...               0.231726\n",
              "19                    21  ...               0.222395\n",
              "20                    22  ...               0.220840\n",
              "21                    23  ...               0.214619\n",
              "22                    24  ...               0.219285\n",
              "23                    25  ...               0.219285\n",
              "24                    26  ...               0.219285\n",
              "25                    27  ...               0.217729\n",
              "26                    28  ...               0.214619\n",
              "27                    29  ...               0.214619\n",
              "28                    30  ...               0.213064\n",
              "29                    31  ...               0.213064\n",
              "30                    32  ...               0.211509\n",
              "31                    33  ...               0.211509\n",
              "32                    34  ...               0.203733\n",
              "33                    35  ...               0.203733\n",
              "34                    36  ...               0.203733\n",
              "35                    37  ...               0.203733\n",
              "36                    38  ...               0.203733\n",
              "37                    39  ...               0.203733\n",
              "38                    40  ...               0.203733\n",
              "39                    41  ...               0.203733\n",
              "40                    42  ...               0.217729\n",
              "41                    43  ...               0.217729\n",
              "42                    44  ...               0.217729\n",
              "43                    45  ...               0.214619\n",
              "44                    46  ...               0.214619\n",
              "45                    47  ...               0.214619\n",
              "46                    48  ...               0.217729\n",
              "47                    49  ...               0.219285\n",
              "\n",
              "[48 rows x 4 columns]"
            ]
          },
          "metadata": {},
          "execution_count": 51
        }
      ]
    },
    {
      "cell_type": "markdown",
      "metadata": {
        "id": "xRVaxx09qUbR"
      },
      "source": [
        "At min_samples_split = 38, the  Validation and Test Prediction Errors are the least.\n",
        "Setting the hyperparameter min_samples_split to 38, computing the accuracy of the model on the training and validation and test sets using model.score\n"
      ]
    },
    {
      "cell_type": "code",
      "metadata": {
        "colab": {
          "base_uri": "https://localhost:8080/"
        },
        "id": "heV3wJvll4Uf",
        "outputId": "1c994f25-f2a1-43c0-df82-a00d56c344a8"
      },
      "source": [
        "model = DecisionTreeClassifier(min_samples_split=38, random_state=42)\n",
        "model.fit(train_inputs, train_targets)\n",
        "model.score(train_inputs, train_targets)"
      ],
      "execution_count": null,
      "outputs": [
        {
          "output_type": "execute_result",
          "data": {
            "text/plain": [
              "0.8516597510373444"
            ]
          },
          "metadata": {},
          "execution_count": 52
        }
      ]
    },
    {
      "cell_type": "code",
      "metadata": {
        "colab": {
          "base_uri": "https://localhost:8080/"
        },
        "id": "90XMx5a_l47Q",
        "outputId": "c887fbd1-342d-483d-fe8a-0f478511b834"
      },
      "source": [
        "model.score(val_inputs, val_targets)"
      ],
      "execution_count": null,
      "outputs": [
        {
          "output_type": "execute_result",
          "data": {
            "text/plain": [
              "0.7822706065318819"
            ]
          },
          "metadata": {},
          "execution_count": 53
        }
      ]
    },
    {
      "cell_type": "code",
      "metadata": {
        "colab": {
          "base_uri": "https://localhost:8080/"
        },
        "id": "UQ-jeCRymwbU",
        "outputId": "a83d33cf-4dca-41ef-e905-e5826b3b936c"
      },
      "source": [
        "model.score(test_inputs, test_targets)"
      ],
      "execution_count": null,
      "outputs": [
        {
          "output_type": "execute_result",
          "data": {
            "text/plain": [
              "0.7962674961119751"
            ]
          },
          "metadata": {},
          "execution_count": 54
        }
      ]
    },
    {
      "cell_type": "markdown",
      "metadata": {
        "id": "XjqO08QBjx5K"
      },
      "source": [
        "After setting the min_sample_split to 38, the training accuracy of the model has reduced from 100% to 85.16% , the validation accuracy of the model has increased from 73% to 78.2%, and the test accuracy increased from 74.4% to 79.6%"
      ]
    },
    {
      "cell_type": "markdown",
      "metadata": {
        "id": "Jdr85Fy5ro_5"
      },
      "source": [
        "### `min_samples_leaf`\n",
        "\n",
        "This hyperparameter prevents the algorithm from adding leaf nodes that don't have enough observations from the training set.\n"
      ]
    },
    {
      "cell_type": "markdown",
      "metadata": {
        "id": "qq5MQKujsKiU"
      },
      "source": [
        "Trying out different min_samples-leaf using a helper function to see which value of min_samples_leaf has the least Validation and Test prediction Error "
      ]
    },
    {
      "cell_type": "code",
      "metadata": {
        "id": "2toMWzHPsKic"
      },
      "source": [
        "def min_sample_leaf_error(md):\n",
        "    model = DecisionTreeClassifier(min_samples_leaf=md, random_state=42)\n",
        "    model.fit(train_inputs, train_targets)\n",
        "    train_accuracy = 1 - model.score(train_inputs, train_targets)\n",
        "    val_accuracy= 1 - model.score(val_inputs, val_targets)\n",
        "    test_accuracy = 1 - model.score(test_inputs, test_targets)\n",
        "    return {'Minimum Sample Leaf': md, 'Training Error': train_accuracy, 'Validation Error': val_accuracy ,  'Test Prediction Error': test_accuracy}"
      ],
      "execution_count": null,
      "outputs": []
    },
    {
      "cell_type": "code",
      "metadata": {
        "id": "tSopkA1SsKid"
      },
      "source": [
        "samplesleaf_errors_df = pd.DataFrame([min_sample_split_error(md) for md in range(2, 50)])"
      ],
      "execution_count": null,
      "outputs": []
    },
    {
      "cell_type": "code",
      "metadata": {
        "colab": {
          "base_uri": "https://localhost:8080/",
          "height": 1000
        },
        "id": "5J3QeOJKsKid",
        "outputId": "96efbe4f-7cd9-4721-f32b-944cbb431e74"
      },
      "source": [
        "samplesleaf_errors_df"
      ],
      "execution_count": null,
      "outputs": [
        {
          "output_type": "execute_result",
          "data": {
            "text/html": [
              "<div>\n",
              "<style scoped>\n",
              "    .dataframe tbody tr th:only-of-type {\n",
              "        vertical-align: middle;\n",
              "    }\n",
              "\n",
              "    .dataframe tbody tr th {\n",
              "        vertical-align: top;\n",
              "    }\n",
              "\n",
              "    .dataframe thead th {\n",
              "        text-align: right;\n",
              "    }\n",
              "</style>\n",
              "<table border=\"1\" class=\"dataframe\">\n",
              "  <thead>\n",
              "    <tr style=\"text-align: right;\">\n",
              "      <th></th>\n",
              "      <th>Minimum Sample Split</th>\n",
              "      <th>Training Error</th>\n",
              "      <th>Validation Error</th>\n",
              "      <th>Test Prediction Error</th>\n",
              "    </tr>\n",
              "  </thead>\n",
              "  <tbody>\n",
              "    <tr>\n",
              "      <th>0</th>\n",
              "      <td>2</td>\n",
              "      <td>0.000000</td>\n",
              "      <td>0.269051</td>\n",
              "      <td>0.264386</td>\n",
              "    </tr>\n",
              "    <tr>\n",
              "      <th>1</th>\n",
              "      <td>3</td>\n",
              "      <td>0.014004</td>\n",
              "      <td>0.265941</td>\n",
              "      <td>0.265941</td>\n",
              "    </tr>\n",
              "    <tr>\n",
              "      <th>2</th>\n",
              "      <td>4</td>\n",
              "      <td>0.030602</td>\n",
              "      <td>0.245723</td>\n",
              "      <td>0.237947</td>\n",
              "    </tr>\n",
              "    <tr>\n",
              "      <th>3</th>\n",
              "      <td>5</td>\n",
              "      <td>0.037344</td>\n",
              "      <td>0.250389</td>\n",
              "      <td>0.248834</td>\n",
              "    </tr>\n",
              "    <tr>\n",
              "      <th>4</th>\n",
              "      <td>6</td>\n",
              "      <td>0.051867</td>\n",
              "      <td>0.265941</td>\n",
              "      <td>0.256610</td>\n",
              "    </tr>\n",
              "    <tr>\n",
              "      <th>5</th>\n",
              "      <td>7</td>\n",
              "      <td>0.061722</td>\n",
              "      <td>0.269051</td>\n",
              "      <td>0.258165</td>\n",
              "    </tr>\n",
              "    <tr>\n",
              "      <th>6</th>\n",
              "      <td>8</td>\n",
              "      <td>0.067427</td>\n",
              "      <td>0.269051</td>\n",
              "      <td>0.255054</td>\n",
              "    </tr>\n",
              "    <tr>\n",
              "      <th>7</th>\n",
              "      <td>9</td>\n",
              "      <td>0.078320</td>\n",
              "      <td>0.258165</td>\n",
              "      <td>0.234837</td>\n",
              "    </tr>\n",
              "    <tr>\n",
              "      <th>8</th>\n",
              "      <td>10</td>\n",
              "      <td>0.080913</td>\n",
              "      <td>0.258165</td>\n",
              "      <td>0.241058</td>\n",
              "    </tr>\n",
              "    <tr>\n",
              "      <th>9</th>\n",
              "      <td>11</td>\n",
              "      <td>0.087137</td>\n",
              "      <td>0.262830</td>\n",
              "      <td>0.241058</td>\n",
              "    </tr>\n",
              "    <tr>\n",
              "      <th>10</th>\n",
              "      <td>12</td>\n",
              "      <td>0.090768</td>\n",
              "      <td>0.258165</td>\n",
              "      <td>0.245723</td>\n",
              "    </tr>\n",
              "    <tr>\n",
              "      <th>11</th>\n",
              "      <td>13</td>\n",
              "      <td>0.094917</td>\n",
              "      <td>0.262830</td>\n",
              "      <td>0.233281</td>\n",
              "    </tr>\n",
              "    <tr>\n",
              "      <th>12</th>\n",
              "      <td>14</td>\n",
              "      <td>0.103216</td>\n",
              "      <td>0.259720</td>\n",
              "      <td>0.227061</td>\n",
              "    </tr>\n",
              "    <tr>\n",
              "      <th>13</th>\n",
              "      <td>15</td>\n",
              "      <td>0.107365</td>\n",
              "      <td>0.250389</td>\n",
              "      <td>0.230171</td>\n",
              "    </tr>\n",
              "    <tr>\n",
              "      <th>14</th>\n",
              "      <td>16</td>\n",
              "      <td>0.108921</td>\n",
              "      <td>0.253499</td>\n",
              "      <td>0.222395</td>\n",
              "    </tr>\n",
              "    <tr>\n",
              "      <th>15</th>\n",
              "      <td>17</td>\n",
              "      <td>0.110996</td>\n",
              "      <td>0.247278</td>\n",
              "      <td>0.231726</td>\n",
              "    </tr>\n",
              "    <tr>\n",
              "      <th>16</th>\n",
              "      <td>18</td>\n",
              "      <td>0.114108</td>\n",
              "      <td>0.247278</td>\n",
              "      <td>0.228616</td>\n",
              "    </tr>\n",
              "    <tr>\n",
              "      <th>17</th>\n",
              "      <td>19</td>\n",
              "      <td>0.116701</td>\n",
              "      <td>0.237947</td>\n",
              "      <td>0.231726</td>\n",
              "    </tr>\n",
              "    <tr>\n",
              "      <th>18</th>\n",
              "      <td>20</td>\n",
              "      <td>0.119813</td>\n",
              "      <td>0.234837</td>\n",
              "      <td>0.231726</td>\n",
              "    </tr>\n",
              "    <tr>\n",
              "      <th>19</th>\n",
              "      <td>21</td>\n",
              "      <td>0.121888</td>\n",
              "      <td>0.234837</td>\n",
              "      <td>0.222395</td>\n",
              "    </tr>\n",
              "    <tr>\n",
              "      <th>20</th>\n",
              "      <td>22</td>\n",
              "      <td>0.127593</td>\n",
              "      <td>0.239502</td>\n",
              "      <td>0.220840</td>\n",
              "    </tr>\n",
              "    <tr>\n",
              "      <th>21</th>\n",
              "      <td>23</td>\n",
              "      <td>0.132261</td>\n",
              "      <td>0.230171</td>\n",
              "      <td>0.214619</td>\n",
              "    </tr>\n",
              "    <tr>\n",
              "      <th>22</th>\n",
              "      <td>24</td>\n",
              "      <td>0.133817</td>\n",
              "      <td>0.230171</td>\n",
              "      <td>0.219285</td>\n",
              "    </tr>\n",
              "    <tr>\n",
              "      <th>23</th>\n",
              "      <td>25</td>\n",
              "      <td>0.136411</td>\n",
              "      <td>0.228616</td>\n",
              "      <td>0.219285</td>\n",
              "    </tr>\n",
              "    <tr>\n",
              "      <th>24</th>\n",
              "      <td>26</td>\n",
              "      <td>0.136411</td>\n",
              "      <td>0.228616</td>\n",
              "      <td>0.219285</td>\n",
              "    </tr>\n",
              "    <tr>\n",
              "      <th>25</th>\n",
              "      <td>27</td>\n",
              "      <td>0.137967</td>\n",
              "      <td>0.227061</td>\n",
              "      <td>0.217729</td>\n",
              "    </tr>\n",
              "    <tr>\n",
              "      <th>26</th>\n",
              "      <td>28</td>\n",
              "      <td>0.141079</td>\n",
              "      <td>0.231726</td>\n",
              "      <td>0.214619</td>\n",
              "    </tr>\n",
              "    <tr>\n",
              "      <th>27</th>\n",
              "      <td>29</td>\n",
              "      <td>0.141079</td>\n",
              "      <td>0.231726</td>\n",
              "      <td>0.214619</td>\n",
              "    </tr>\n",
              "    <tr>\n",
              "      <th>28</th>\n",
              "      <td>30</td>\n",
              "      <td>0.141598</td>\n",
              "      <td>0.230171</td>\n",
              "      <td>0.213064</td>\n",
              "    </tr>\n",
              "    <tr>\n",
              "      <th>29</th>\n",
              "      <td>31</td>\n",
              "      <td>0.141598</td>\n",
              "      <td>0.230171</td>\n",
              "      <td>0.213064</td>\n",
              "    </tr>\n",
              "    <tr>\n",
              "      <th>30</th>\n",
              "      <td>32</td>\n",
              "      <td>0.144191</td>\n",
              "      <td>0.228616</td>\n",
              "      <td>0.211509</td>\n",
              "    </tr>\n",
              "    <tr>\n",
              "      <th>31</th>\n",
              "      <td>33</td>\n",
              "      <td>0.144710</td>\n",
              "      <td>0.227061</td>\n",
              "      <td>0.211509</td>\n",
              "    </tr>\n",
              "    <tr>\n",
              "      <th>32</th>\n",
              "      <td>34</td>\n",
              "      <td>0.147303</td>\n",
              "      <td>0.220840</td>\n",
              "      <td>0.203733</td>\n",
              "    </tr>\n",
              "    <tr>\n",
              "      <th>33</th>\n",
              "      <td>35</td>\n",
              "      <td>0.147303</td>\n",
              "      <td>0.220840</td>\n",
              "      <td>0.203733</td>\n",
              "    </tr>\n",
              "    <tr>\n",
              "      <th>34</th>\n",
              "      <td>36</td>\n",
              "      <td>0.147822</td>\n",
              "      <td>0.219285</td>\n",
              "      <td>0.203733</td>\n",
              "    </tr>\n",
              "    <tr>\n",
              "      <th>35</th>\n",
              "      <td>37</td>\n",
              "      <td>0.147822</td>\n",
              "      <td>0.219285</td>\n",
              "      <td>0.203733</td>\n",
              "    </tr>\n",
              "    <tr>\n",
              "      <th>36</th>\n",
              "      <td>38</td>\n",
              "      <td>0.148340</td>\n",
              "      <td>0.217729</td>\n",
              "      <td>0.203733</td>\n",
              "    </tr>\n",
              "    <tr>\n",
              "      <th>37</th>\n",
              "      <td>39</td>\n",
              "      <td>0.148340</td>\n",
              "      <td>0.217729</td>\n",
              "      <td>0.203733</td>\n",
              "    </tr>\n",
              "    <tr>\n",
              "      <th>38</th>\n",
              "      <td>40</td>\n",
              "      <td>0.148340</td>\n",
              "      <td>0.222395</td>\n",
              "      <td>0.203733</td>\n",
              "    </tr>\n",
              "    <tr>\n",
              "      <th>39</th>\n",
              "      <td>41</td>\n",
              "      <td>0.148340</td>\n",
              "      <td>0.222395</td>\n",
              "      <td>0.203733</td>\n",
              "    </tr>\n",
              "    <tr>\n",
              "      <th>40</th>\n",
              "      <td>42</td>\n",
              "      <td>0.151452</td>\n",
              "      <td>0.231726</td>\n",
              "      <td>0.217729</td>\n",
              "    </tr>\n",
              "    <tr>\n",
              "      <th>41</th>\n",
              "      <td>43</td>\n",
              "      <td>0.151452</td>\n",
              "      <td>0.231726</td>\n",
              "      <td>0.217729</td>\n",
              "    </tr>\n",
              "    <tr>\n",
              "      <th>42</th>\n",
              "      <td>44</td>\n",
              "      <td>0.151452</td>\n",
              "      <td>0.231726</td>\n",
              "      <td>0.217729</td>\n",
              "    </tr>\n",
              "    <tr>\n",
              "      <th>43</th>\n",
              "      <td>45</td>\n",
              "      <td>0.153527</td>\n",
              "      <td>0.228616</td>\n",
              "      <td>0.214619</td>\n",
              "    </tr>\n",
              "    <tr>\n",
              "      <th>44</th>\n",
              "      <td>46</td>\n",
              "      <td>0.153527</td>\n",
              "      <td>0.228616</td>\n",
              "      <td>0.214619</td>\n",
              "    </tr>\n",
              "    <tr>\n",
              "      <th>45</th>\n",
              "      <td>47</td>\n",
              "      <td>0.155083</td>\n",
              "      <td>0.230171</td>\n",
              "      <td>0.214619</td>\n",
              "    </tr>\n",
              "    <tr>\n",
              "      <th>46</th>\n",
              "      <td>48</td>\n",
              "      <td>0.156120</td>\n",
              "      <td>0.231726</td>\n",
              "      <td>0.217729</td>\n",
              "    </tr>\n",
              "    <tr>\n",
              "      <th>47</th>\n",
              "      <td>49</td>\n",
              "      <td>0.156639</td>\n",
              "      <td>0.231726</td>\n",
              "      <td>0.219285</td>\n",
              "    </tr>\n",
              "  </tbody>\n",
              "</table>\n",
              "</div>"
            ],
            "text/plain": [
              "    Minimum Sample Split  ...  Test Prediction Error\n",
              "0                      2  ...               0.264386\n",
              "1                      3  ...               0.265941\n",
              "2                      4  ...               0.237947\n",
              "3                      5  ...               0.248834\n",
              "4                      6  ...               0.256610\n",
              "5                      7  ...               0.258165\n",
              "6                      8  ...               0.255054\n",
              "7                      9  ...               0.234837\n",
              "8                     10  ...               0.241058\n",
              "9                     11  ...               0.241058\n",
              "10                    12  ...               0.245723\n",
              "11                    13  ...               0.233281\n",
              "12                    14  ...               0.227061\n",
              "13                    15  ...               0.230171\n",
              "14                    16  ...               0.222395\n",
              "15                    17  ...               0.231726\n",
              "16                    18  ...               0.228616\n",
              "17                    19  ...               0.231726\n",
              "18                    20  ...               0.231726\n",
              "19                    21  ...               0.222395\n",
              "20                    22  ...               0.220840\n",
              "21                    23  ...               0.214619\n",
              "22                    24  ...               0.219285\n",
              "23                    25  ...               0.219285\n",
              "24                    26  ...               0.219285\n",
              "25                    27  ...               0.217729\n",
              "26                    28  ...               0.214619\n",
              "27                    29  ...               0.214619\n",
              "28                    30  ...               0.213064\n",
              "29                    31  ...               0.213064\n",
              "30                    32  ...               0.211509\n",
              "31                    33  ...               0.211509\n",
              "32                    34  ...               0.203733\n",
              "33                    35  ...               0.203733\n",
              "34                    36  ...               0.203733\n",
              "35                    37  ...               0.203733\n",
              "36                    38  ...               0.203733\n",
              "37                    39  ...               0.203733\n",
              "38                    40  ...               0.203733\n",
              "39                    41  ...               0.203733\n",
              "40                    42  ...               0.217729\n",
              "41                    43  ...               0.217729\n",
              "42                    44  ...               0.217729\n",
              "43                    45  ...               0.214619\n",
              "44                    46  ...               0.214619\n",
              "45                    47  ...               0.214619\n",
              "46                    48  ...               0.217729\n",
              "47                    49  ...               0.219285\n",
              "\n",
              "[48 rows x 4 columns]"
            ]
          },
          "metadata": {},
          "execution_count": 57
        }
      ]
    },
    {
      "cell_type": "markdown",
      "metadata": {
        "id": "Rf8i8Ayas3g7"
      },
      "source": [
        "At min_samples_leaf = 38, the  Validation and Test Error is the least.\n",
        "\n",
        "Setting the hyperparameter min_samples_leaf to 38, and computing the accuracy of the model on the training ,validation and test sets using model.score\n"
      ]
    },
    {
      "cell_type": "code",
      "metadata": {
        "id": "it1tf2eftHpc"
      },
      "source": [
        "model = DecisionTreeClassifier(min_samples_leaf=38, random_state=42)"
      ],
      "execution_count": null,
      "outputs": []
    },
    {
      "cell_type": "code",
      "metadata": {
        "colab": {
          "base_uri": "https://localhost:8080/"
        },
        "id": "bYPQ6duztHph",
        "outputId": "025e1259-eb09-4b5c-98fb-ee518b65a155"
      },
      "source": [
        "model.fit(train_inputs, train_targets)"
      ],
      "execution_count": null,
      "outputs": [
        {
          "output_type": "execute_result",
          "data": {
            "text/plain": [
              "DecisionTreeClassifier(ccp_alpha=0.0, class_weight=None, criterion='gini',\n",
              "                       max_depth=None, max_features=None, max_leaf_nodes=None,\n",
              "                       min_impurity_decrease=0.0, min_impurity_split=None,\n",
              "                       min_samples_leaf=38, min_samples_split=2,\n",
              "                       min_weight_fraction_leaf=0.0, presort='deprecated',\n",
              "                       random_state=42, splitter='best')"
            ]
          },
          "metadata": {},
          "execution_count": 59
        }
      ]
    },
    {
      "cell_type": "code",
      "metadata": {
        "colab": {
          "base_uri": "https://localhost:8080/"
        },
        "id": "BW_ImY-ctHpi",
        "outputId": "6038da38-cebe-492a-cd3f-fbe8ee2285f9"
      },
      "source": [
        "model.score(train_inputs, train_targets)"
      ],
      "execution_count": null,
      "outputs": [
        {
          "output_type": "execute_result",
          "data": {
            "text/plain": [
              "0.8117219917012448"
            ]
          },
          "metadata": {},
          "execution_count": 60
        }
      ]
    },
    {
      "cell_type": "code",
      "metadata": {
        "colab": {
          "base_uri": "https://localhost:8080/"
        },
        "id": "fmpOmKvMtHpi",
        "outputId": "4cff7d5e-d4db-404d-ca7f-8bba981f80b1"
      },
      "source": [
        "model.score(val_inputs, val_targets)"
      ],
      "execution_count": null,
      "outputs": [
        {
          "output_type": "execute_result",
          "data": {
            "text/plain": [
              "0.7542768273716952"
            ]
          },
          "metadata": {},
          "execution_count": 61
        }
      ]
    },
    {
      "cell_type": "code",
      "metadata": {
        "colab": {
          "base_uri": "https://localhost:8080/"
        },
        "id": "C6UmCqihoV8C",
        "outputId": "121306bb-09d8-4ccb-83ba-51263261e7b6"
      },
      "source": [
        "model.score(test_inputs, test_targets)"
      ],
      "execution_count": null,
      "outputs": [
        {
          "output_type": "execute_result",
          "data": {
            "text/plain": [
              "0.7589424572317263"
            ]
          },
          "metadata": {},
          "execution_count": 62
        }
      ]
    },
    {
      "cell_type": "markdown",
      "metadata": {
        "id": "Vk1Je6-VtHpj"
      },
      "source": [
        "After setting the min_sample_leaf to 38, the training accuracy of the model has reduced from 100% to 81.17% ,  the validation accuracy of the model has increased from 73% to 75.42% while the test prediction accuracy increased from 74.4% to 75.8%\n"
      ]
    },
    {
      "cell_type": "markdown",
      "metadata": {
        "id": "DBCkByzTtkDU"
      },
      "source": [
        "### `Combining optimal values for the hyperparameters max_depth and  min_samples_split and retraining the model for accuracy`\n",
        "\n",
        "\n"
      ]
    },
    {
      "cell_type": "code",
      "metadata": {
        "id": "j5GGHJoJuDMJ"
      },
      "source": [
        "model = DecisionTreeClassifier(max_depth=5, min_samples_split=38, random_state=42)"
      ],
      "execution_count": null,
      "outputs": []
    },
    {
      "cell_type": "code",
      "metadata": {
        "colab": {
          "base_uri": "https://localhost:8080/"
        },
        "id": "TDkIWG36uDMK",
        "outputId": "83c0557e-33eb-41cf-e54d-8449a8b83ee3"
      },
      "source": [
        "model.fit(train_inputs, train_targets)"
      ],
      "execution_count": null,
      "outputs": [
        {
          "output_type": "execute_result",
          "data": {
            "text/plain": [
              "DecisionTreeClassifier(ccp_alpha=0.0, class_weight=None, criterion='gini',\n",
              "                       max_depth=5, max_features=None, max_leaf_nodes=None,\n",
              "                       min_impurity_decrease=0.0, min_impurity_split=None,\n",
              "                       min_samples_leaf=1, min_samples_split=38,\n",
              "                       min_weight_fraction_leaf=0.0, presort='deprecated',\n",
              "                       random_state=42, splitter='best')"
            ]
          },
          "metadata": {},
          "execution_count": 64
        }
      ]
    },
    {
      "cell_type": "code",
      "metadata": {
        "colab": {
          "base_uri": "https://localhost:8080/"
        },
        "id": "Rv7my4WmuDML",
        "outputId": "b3154339-8555-47f9-80a9-b95f25b2dcf6"
      },
      "source": [
        "model.score(train_inputs, train_targets)"
      ],
      "execution_count": null,
      "outputs": [
        {
          "output_type": "execute_result",
          "data": {
            "text/plain": [
              "0.8267634854771784"
            ]
          },
          "metadata": {},
          "execution_count": 65
        }
      ]
    },
    {
      "cell_type": "code",
      "metadata": {
        "colab": {
          "base_uri": "https://localhost:8080/"
        },
        "id": "3cIW6_XguDMM",
        "outputId": "d6096edd-37e3-463f-d357-eb40c96f3aae"
      },
      "source": [
        "model.score(val_inputs, val_targets)"
      ],
      "execution_count": null,
      "outputs": [
        {
          "output_type": "execute_result",
          "data": {
            "text/plain": [
              "0.776049766718507"
            ]
          },
          "metadata": {},
          "execution_count": 66
        }
      ]
    },
    {
      "cell_type": "code",
      "metadata": {
        "colab": {
          "base_uri": "https://localhost:8080/"
        },
        "id": "4XQhBCFMseN-",
        "outputId": "1361aa5a-2b48-4024-b93f-71dbad326eac"
      },
      "source": [
        "model.score(test_inputs, test_targets)"
      ],
      "execution_count": null,
      "outputs": [
        {
          "output_type": "execute_result",
          "data": {
            "text/plain": [
              "0.807153965785381"
            ]
          },
          "metadata": {},
          "execution_count": 67
        }
      ]
    },
    {
      "cell_type": "markdown",
      "metadata": {
        "id": "mXkZ7fMfvPcV"
      },
      "source": [
        "After setting the `min_sample_split` 38 and the `max_depth` to 5, the training accuracy of the model has reduced from 100% to 82.6% , the validation accuracy of the model has increased from 73% to 77.6% while the test prediction accuracy increased from 74.4% to 80.7%\n",
        "\n",
        "\n",
        "The combination of `max_depth` =5 and `min_sample_split`=38 results in the highest validation and test prediction accuracy in comparison to the individual hyperparameter tuned validation accuracies.\n",
        "\n",
        "\n",
        "\n"
      ]
    },
    {
      "cell_type": "markdown",
      "metadata": {
        "id": "rqfF5mXwUjI4"
      },
      "source": [
        "# Random Forest Model\n",
        "Training the RandomForest Model  to predict the 'is_ultra' values.\n",
        "\n",
        "To train a Random Forest model, we use the RandomForestClassifier class from Scikit-learn."
      ]
    },
    {
      "cell_type": "code",
      "metadata": {
        "id": "0qFk4_ozC4Lv"
      },
      "source": [
        "random_model = RandomForestClassifier(n_jobs=-1, random_state=42)"
      ],
      "execution_count": 71,
      "outputs": []
    },
    {
      "cell_type": "code",
      "metadata": {
        "colab": {
          "base_uri": "https://localhost:8080/"
        },
        "id": "aZzjWh4ZC4O5",
        "outputId": "09e4e40b-1bf7-405f-8992-8ef62f3d780e"
      },
      "source": [
        "random_model.fit(train_inputs, train_targets)"
      ],
      "execution_count": 72,
      "outputs": [
        {
          "output_type": "execute_result",
          "data": {
            "text/plain": [
              "RandomForestClassifier(bootstrap=True, ccp_alpha=0.0, class_weight=None,\n",
              "                       criterion='gini', max_depth=None, max_features='auto',\n",
              "                       max_leaf_nodes=None, max_samples=None,\n",
              "                       min_impurity_decrease=0.0, min_impurity_split=None,\n",
              "                       min_samples_leaf=1, min_samples_split=2,\n",
              "                       min_weight_fraction_leaf=0.0, n_estimators=100,\n",
              "                       n_jobs=-1, oob_score=False, random_state=42, verbose=0,\n",
              "                       warm_start=False)"
            ]
          },
          "metadata": {},
          "execution_count": 72
        }
      ]
    },
    {
      "cell_type": "markdown",
      "metadata": {
        "id": "g48uQmdMHfSO"
      },
      "source": [
        "### Evaluating the Random Forest \n",
        "\n",
        "Evaluating the Random Forest using the accuracy score."
      ]
    },
    {
      "cell_type": "code",
      "metadata": {
        "colab": {
          "base_uri": "https://localhost:8080/"
        },
        "id": "UxQsG0waC4TJ",
        "outputId": "884d9c41-3b50-4580-8027-b01ddf5a8c93"
      },
      "source": [
        "random_model.score(train_inputs, train_targets)"
      ],
      "execution_count": 73,
      "outputs": [
        {
          "output_type": "execute_result",
          "data": {
            "text/plain": [
              "1.0"
            ]
          },
          "metadata": {},
          "execution_count": 73
        }
      ]
    },
    {
      "cell_type": "code",
      "metadata": {
        "colab": {
          "base_uri": "https://localhost:8080/"
        },
        "id": "3f-uIoRyC4W-",
        "outputId": "911d503b-7050-4fe3-d4a9-5e9a38a4cc0e"
      },
      "source": [
        "random_model.score(val_inputs, val_targets)"
      ],
      "execution_count": 74,
      "outputs": [
        {
          "output_type": "execute_result",
          "data": {
            "text/plain": [
              "0.7947122861586314"
            ]
          },
          "metadata": {},
          "execution_count": 74
        }
      ]
    },
    {
      "cell_type": "code",
      "metadata": {
        "colab": {
          "base_uri": "https://localhost:8080/"
        },
        "id": "brYahXK1t04S",
        "outputId": "c407186a-ef3b-4791-8115-02848032517c"
      },
      "source": [
        "random_model.score(test_inputs, test_targets)"
      ],
      "execution_count": 75,
      "outputs": [
        {
          "output_type": "execute_result",
          "data": {
            "text/plain": [
              "0.8102643856920684"
            ]
          },
          "metadata": {},
          "execution_count": 75
        }
      ]
    },
    {
      "cell_type": "markdown",
      "metadata": {
        "id": "rWuVr5aJIpAp"
      },
      "source": [
        "The training set accuracy is 100%,  the accuracy on the validation set is  79.4% while the accuracy on the test set is 81%\n",
        "\n"
      ]
    },
    {
      "cell_type": "markdown",
      "metadata": {
        "id": "cellular-belfast"
      },
      "source": [
        "## Hyperparameter Tuning with Random Forests\n"
      ]
    },
    {
      "cell_type": "markdown",
      "metadata": {
        "id": "jwproBSqR3gz"
      },
      "source": [
        "### `n_estimators`\n",
        "\n",
        "This argument will set the number of decision trees in the random forest. The default used in training the model was 100\n",
        "\n",
        "Varying the estimators to **300 estimators**"
      ]
    },
    {
      "cell_type": "code",
      "metadata": {
        "colab": {
          "base_uri": "https://localhost:8080/"
        },
        "id": "58VfCL1CLXWD",
        "outputId": "8062509c-7289-4e7d-98ee-88f312f615e2"
      },
      "source": [
        "random_model = RandomForestClassifier(random_state=42, n_jobs=-1, n_estimators=300)\n",
        "random_model.fit(train_inputs, train_targets)"
      ],
      "execution_count": 76,
      "outputs": [
        {
          "output_type": "execute_result",
          "data": {
            "text/plain": [
              "RandomForestClassifier(bootstrap=True, ccp_alpha=0.0, class_weight=None,\n",
              "                       criterion='gini', max_depth=None, max_features='auto',\n",
              "                       max_leaf_nodes=None, max_samples=None,\n",
              "                       min_impurity_decrease=0.0, min_impurity_split=None,\n",
              "                       min_samples_leaf=1, min_samples_split=2,\n",
              "                       min_weight_fraction_leaf=0.0, n_estimators=300,\n",
              "                       n_jobs=-1, oob_score=False, random_state=42, verbose=0,\n",
              "                       warm_start=False)"
            ]
          },
          "metadata": {},
          "execution_count": 76
        }
      ]
    },
    {
      "cell_type": "code",
      "metadata": {
        "colab": {
          "base_uri": "https://localhost:8080/"
        },
        "id": "ALCafmazLYDg",
        "outputId": "6ba16225-19de-432d-8a78-a6880be03f1b"
      },
      "source": [
        "random_model.score(train_inputs, train_targets)"
      ],
      "execution_count": 77,
      "outputs": [
        {
          "output_type": "execute_result",
          "data": {
            "text/plain": [
              "1.0"
            ]
          },
          "metadata": {},
          "execution_count": 77
        }
      ]
    },
    {
      "cell_type": "code",
      "metadata": {
        "colab": {
          "base_uri": "https://localhost:8080/"
        },
        "id": "p-exlxi_LYM_",
        "outputId": "47b76281-4ba4-4190-954f-0b734feacd7c"
      },
      "source": [
        "random_model.score(val_inputs, val_targets)"
      ],
      "execution_count": 78,
      "outputs": [
        {
          "output_type": "execute_result",
          "data": {
            "text/plain": [
              "0.7993779160186625"
            ]
          },
          "metadata": {},
          "execution_count": 78
        }
      ]
    },
    {
      "cell_type": "code",
      "metadata": {
        "colab": {
          "base_uri": "https://localhost:8080/"
        },
        "id": "SqZPn9CHuH0k",
        "outputId": "4f585a09-f2e5-4ac6-9a0c-ac6ae62bf5d7"
      },
      "source": [
        "random_model.score(test_inputs, test_targets)"
      ],
      "execution_count": 79,
      "outputs": [
        {
          "output_type": "execute_result",
          "data": {
            "text/plain": [
              "0.8102643856920684"
            ]
          },
          "metadata": {},
          "execution_count": 79
        }
      ]
    },
    {
      "cell_type": "markdown",
      "metadata": {
        "id": "8Ez9kSgAN2f6"
      },
      "source": [
        "After setting the n_estimators=300, the training accuracy of the model has remained 100% ,  the validation accuracy of the model has increased slightly from 79.4% to 79.9% while the accuracy on the test set remained at 81% "
      ]
    },
    {
      "cell_type": "code",
      "metadata": {
        "colab": {
          "base_uri": "https://localhost:8080/"
        },
        "id": "di-XUnyrMco7",
        "outputId": "34d0b218-578f-423a-ea05-cddea2a3dba3"
      },
      "source": [
        "#Varying the estimators to n_estimators=200\n",
        "\n",
        "random_model = RandomForestClassifier(random_state=42, n_jobs=-1, n_estimators=200)\n",
        "random_model.fit(train_inputs, train_targets)"
      ],
      "execution_count": 80,
      "outputs": [
        {
          "output_type": "execute_result",
          "data": {
            "text/plain": [
              "RandomForestClassifier(bootstrap=True, ccp_alpha=0.0, class_weight=None,\n",
              "                       criterion='gini', max_depth=None, max_features='auto',\n",
              "                       max_leaf_nodes=None, max_samples=None,\n",
              "                       min_impurity_decrease=0.0, min_impurity_split=None,\n",
              "                       min_samples_leaf=1, min_samples_split=2,\n",
              "                       min_weight_fraction_leaf=0.0, n_estimators=200,\n",
              "                       n_jobs=-1, oob_score=False, random_state=42, verbose=0,\n",
              "                       warm_start=False)"
            ]
          },
          "metadata": {},
          "execution_count": 80
        }
      ]
    },
    {
      "cell_type": "code",
      "metadata": {
        "colab": {
          "base_uri": "https://localhost:8080/"
        },
        "id": "imWHV2dSMco8",
        "outputId": "bf0fcf45-1d0a-40c0-aa7c-f3d23f056667"
      },
      "source": [
        "random_model.score(train_inputs, train_targets)"
      ],
      "execution_count": 81,
      "outputs": [
        {
          "output_type": "execute_result",
          "data": {
            "text/plain": [
              "1.0"
            ]
          },
          "metadata": {},
          "execution_count": 81
        }
      ]
    },
    {
      "cell_type": "code",
      "metadata": {
        "colab": {
          "base_uri": "https://localhost:8080/"
        },
        "id": "LrtwHg_pMco8",
        "outputId": "03a861ab-9af9-468b-b01e-06d5c862a5bd"
      },
      "source": [
        "random_model.score(val_inputs, val_targets)"
      ],
      "execution_count": 82,
      "outputs": [
        {
          "output_type": "execute_result",
          "data": {
            "text/plain": [
              "0.7962674961119751"
            ]
          },
          "metadata": {},
          "execution_count": 82
        }
      ]
    },
    {
      "cell_type": "code",
      "metadata": {
        "colab": {
          "base_uri": "https://localhost:8080/"
        },
        "id": "Qk5wgGjKuoq5",
        "outputId": "3adcdfe0-477f-478a-ebe4-7b8b69912bed"
      },
      "source": [
        "random_model.score(test_inputs, test_targets)"
      ],
      "execution_count": 83,
      "outputs": [
        {
          "output_type": "execute_result",
          "data": {
            "text/plain": [
              "0.8102643856920684"
            ]
          },
          "metadata": {},
          "execution_count": 83
        }
      ]
    },
    {
      "cell_type": "markdown",
      "metadata": {
        "id": "cO88LJ9jNUrd"
      },
      "source": [
        "After setting the n_estimators=200, the training accuracy of the model has remained 100% , the validation accuracy of the model has dropped from 79.9% to 79.6% while the accuracy on the test set remained at 81% \n"
      ]
    },
    {
      "cell_type": "code",
      "metadata": {
        "colab": {
          "base_uri": "https://localhost:8080/"
        },
        "id": "OIKKMAB8OIn1",
        "outputId": "28f3ac0e-6e9e-41b4-cdf4-293d01612788"
      },
      "source": [
        "#Varying the estimators to n_estimators=320\n",
        "\n",
        "random_model = RandomForestClassifier(random_state=42, n_jobs=-1, n_estimators=320)\n",
        "random_model.fit(train_inputs, train_targets)"
      ],
      "execution_count": 85,
      "outputs": [
        {
          "output_type": "execute_result",
          "data": {
            "text/plain": [
              "RandomForestClassifier(bootstrap=True, ccp_alpha=0.0, class_weight=None,\n",
              "                       criterion='gini', max_depth=None, max_features='auto',\n",
              "                       max_leaf_nodes=None, max_samples=None,\n",
              "                       min_impurity_decrease=0.0, min_impurity_split=None,\n",
              "                       min_samples_leaf=1, min_samples_split=2,\n",
              "                       min_weight_fraction_leaf=0.0, n_estimators=320,\n",
              "                       n_jobs=-1, oob_score=False, random_state=42, verbose=0,\n",
              "                       warm_start=False)"
            ]
          },
          "metadata": {},
          "execution_count": 85
        }
      ]
    },
    {
      "cell_type": "code",
      "metadata": {
        "colab": {
          "base_uri": "https://localhost:8080/"
        },
        "id": "XTp3tfkxOIn2",
        "outputId": "8da16753-30d8-40d0-f510-2eed4aa0fe92"
      },
      "source": [
        "random_model.score(train_inputs, train_targets)"
      ],
      "execution_count": 86,
      "outputs": [
        {
          "output_type": "execute_result",
          "data": {
            "text/plain": [
              "1.0"
            ]
          },
          "metadata": {},
          "execution_count": 86
        }
      ]
    },
    {
      "cell_type": "code",
      "metadata": {
        "colab": {
          "base_uri": "https://localhost:8080/"
        },
        "id": "uEjTTOSIOIn2",
        "outputId": "1add6c08-9353-4ed4-dc59-565698688eae"
      },
      "source": [
        "random_model.score(val_inputs, val_targets)"
      ],
      "execution_count": 87,
      "outputs": [
        {
          "output_type": "execute_result",
          "data": {
            "text/plain": [
              "0.7947122861586314"
            ]
          },
          "metadata": {},
          "execution_count": 87
        }
      ]
    },
    {
      "cell_type": "code",
      "metadata": {
        "colab": {
          "base_uri": "https://localhost:8080/"
        },
        "id": "61pWkkzpvGfG",
        "outputId": "790b17b6-06be-4253-f99f-2f007b9425a1"
      },
      "source": [
        "random_model.score(test_inputs, test_targets)"
      ],
      "execution_count": 88,
      "outputs": [
        {
          "output_type": "execute_result",
          "data": {
            "text/plain": [
              "0.8087091757387247"
            ]
          },
          "metadata": {},
          "execution_count": 88
        }
      ]
    },
    {
      "cell_type": "markdown",
      "metadata": {
        "id": "nvTd-SR1OFKi"
      },
      "source": [
        "After setting the n_estimators=320, the training accuracy of the model has remained 100% , the validation accuracy of the model has dropped from 79.9% to \n",
        "79.4% while the accuracy on the test set dropped from 81% to 80%\n",
        "\n",
        "\n",
        "Therefore, n_estimators=300 gives the best test prediction accuracy score of 81%"
      ]
    },
    {
      "cell_type": "markdown",
      "metadata": {
        "id": "-f37oh1Lwn4i"
      },
      "source": [
        "#Logistic Regression Model\n",
        "\n",
        "Training a logistic Regression Model to predict the 'is_ultra' values"
      ]
    },
    {
      "cell_type": "code",
      "metadata": {
        "id": "k1RO2IyLPgTb"
      },
      "source": [
        "logistic_model = LogisticRegression(solver='liblinear')"
      ],
      "execution_count": 91,
      "outputs": []
    },
    {
      "cell_type": "code",
      "metadata": {
        "colab": {
          "base_uri": "https://localhost:8080/"
        },
        "id": "HHqhyIkPPgcP",
        "outputId": "d4fe57d1-389a-4a10-e7f8-5cb97d619291"
      },
      "source": [
        "logistic_model.fit(train_inputs, train_targets)"
      ],
      "execution_count": 92,
      "outputs": [
        {
          "output_type": "execute_result",
          "data": {
            "text/plain": [
              "LogisticRegression(C=1.0, class_weight=None, dual=False, fit_intercept=True,\n",
              "                   intercept_scaling=1, l1_ratio=None, max_iter=100,\n",
              "                   multi_class='auto', n_jobs=None, penalty='l2',\n",
              "                   random_state=None, solver='liblinear', tol=0.0001, verbose=0,\n",
              "                   warm_start=False)"
            ]
          },
          "metadata": {},
          "execution_count": 92
        }
      ]
    },
    {
      "cell_type": "code",
      "metadata": {
        "id": "yB8RKP7EPgg4"
      },
      "source": [
        "train_preds = logistic_model.predict(train_inputs)"
      ],
      "execution_count": 93,
      "outputs": []
    },
    {
      "cell_type": "markdown",
      "metadata": {
        "id": "hearing-employee"
      },
      "source": [
        "Testing the accuracy of the model's predictions by computing the percentage of matching values in `train_preds` and `train_targets` using the `accuracy_score` function from `sklearn.metrics`."
      ]
    },
    {
      "cell_type": "code",
      "metadata": {
        "colab": {
          "base_uri": "https://localhost:8080/"
        },
        "id": "LnhSe_jtQPlP",
        "outputId": "122d3e95-1426-4b6b-ef52-a76cad45d79d"
      },
      "source": [
        "accuracy_score(train_targets, train_preds)"
      ],
      "execution_count": 95,
      "outputs": [
        {
          "output_type": "execute_result",
          "data": {
            "text/plain": [
              "0.7422199170124482"
            ]
          },
          "metadata": {},
          "execution_count": 95
        }
      ]
    },
    {
      "cell_type": "markdown",
      "metadata": {
        "id": "blocked-estate"
      },
      "source": [
        "The model achieves an accuracy of 74% on the training set. \n",
        "\n"
      ]
    },
    {
      "cell_type": "code",
      "metadata": {
        "colab": {
          "base_uri": "https://localhost:8080/"
        },
        "id": "LKwjsSVGQqof",
        "outputId": "766330d4-5e01-468a-bdfa-0e1074e58da7"
      },
      "source": [
        "confusion_matrix(train_targets, train_preds, normalize='true')"
      ],
      "execution_count": 98,
      "outputs": [
        {
          "output_type": "execute_result",
          "data": {
            "text/plain": [
              "array([[0.98185941, 0.01814059],\n",
              "       [0.78181818, 0.21818182]])"
            ]
          },
          "metadata": {},
          "execution_count": 98
        }
      ]
    },
    {
      "cell_type": "code",
      "metadata": {
        "colab": {
          "base_uri": "https://localhost:8080/"
        },
        "id": "SILKq3jpWgez",
        "outputId": "bc9e1634-f62c-46ad-d1f2-57c15c4b1f69"
      },
      "source": [
        "# Computing the model's accuracy on the validation and test datasets\n",
        "val_preds = logistic_model.predict(val_inputs)\n",
        "accuracy_score(val_targets, val_preds)"
      ],
      "execution_count": 100,
      "outputs": [
        {
          "output_type": "execute_result",
          "data": {
            "text/plain": [
              "0.7465007776049767"
            ]
          },
          "metadata": {},
          "execution_count": 100
        }
      ]
    },
    {
      "cell_type": "code",
      "metadata": {
        "colab": {
          "base_uri": "https://localhost:8080/"
        },
        "id": "5R2BjsaiY7YS",
        "outputId": "d679a9e8-d8d2-443a-fd7c-442e60efb6ff"
      },
      "source": [
        "test_preds = logistic_model.predict(test_inputs)\n",
        "accuracy_score(test_targets, test_preds)"
      ],
      "execution_count": 101,
      "outputs": [
        {
          "output_type": "execute_result",
          "data": {
            "text/plain": [
              "0.7589424572317263"
            ]
          },
          "metadata": {},
          "execution_count": 101
        }
      ]
    },
    {
      "cell_type": "markdown",
      "metadata": {
        "id": "reflected-garage"
      },
      "source": [
        "The accuracy of the model on the validation set is 74.6%\n",
        "and on the test sets are 75.8% respectively.\n",
        "\n",
        "Both are improvements on the training set of  which suggests that our model generalizes well to data it hasn't seen before. \n",
        "\n"
      ]
    },
    {
      "cell_type": "markdown",
      "metadata": {
        "id": "z3qNgw9TUjSb"
      },
      "source": [
        "# Sanity Check"
      ]
    },
    {
      "cell_type": "code",
      "metadata": {
        "colab": {
          "base_uri": "https://localhost:8080/"
        },
        "id": "_e0s5jH4PjtU",
        "outputId": "67d574f4-4572-43fd-b357-b846c38e9205"
      },
      "source": [
        "pd.value_counts(test_preds)"
      ],
      "execution_count": 102,
      "outputs": [
        {
          "output_type": "execute_result",
          "data": {
            "text/plain": [
              "0    582\n",
              "1     61\n",
              "dtype: int64"
            ]
          },
          "metadata": {},
          "execution_count": 102
        }
      ]
    },
    {
      "cell_type": "code",
      "metadata": {
        "colab": {
          "base_uri": "https://localhost:8080/"
        },
        "id": "j8QZaUCqzkSA",
        "outputId": "c30571ef-a444-4f99-af3d-865d7b8af522"
      },
      "source": [
        "pd.value_counts(val_preds)"
      ],
      "execution_count": 103,
      "outputs": [
        {
          "output_type": "execute_result",
          "data": {
            "text/plain": [
              "0    594\n",
              "1     49\n",
              "dtype: int64"
            ]
          },
          "metadata": {},
          "execution_count": 103
        }
      ]
    },
    {
      "cell_type": "code",
      "metadata": {
        "colab": {
          "base_uri": "https://localhost:8080/",
          "height": 318
        },
        "id": "L3Lhm8CLM-pi",
        "outputId": "965f846b-0723-4484-e411-2d160c44e643"
      },
      "source": [
        "class_frequency = pd.value_counts(test_preds)\n",
        "print(class_frequency)\n",
        "class_frequency.plot(kind ='pie')\n"
      ],
      "execution_count": 111,
      "outputs": [
        {
          "output_type": "stream",
          "name": "stdout",
          "text": [
            "0    582\n",
            "1     61\n",
            "dtype: int64\n"
          ]
        },
        {
          "output_type": "execute_result",
          "data": {
            "text/plain": [
              "<matplotlib.axes._subplots.AxesSubplot at 0x7fbcc2193810>"
            ]
          },
          "metadata": {},
          "execution_count": 111
        },
        {
          "output_type": "display_data",
          "data": {
            "image/png": "[encoded data removed]",
            "text/plain": [
              "<Figure size 432x288 with 1 Axes>"
            ]
          },
          "metadata": {}
        }
      ]
    },
    {
      "cell_type": "markdown",
      "metadata": {
        "id": "Ea46r5krSG7N"
      },
      "source": [
        "#Summary of Findings and Recommendations"
      ]
    },
    {
      "cell_type": "markdown",
      "metadata": {
        "id": "_OgKmNdLQCrM"
      },
      "source": [
        "\n",
        "All models show improvements on the training set of  which suggests that the models generalize well to data not hasn't seen before. \n",
        "\n",
        "Random Forest Model:\n",
        "After tuning the hyperparamter `n_estimators` to 300 the Random Forest achieved the best accuracy score on the users dataset at 81%\n",
        "\n",
        "Decision Tree Model: \n",
        "After tuning the hyperparameters `min_sample_split` 38 and the `max_depth` to 5, decision tree model gives the second best accuracy on the test data at 80.7%\n",
        "\n",
        "Logistic Regression Model:\n",
        "The accuracy of the model on the test sets are 75.8% respectively.\n",
        "\n",
        "\n",
        "In this case i advise Megaline to use the  Random Forest model  while making the decison to recommend the Smart or Ultra plans to their users -"
      ]
    }
  ]
}